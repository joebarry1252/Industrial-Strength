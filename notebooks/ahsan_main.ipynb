{
 "cells": [
  {
   "cell_type": "code",
   "execution_count": 4,
   "metadata": {},
   "outputs": [],
   "source": [
    "import pandas as pd\n",
    "import numpy as np\n",
    "from pathlib import Path\n",
    "import matplotlib.pyplot as plt\n",
    "%matplotlib inline\n",
    "\n",
    "from matplotlib.pylab import rcParams\n",
    "rcParams['figure.figsize']=20,10\n",
    "from keras.models import Sequential\n",
    "from keras.layers import LSTM,Dropout,Dense\n",
    "\n",
    "\n",
    "from sklearn.preprocessing import MinMaxScaler"
   ]
  },
  {
   "cell_type": "code",
   "execution_count": 15,
   "metadata": {},
   "outputs": [
    {
     "data": {
      "text/html": [
       "<div>\n",
       "<style scoped>\n",
       "    .dataframe tbody tr th:only-of-type {\n",
       "        vertical-align: middle;\n",
       "    }\n",
       "\n",
       "    .dataframe tbody tr th {\n",
       "        vertical-align: top;\n",
       "    }\n",
       "\n",
       "    .dataframe thead th {\n",
       "        text-align: right;\n",
       "    }\n",
       "</style>\n",
       "<table border=\"1\" class=\"dataframe\">\n",
       "  <thead>\n",
       "    <tr style=\"text-align: right;\">\n",
       "      <th></th>\n",
       "      <th>Close/Last</th>\n",
       "      <th>Volume</th>\n",
       "      <th>Open</th>\n",
       "      <th>High</th>\n",
       "      <th>Low</th>\n",
       "    </tr>\n",
       "    <tr>\n",
       "      <th>Date</th>\n",
       "      <th></th>\n",
       "      <th></th>\n",
       "      <th></th>\n",
       "      <th></th>\n",
       "      <th></th>\n",
       "    </tr>\n",
       "  </thead>\n",
       "  <tbody>\n",
       "    <tr>\n",
       "      <th>2021-06-25</th>\n",
       "      <td>$96</td>\n",
       "      <td>2076210</td>\n",
       "      <td>$95.76</td>\n",
       "      <td>$96.49</td>\n",
       "      <td>$95.47</td>\n",
       "    </tr>\n",
       "    <tr>\n",
       "      <th>2021-06-24</th>\n",
       "      <td>$95.35</td>\n",
       "      <td>2585059</td>\n",
       "      <td>$94.97</td>\n",
       "      <td>$95.42</td>\n",
       "      <td>$94.14</td>\n",
       "    </tr>\n",
       "    <tr>\n",
       "      <th>2021-06-23</th>\n",
       "      <td>$94.50</td>\n",
       "      <td>2234949</td>\n",
       "      <td>$95.11</td>\n",
       "      <td>$96.03</td>\n",
       "      <td>$94.45</td>\n",
       "    </tr>\n",
       "    <tr>\n",
       "      <th>2021-06-22</th>\n",
       "      <td>$94.78</td>\n",
       "      <td>2058333</td>\n",
       "      <td>$94.75</td>\n",
       "      <td>$95.52</td>\n",
       "      <td>$93.96</td>\n",
       "    </tr>\n",
       "    <tr>\n",
       "      <th>2021-06-21</th>\n",
       "      <td>$94.93</td>\n",
       "      <td>2580230</td>\n",
       "      <td>$93.22</td>\n",
       "      <td>$95.08</td>\n",
       "      <td>$93.01</td>\n",
       "    </tr>\n",
       "  </tbody>\n",
       "</table>\n",
       "</div>"
      ],
      "text/plain": [
       "           Close/Last   Volume     Open     High      Low\n",
       "Date                                                     \n",
       "2021-06-25       $96   2076210  $95.76   $96.49   $95.47 \n",
       "2021-06-24    $95.35   2585059  $94.97   $95.42   $94.14 \n",
       "2021-06-23    $94.50   2234949  $95.11   $96.03   $94.45 \n",
       "2021-06-22    $94.78   2058333  $94.75   $95.52   $93.96 \n",
       "2021-06-21    $94.93   2580230  $93.22   $95.08   $93.01 "
      ]
     },
     "execution_count": 15,
     "metadata": {},
     "output_type": "execute_result"
    }
   ],
   "source": [
    "df = pd.read_csv(Path(\"../data/EMR.csv\"), infer_datetime_format=True, parse_dates=True)\n",
    "df[\"Date\"] = pd.DatetimeIndex(df[\"Date\"]).date\n",
    "df.index = df[\"Date\"]\n",
    "df = df.drop(axis=0, columns=\"Date\")\n",
    "df.head()"
   ]
  },
  {
   "cell_type": "code",
   "execution_count": null,
   "metadata": {},
   "outputs": [],
   "source": []
  }
 ],
 "metadata": {
  "kernelspec": {
   "display_name": "Python 3",
   "language": "python",
   "name": "python3"
  },
  "language_info": {
   "codemirror_mode": {
    "name": "ipython",
    "version": 3
   },
   "file_extension": ".py",
   "mimetype": "text/x-python",
   "name": "python",
   "nbconvert_exporter": "python",
   "pygments_lexer": "ipython3",
   "version": "3.8.5"
  }
 },
 "nbformat": 4,
 "nbformat_minor": 4
}
