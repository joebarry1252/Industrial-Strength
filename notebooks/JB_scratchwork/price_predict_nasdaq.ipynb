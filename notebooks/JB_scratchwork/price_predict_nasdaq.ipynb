{
 "cells": [
  {
   "cell_type": "code",
   "execution_count": 96,
   "id": "412def30-dffb-4139-901a-3d74d0495d2e",
   "metadata": {},
   "outputs": [],
   "source": [
    "import os\n",
    "import numpy as np\n",
    "import pandas as pd\n",
    "import matplotlib.pyplot as plt\n",
    "import alpaca_trade_api as tradeapi\n",
    "from pathlib import Path\n",
    "import requests\n",
    "\n",
    "%matplotlib inline"
   ]
  },
  {
   "cell_type": "code",
   "execution_count": 97,
   "id": "6b40ac4a-dc0a-452a-b2bf-f4b216aae5f6",
   "metadata": {},
   "outputs": [],
   "source": [
    "csvpath = Path(\"CAT_10year.csv\")"
   ]
  },
  {
   "cell_type": "code",
   "execution_count": 98,
   "id": "dfdf6cd3-90fa-4035-8a46-d063997a9d18",
   "metadata": {},
   "outputs": [],
   "source": [
    "cat_df = pd.read_csv(csvpath, index_col='Date', infer_datetime_format=True, parse_dates=True)"
   ]
  },
  {
   "cell_type": "code",
   "execution_count": 99,
   "id": "709728a8-f766-4f01-b82b-a47d8c2f717e",
   "metadata": {},
   "outputs": [
    {
     "data": {
      "text/html": [
       "<div>\n",
       "<style scoped>\n",
       "    .dataframe tbody tr th:only-of-type {\n",
       "        vertical-align: middle;\n",
       "    }\n",
       "\n",
       "    .dataframe tbody tr th {\n",
       "        vertical-align: top;\n",
       "    }\n",
       "\n",
       "    .dataframe thead th {\n",
       "        text-align: right;\n",
       "    }\n",
       "</style>\n",
       "<table border=\"1\" class=\"dataframe\">\n",
       "  <thead>\n",
       "    <tr style=\"text-align: right;\">\n",
       "      <th></th>\n",
       "      <th>Close/Last</th>\n",
       "      <th>Volume</th>\n",
       "      <th>Open</th>\n",
       "      <th>High</th>\n",
       "      <th>Low</th>\n",
       "    </tr>\n",
       "    <tr>\n",
       "      <th>Date</th>\n",
       "      <th></th>\n",
       "      <th></th>\n",
       "      <th></th>\n",
       "      <th></th>\n",
       "      <th></th>\n",
       "    </tr>\n",
       "  </thead>\n",
       "  <tbody>\n",
       "    <tr>\n",
       "      <th>2021-06-28</th>\n",
       "      <td>$216.27</td>\n",
       "      <td>3171958</td>\n",
       "      <td>$216.45</td>\n",
       "      <td>$216.78</td>\n",
       "      <td>$213.56</td>\n",
       "    </tr>\n",
       "    <tr>\n",
       "      <th>2021-06-25</th>\n",
       "      <td>$216.31</td>\n",
       "      <td>11274170</td>\n",
       "      <td>$221.18</td>\n",
       "      <td>$221.75</td>\n",
       "      <td>$215.27</td>\n",
       "    </tr>\n",
       "    <tr>\n",
       "      <th>2021-06-24</th>\n",
       "      <td>$219.34</td>\n",
       "      <td>6827569</td>\n",
       "      <td>$216.54</td>\n",
       "      <td>$221.93</td>\n",
       "      <td>$215.33</td>\n",
       "    </tr>\n",
       "    <tr>\n",
       "      <th>2021-06-23</th>\n",
       "      <td>$213.79</td>\n",
       "      <td>3283361</td>\n",
       "      <td>$213.60</td>\n",
       "      <td>$216.77</td>\n",
       "      <td>$212.58</td>\n",
       "    </tr>\n",
       "    <tr>\n",
       "      <th>2021-06-22</th>\n",
       "      <td>$213.13</td>\n",
       "      <td>3776376</td>\n",
       "      <td>$213.49</td>\n",
       "      <td>$214.83</td>\n",
       "      <td>$211.18</td>\n",
       "    </tr>\n",
       "  </tbody>\n",
       "</table>\n",
       "</div>"
      ],
      "text/plain": [
       "           Close/Last    Volume     Open     High      Low\n",
       "Date                                                      \n",
       "2021-06-28    $216.27   3171958  $216.45  $216.78  $213.56\n",
       "2021-06-25    $216.31  11274170  $221.18  $221.75  $215.27\n",
       "2021-06-24    $219.34   6827569  $216.54  $221.93  $215.33\n",
       "2021-06-23    $213.79   3283361  $213.60  $216.77  $212.58\n",
       "2021-06-22    $213.13   3776376  $213.49  $214.83  $211.18"
      ]
     },
     "execution_count": 99,
     "metadata": {},
     "output_type": "execute_result"
    }
   ],
   "source": [
    "cat_df.head()"
   ]
  },
  {
   "cell_type": "code",
   "execution_count": 100,
   "id": "dfbe7e6c-fcfb-46a5-9441-8d389458d056",
   "metadata": {},
   "outputs": [],
   "source": [
    "cat_df.sort_index(ascending=True, inplace=True)"
   ]
  },
  {
   "cell_type": "code",
   "execution_count": 101,
   "id": "7243603e-0c51-4ea7-9a76-22b8b2a51fb3",
   "metadata": {},
   "outputs": [],
   "source": [
    "cat_df = cat_df.rename(columns={\"Close/Last\": \"Close\"})"
   ]
  },
  {
   "cell_type": "code",
   "execution_count": 102,
   "id": "dc5a729c-313a-42c1-9569-79cd29093049",
   "metadata": {},
   "outputs": [
    {
     "data": {
      "text/html": [
       "<div>\n",
       "<style scoped>\n",
       "    .dataframe tbody tr th:only-of-type {\n",
       "        vertical-align: middle;\n",
       "    }\n",
       "\n",
       "    .dataframe tbody tr th {\n",
       "        vertical-align: top;\n",
       "    }\n",
       "\n",
       "    .dataframe thead th {\n",
       "        text-align: right;\n",
       "    }\n",
       "</style>\n",
       "<table border=\"1\" class=\"dataframe\">\n",
       "  <thead>\n",
       "    <tr style=\"text-align: right;\">\n",
       "      <th></th>\n",
       "      <th>Close</th>\n",
       "    </tr>\n",
       "    <tr>\n",
       "      <th>Date</th>\n",
       "      <th></th>\n",
       "    </tr>\n",
       "  </thead>\n",
       "  <tbody>\n",
       "    <tr>\n",
       "      <th>2011-06-29</th>\n",
       "      <td>$103.36</td>\n",
       "    </tr>\n",
       "    <tr>\n",
       "      <th>2011-06-30</th>\n",
       "      <td>$106.46</td>\n",
       "    </tr>\n",
       "    <tr>\n",
       "      <th>2011-07-01</th>\n",
       "      <td>$108.62</td>\n",
       "    </tr>\n",
       "    <tr>\n",
       "      <th>2011-07-05</th>\n",
       "      <td>$108.43</td>\n",
       "    </tr>\n",
       "    <tr>\n",
       "      <th>2011-07-06</th>\n",
       "      <td>$110.08</td>\n",
       "    </tr>\n",
       "    <tr>\n",
       "      <th>...</th>\n",
       "      <td>...</td>\n",
       "    </tr>\n",
       "    <tr>\n",
       "      <th>2021-06-22</th>\n",
       "      <td>$213.13</td>\n",
       "    </tr>\n",
       "    <tr>\n",
       "      <th>2021-06-23</th>\n",
       "      <td>$213.79</td>\n",
       "    </tr>\n",
       "    <tr>\n",
       "      <th>2021-06-24</th>\n",
       "      <td>$219.34</td>\n",
       "    </tr>\n",
       "    <tr>\n",
       "      <th>2021-06-25</th>\n",
       "      <td>$216.31</td>\n",
       "    </tr>\n",
       "    <tr>\n",
       "      <th>2021-06-28</th>\n",
       "      <td>$216.27</td>\n",
       "    </tr>\n",
       "  </tbody>\n",
       "</table>\n",
       "<p>2516 rows × 1 columns</p>\n",
       "</div>"
      ],
      "text/plain": [
       "              Close\n",
       "Date               \n",
       "2011-06-29  $103.36\n",
       "2011-06-30  $106.46\n",
       "2011-07-01  $108.62\n",
       "2011-07-05  $108.43\n",
       "2011-07-06  $110.08\n",
       "...             ...\n",
       "2021-06-22  $213.13\n",
       "2021-06-23  $213.79\n",
       "2021-06-24  $219.34\n",
       "2021-06-25  $216.31\n",
       "2021-06-28  $216.27\n",
       "\n",
       "[2516 rows x 1 columns]"
      ]
     },
     "execution_count": 102,
     "metadata": {},
     "output_type": "execute_result"
    }
   ],
   "source": [
    "cat_df = cat_df[['Close']]\n",
    "cat_df"
   ]
  },
  {
   "cell_type": "code",
   "execution_count": 103,
   "id": "764eaab5-8d9f-456f-8cde-cee754bae68c",
   "metadata": {},
   "outputs": [
    {
     "name": "stderr",
     "output_type": "stream",
     "text": [
      "<ipython-input-103-98ee503b25f7>:1: FutureWarning: The default value of regex will change from True to False in a future version. In addition, single character regular expressions will*not* be treated as literal strings when regex=True.\n",
      "  cat_df['Close'] = cat_df['Close'].str.replace('$', '').astype(float)\n"
     ]
    }
   ],
   "source": [
    "cat_df['Close'] = cat_df['Close'].str.replace('$', '').astype(float)"
   ]
  },
  {
   "cell_type": "code",
   "execution_count": 104,
   "id": "4e55db60-e78d-491d-b345-b3a59fd9861a",
   "metadata": {},
   "outputs": [
    {
     "data": {
      "text/html": [
       "<div>\n",
       "<style scoped>\n",
       "    .dataframe tbody tr th:only-of-type {\n",
       "        vertical-align: middle;\n",
       "    }\n",
       "\n",
       "    .dataframe tbody tr th {\n",
       "        vertical-align: top;\n",
       "    }\n",
       "\n",
       "    .dataframe thead th {\n",
       "        text-align: right;\n",
       "    }\n",
       "</style>\n",
       "<table border=\"1\" class=\"dataframe\">\n",
       "  <thead>\n",
       "    <tr style=\"text-align: right;\">\n",
       "      <th></th>\n",
       "      <th>Close</th>\n",
       "    </tr>\n",
       "    <tr>\n",
       "      <th>Date</th>\n",
       "      <th></th>\n",
       "    </tr>\n",
       "  </thead>\n",
       "  <tbody>\n",
       "    <tr>\n",
       "      <th>2011-06-29</th>\n",
       "      <td>103.36</td>\n",
       "    </tr>\n",
       "    <tr>\n",
       "      <th>2011-06-30</th>\n",
       "      <td>106.46</td>\n",
       "    </tr>\n",
       "    <tr>\n",
       "      <th>2011-07-01</th>\n",
       "      <td>108.62</td>\n",
       "    </tr>\n",
       "    <tr>\n",
       "      <th>2011-07-05</th>\n",
       "      <td>108.43</td>\n",
       "    </tr>\n",
       "    <tr>\n",
       "      <th>2011-07-06</th>\n",
       "      <td>110.08</td>\n",
       "    </tr>\n",
       "    <tr>\n",
       "      <th>...</th>\n",
       "      <td>...</td>\n",
       "    </tr>\n",
       "    <tr>\n",
       "      <th>2021-06-22</th>\n",
       "      <td>213.13</td>\n",
       "    </tr>\n",
       "    <tr>\n",
       "      <th>2021-06-23</th>\n",
       "      <td>213.79</td>\n",
       "    </tr>\n",
       "    <tr>\n",
       "      <th>2021-06-24</th>\n",
       "      <td>219.34</td>\n",
       "    </tr>\n",
       "    <tr>\n",
       "      <th>2021-06-25</th>\n",
       "      <td>216.31</td>\n",
       "    </tr>\n",
       "    <tr>\n",
       "      <th>2021-06-28</th>\n",
       "      <td>216.27</td>\n",
       "    </tr>\n",
       "  </tbody>\n",
       "</table>\n",
       "<p>2516 rows × 1 columns</p>\n",
       "</div>"
      ],
      "text/plain": [
       "             Close\n",
       "Date              \n",
       "2011-06-29  103.36\n",
       "2011-06-30  106.46\n",
       "2011-07-01  108.62\n",
       "2011-07-05  108.43\n",
       "2011-07-06  110.08\n",
       "...            ...\n",
       "2021-06-22  213.13\n",
       "2021-06-23  213.79\n",
       "2021-06-24  219.34\n",
       "2021-06-25  216.31\n",
       "2021-06-28  216.27\n",
       "\n",
       "[2516 rows x 1 columns]"
      ]
     },
     "execution_count": 104,
     "metadata": {},
     "output_type": "execute_result"
    }
   ],
   "source": [
    "cat_df"
   ]
  },
  {
   "cell_type": "code",
   "execution_count": 110,
   "id": "53a4bbe3-c429-46d3-9068-8ec5ee78ddcc",
   "metadata": {},
   "outputs": [],
   "source": [
    "def window_data(df, window, feature_col_number, target_col_number):\n",
    "    X = []\n",
    "    y = []\n",
    "    for i in range(len(df) - window- 1):\n",
    "        features = df.iloc[i : (i + window), feature_col_number]\n",
    "        target = df.iloc[(i + window), target_col_number]\n",
    "        X.append(features)\n",
    "        y.append(target)\n",
    "    return np.array(X), np.array(y).reshape(-1, 1)"
   ]
  },
  {
   "cell_type": "code",
   "execution_count": 114,
   "id": "4e7524a9-45c9-40ed-b83e-856c994f019c",
   "metadata": {},
   "outputs": [
    {
     "name": "stdout",
     "output_type": "stream",
     "text": [
      "X sample values:\n",
      "[[103.36 106.46 108.62 108.43 110.08 111.63 110.41 108.16 106.93 108.64\n",
      "  107.58 109.36 107.8  109.64 110.31 111.6  105.15 105.66 105.2  101.34\n",
      "   99.64  98.79 100.72  97.18  96.28  89.55  90.99  82.6   87.48  83.51\n",
      "   87.25  89.81  91.37  89.35  87.64  83.33  79.97  79.89  82.98  85.4\n",
      "   83.25  85.16  88.15  89.83  91.    88.55  85.38  85.7   88.69  87.04\n",
      "   83.96  83.87  85.02  85.45  86.6   85.9   84.6   83.66  79.36  73.9\n",
      "   73.86  76.85  77.67  75.08  75.39  73.84  70.55  72.54  74.26  77.09\n",
      "   75.52  79.13  80.66  81.7   81.44  84.09  81.52  84.72  83.56  84.26\n",
      "   87.39  91.77  89.89  91.57  96.33  96.85  94.46  91.63  93.94  96.\n",
      "   95.74  95.    95.89  91.64  92.2   96.13  96.53  97.07  95.75  93.81]\n",
      " [106.46 108.62 108.43 110.08 111.63 110.41 108.16 106.93 108.64 107.58\n",
      "  109.36 107.8  109.64 110.31 111.6  105.15 105.66 105.2  101.34  99.64\n",
      "   98.79 100.72  97.18  96.28  89.55  90.99  82.6   87.48  83.51  87.25\n",
      "   89.81  91.37  89.35  87.64  83.33  79.97  79.89  82.98  85.4   83.25\n",
      "   85.16  88.15  89.83  91.    88.55  85.38  85.7   88.69  87.04  83.96\n",
      "   83.87  85.02  85.45  86.6   85.9   84.6   83.66  79.36  73.9   73.86\n",
      "   76.85  77.67  75.08  75.39  73.84  70.55  72.54  74.26  77.09  75.52\n",
      "   79.13  80.66  81.7   81.44  84.09  81.52  84.72  83.56  84.26  87.39\n",
      "   91.77  89.89  91.57  96.33  96.85  94.46  91.63  93.94  96.    95.74\n",
      "   95.    95.89  91.64  92.2   96.13  96.53  97.07  95.75  93.81  93.93]\n",
      " [108.62 108.43 110.08 111.63 110.41 108.16 106.93 108.64 107.58 109.36\n",
      "  107.8  109.64 110.31 111.6  105.15 105.66 105.2  101.34  99.64  98.79\n",
      "  100.72  97.18  96.28  89.55  90.99  82.6   87.48  83.51  87.25  89.81\n",
      "   91.37  89.35  87.64  83.33  79.97  79.89  82.98  85.4   83.25  85.16\n",
      "   88.15  89.83  91.    88.55  85.38  85.7   88.69  87.04  83.96  83.87\n",
      "   85.02  85.45  86.6   85.9   84.6   83.66  79.36  73.9   73.86  76.85\n",
      "   77.67  75.08  75.39  73.84  70.55  72.54  74.26  77.09  75.52  79.13\n",
      "   80.66  81.7   81.44  84.09  81.52  84.72  83.56  84.26  87.39  91.77\n",
      "   89.89  91.57  96.33  96.85  94.46  91.63  93.94  96.    95.74  95.\n",
      "   95.89  91.64  92.2   96.13  96.53  97.07  95.75  93.81  93.93  91.12]] \n",
      "\n",
      "y sample values:\n",
      "[[93.93]\n",
      " [91.12]\n",
      " [89.99]]\n"
     ]
    }
   ],
   "source": [
    "window_size = 100\n",
    "feature_column = 0 # why 0?\n",
    "target_column = 0 # Why 0?\n",
    "\n",
    "X, y = window_data(cat_df, window_size, feature_column, target_column)\n",
    "\n",
    "print (f\"X sample values:\\n{X[:3]} \\n\")\n",
    "print (f\"y sample values:\\n{y[:3]}\")"
   ]
  },
  {
   "cell_type": "code",
   "execution_count": 115,
   "id": "92118b45-8bc1-4fcf-9ec2-c219656556f6",
   "metadata": {},
   "outputs": [],
   "source": [
    "split = int(0.6 * len(X))\n",
    "\n",
    "X_train = X[: split]\n",
    "X_test = X[split:]\n",
    "\n",
    "y_train = y[: split]\n",
    "y_test = y[split:]"
   ]
  },
  {
   "cell_type": "code",
   "execution_count": 116,
   "id": "9bb7e319-ad08-4a4b-aa38-8b2671d7b030",
   "metadata": {},
   "outputs": [
    {
     "data": {
      "text/plain": [
       "array([[ 93.93],\n",
       "       [ 91.12],\n",
       "       [ 89.99],\n",
       "       ...,\n",
       "       [113.6 ],\n",
       "       [115.82],\n",
       "       [114.75]])"
      ]
     },
     "execution_count": 116,
     "metadata": {},
     "output_type": "execute_result"
    }
   ],
   "source": [
    "y_train"
   ]
  },
  {
   "cell_type": "code",
   "execution_count": 82,
   "id": "99dd1894-5c0f-4993-b90a-274ee54aa6f4",
   "metadata": {},
   "outputs": [],
   "source": [
    "\n",
    "\n",
    "# Create a MinMaxScaler object\n",
    "#scaler = MinMaxScaler()\n",
    "\n",
    "# Fit the MinMaxScaler object with the features data X\n",
    "#scaler.fit(X_train.reshape(1,-1))\n",
    "\n",
    "# Scale the features training and testing sets\n",
    "#X_test = scaler.transform(X_test)\n",
    "\n",
    "# Fit the MinMaxScaler object with the target data Y\n",
    "#scaler.fit(y_train)\n",
    "#\n",
    "# Scale the target training and testing sets\n",
    "#y_train = scaler.transform(y_train)\n",
    "#y_test = scaler.transform(y_test)"
   ]
  },
  {
   "cell_type": "code",
   "execution_count": 117,
   "id": "e64fae58-e5ad-437e-819e-841bbf650c5b",
   "metadata": {},
   "outputs": [],
   "source": [
    "# Importing the MinMaxScaler from sklearn\n",
    "from sklearn.preprocessing import MinMaxScaler\n",
    "\n",
    "x_train_scaler = MinMaxScaler()\n",
    "x_test_scaler = MinMaxScaler()\n",
    "y_train_scaler = MinMaxScaler()\n",
    "y_test_scaler = MinMaxScaler()\n",
    "\n",
    "# Fit the scaler for the training Data\n",
    "x_train_scaler.fit(X_train)\n",
    "y_train_scaler.fit(y_train)\n",
    "\n",
    "# Scale the training data\n",
    "X_train = x_train_scaler.transform(X_train)\n",
    "y_train = y_train_scaler.transform(y_train)\n",
    "\n",
    "# Fit the scaler for the testing Data\n",
    "x_test_scaler.fit(X_test)\n",
    "y_test_scaler.fit(y_test)\n",
    "\n",
    "# Scale the y_test data\n",
    "X_test = x_test_scaler.transform(X_test)\n",
    "y_test = y_test_scaler.transform(y_test)"
   ]
  },
  {
   "cell_type": "code",
   "execution_count": 118,
   "id": "c0fd3991-e9a1-4f38-b119-b7857b9b08c6",
   "metadata": {},
   "outputs": [],
   "source": [
    "# Reshape the features data\n",
    "X_train = X_train.reshape((X_train.shape[0], X_train.shape[1], 1))\n",
    "X_test = X_test.reshape((X_test.shape[0], X_test.shape[1], 1))\n",
    "\n",
    "# Print some sample data after reshaping the datasets\n",
    "#print (f\"X_train sample values:\\n{X_train[:3]} \\n\")\n",
    "#print (f\"X_test sample values:\\n{X_test[:3]}\")"
   ]
  },
  {
   "cell_type": "code",
   "execution_count": 119,
   "id": "8a1252e5-b384-489d-908c-5f57a788792c",
   "metadata": {},
   "outputs": [],
   "source": [
    "# Importing required Keras modules\n",
    "from tensorflow.keras.models import Sequential\n",
    "from tensorflow.keras.layers import LSTM, Dense, Dropout"
   ]
  },
  {
   "cell_type": "code",
   "execution_count": 120,
   "id": "208a6cad-344a-478b-a2b0-33c04d1e6318",
   "metadata": {},
   "outputs": [],
   "source": [
    "# Define the LSTM RNN model.\n",
    "model = Sequential()\n",
    "\n",
    "# Initial model setup\n",
    "number_units = window_size\n",
    "# 20% of neurons to be dropped out\n",
    "dropout_fraction = 0.2\n",
    "\n",
    "# Layer 1\n",
    "model.add(LSTM(\n",
    "    units=number_units,\n",
    "    return_sequences=True,\n",
    "    input_shape=(X_train.shape[1], 1))\n",
    "    )\n",
    "model.add(Dropout(dropout_fraction))\n",
    "\n",
    "# Layer 2\n",
    "model.add(LSTM(units=number_units, return_sequences=True))\n",
    "model.add(Dropout(dropout_fraction))\n",
    "\n",
    "# Layer 3\n",
    "model.add(LSTM(units=number_units))\n",
    "model.add(Dropout(dropout_fraction))\n",
    "\n",
    "# Output layer\n",
    "model.add(Dense(1))"
   ]
  },
  {
   "cell_type": "code",
   "execution_count": 121,
   "id": "0444b247-daa7-4f16-9b66-bce68c64f619",
   "metadata": {},
   "outputs": [
    {
     "name": "stdout",
     "output_type": "stream",
     "text": [
      "Model: \"sequential_3\"\n",
      "_________________________________________________________________\n",
      "Layer (type)                 Output Shape              Param #   \n",
      "=================================================================\n",
      "lstm_9 (LSTM)                (None, 100, 100)          40800     \n",
      "_________________________________________________________________\n",
      "dropout_9 (Dropout)          (None, 100, 100)          0         \n",
      "_________________________________________________________________\n",
      "lstm_10 (LSTM)               (None, 100, 100)          80400     \n",
      "_________________________________________________________________\n",
      "dropout_10 (Dropout)         (None, 100, 100)          0         \n",
      "_________________________________________________________________\n",
      "lstm_11 (LSTM)               (None, 100)               80400     \n",
      "_________________________________________________________________\n",
      "dropout_11 (Dropout)         (None, 100)               0         \n",
      "_________________________________________________________________\n",
      "dense_3 (Dense)              (None, 1)                 101       \n",
      "=================================================================\n",
      "Total params: 201,701\n",
      "Trainable params: 201,701\n",
      "Non-trainable params: 0\n",
      "_________________________________________________________________\n"
     ]
    }
   ],
   "source": [
    "model.compile(optimizer=\"adam\", loss=\"mean_squared_error\")\n",
    "model.summary()"
   ]
  },
  {
   "cell_type": "code",
   "execution_count": 122,
   "id": "ac5ca390-9ce6-4e1f-82a0-2255d9adb28d",
   "metadata": {},
   "outputs": [
    {
     "name": "stdout",
     "output_type": "stream",
     "text": [
      "Epoch 1/20\n",
      "15/15 [==============================] - 2s 78ms/step - loss: 0.2020\n",
      "Epoch 2/20\n",
      "15/15 [==============================] - 1s 74ms/step - loss: 0.0352\n",
      "Epoch 3/20\n",
      "15/15 [==============================] - 1s 82ms/step - loss: 0.0321\n",
      "Epoch 4/20\n",
      "15/15 [==============================] - 2s 146ms/step - loss: 0.0131\n",
      "Epoch 5/20\n",
      "15/15 [==============================] - 1s 92ms/step - loss: 0.0088\n",
      "Epoch 6/20\n",
      "15/15 [==============================] - 1s 75ms/step - loss: 0.0086\n",
      "Epoch 7/20\n",
      "15/15 [==============================] - 1s 70ms/step - loss: 0.0112\n",
      "Epoch 8/20\n",
      "15/15 [==============================] - 1s 70ms/step - loss: 0.0132\n",
      "Epoch 9/20\n",
      "15/15 [==============================] - 1s 69ms/step - loss: 0.0150\n",
      "Epoch 10/20\n",
      "15/15 [==============================] - 1s 70ms/step - loss: 0.0118\n",
      "Epoch 11/20\n",
      "15/15 [==============================] - 1s 93ms/step - loss: 0.0080\n",
      "Epoch 12/20\n",
      "15/15 [==============================] - 1s 99ms/step - loss: 0.0079\n",
      "Epoch 13/20\n",
      "15/15 [==============================] - 1s 78ms/step - loss: 0.0085\n",
      "Epoch 14/20\n",
      "15/15 [==============================] - 1s 78ms/step - loss: 0.0099\n",
      "Epoch 15/20\n",
      "15/15 [==============================] - 1s 78ms/step - loss: 0.0110\n",
      "Epoch 16/20\n",
      "15/15 [==============================] - 1s 71ms/step - loss: 0.0108\n",
      "Epoch 17/20\n",
      "15/15 [==============================] - 1s 70ms/step - loss: 0.0084\n",
      "Epoch 18/20\n",
      "15/15 [==============================] - 1s 70ms/step - loss: 0.0083\n",
      "Epoch 19/20\n",
      "15/15 [==============================] - 1s 81ms/step - loss: 0.0071\n",
      "Epoch 20/20\n",
      "15/15 [==============================] - 2s 119ms/step - loss: 0.0071\n"
     ]
    },
    {
     "data": {
      "text/plain": [
       "<tensorflow.python.keras.callbacks.History at 0x29d3deb20>"
      ]
     },
     "execution_count": 122,
     "metadata": {},
     "output_type": "execute_result"
    }
   ],
   "source": [
    "model.fit(X_train, y_train, epochs=20, shuffle=False, batch_size=100, verbose=1)"
   ]
  },
  {
   "cell_type": "code",
   "execution_count": 123,
   "id": "b04943b5-d2bd-434d-bf9c-cf4375f4f373",
   "metadata": {},
   "outputs": [
    {
     "data": {
      "text/plain": [
       "0.002721773460507393"
      ]
     },
     "execution_count": 123,
     "metadata": {},
     "output_type": "execute_result"
    }
   ],
   "source": [
    "model.evaluate(X_test, y_test, verbose=0)"
   ]
  },
  {
   "cell_type": "code",
   "execution_count": 124,
   "id": "73e14e5a-976e-4010-a092-72377bbb6950",
   "metadata": {},
   "outputs": [],
   "source": [
    "predicted = model.predict(X_test)"
   ]
  },
  {
   "cell_type": "code",
   "execution_count": null,
   "id": "f751f367-ef90-483b-bb9c-ab2e47f38894",
   "metadata": {},
   "outputs": [],
   "source": []
  },
  {
   "cell_type": "code",
   "execution_count": 134,
   "id": "0cbd5bd3-2585-4f29-803b-cbc94cf16425",
   "metadata": {},
   "outputs": [],
   "source": [
    "predicted_prices = y_test_scaler.inverse_transform(predicted)"
   ]
  },
  {
   "cell_type": "code",
   "execution_count": 135,
   "id": "84759e8d-0e13-4458-ae30-085a0ad2e9fb",
   "metadata": {},
   "outputs": [],
   "source": [
    "real_prices = y_test_scaler.inverse_transform(y_test.reshape(-1,1))"
   ]
  },
  {
   "cell_type": "code",
   "execution_count": 136,
   "id": "4e46f3ac-a7a3-49b9-a13b-f089dfe4406c",
   "metadata": {},
   "outputs": [
    {
     "data": {
      "text/html": [
       "<div>\n",
       "<style scoped>\n",
       "    .dataframe tbody tr th:only-of-type {\n",
       "        vertical-align: middle;\n",
       "    }\n",
       "\n",
       "    .dataframe tbody tr th {\n",
       "        vertical-align: top;\n",
       "    }\n",
       "\n",
       "    .dataframe thead th {\n",
       "        text-align: right;\n",
       "    }\n",
       "</style>\n",
       "<table border=\"1\" class=\"dataframe\">\n",
       "  <thead>\n",
       "    <tr style=\"text-align: right;\">\n",
       "      <th></th>\n",
       "      <th>Actual</th>\n",
       "      <th>Predicted</th>\n",
       "    </tr>\n",
       "    <tr>\n",
       "      <th>Date</th>\n",
       "      <th></th>\n",
       "      <th></th>\n",
       "    </tr>\n",
       "  </thead>\n",
       "  <tbody>\n",
       "    <tr>\n",
       "      <th>2017-08-25</th>\n",
       "      <td>114.78</td>\n",
       "      <td>113.723900</td>\n",
       "    </tr>\n",
       "    <tr>\n",
       "      <th>2017-08-28</th>\n",
       "      <td>115.35</td>\n",
       "      <td>113.804131</td>\n",
       "    </tr>\n",
       "    <tr>\n",
       "      <th>2017-08-29</th>\n",
       "      <td>115.07</td>\n",
       "      <td>113.911423</td>\n",
       "    </tr>\n",
       "    <tr>\n",
       "      <th>2017-08-30</th>\n",
       "      <td>116.01</td>\n",
       "      <td>114.033318</td>\n",
       "    </tr>\n",
       "    <tr>\n",
       "      <th>2017-08-31</th>\n",
       "      <td>117.55</td>\n",
       "      <td>114.179474</td>\n",
       "    </tr>\n",
       "  </tbody>\n",
       "</table>\n",
       "</div>"
      ],
      "text/plain": [
       "            Actual   Predicted\n",
       "Date                          \n",
       "2017-08-25  114.78  113.723900\n",
       "2017-08-28  115.35  113.804131\n",
       "2017-08-29  115.07  113.911423\n",
       "2017-08-30  116.01  114.033318\n",
       "2017-08-31  117.55  114.179474"
      ]
     },
     "execution_count": 136,
     "metadata": {},
     "output_type": "execute_result"
    }
   ],
   "source": [
    "cat_actual_predicted = pd.DataFrame({\n",
    "    \"Actual\": real_prices.ravel(),\n",
    "    \"Predicted\": predicted_prices.ravel()\n",
    "}, index = cat_df.index[-len(real_prices): ]) \n",
    "\n",
    "# Show the DataFrame's head\n",
    "cat_actual_predicted.head()"
   ]
  },
  {
   "cell_type": "code",
   "execution_count": 137,
   "id": "e48721a8-e8ca-41a8-a514-36964b0091d1",
   "metadata": {},
   "outputs": [
    {
     "data": {
      "text/html": [
       "<div>\n",
       "<style scoped>\n",
       "    .dataframe tbody tr th:only-of-type {\n",
       "        vertical-align: middle;\n",
       "    }\n",
       "\n",
       "    .dataframe tbody tr th {\n",
       "        vertical-align: top;\n",
       "    }\n",
       "\n",
       "    .dataframe thead th {\n",
       "        text-align: right;\n",
       "    }\n",
       "</style>\n",
       "<table border=\"1\" class=\"dataframe\">\n",
       "  <thead>\n",
       "    <tr style=\"text-align: right;\">\n",
       "      <th></th>\n",
       "      <th>Actual</th>\n",
       "      <th>Predicted</th>\n",
       "    </tr>\n",
       "    <tr>\n",
       "      <th>Date</th>\n",
       "      <th></th>\n",
       "      <th></th>\n",
       "    </tr>\n",
       "  </thead>\n",
       "  <tbody>\n",
       "    <tr>\n",
       "      <th>2021-06-22</th>\n",
       "      <td>213.21</td>\n",
       "      <td>217.101257</td>\n",
       "    </tr>\n",
       "    <tr>\n",
       "      <th>2021-06-23</th>\n",
       "      <td>213.13</td>\n",
       "      <td>214.606262</td>\n",
       "    </tr>\n",
       "    <tr>\n",
       "      <th>2021-06-24</th>\n",
       "      <td>213.79</td>\n",
       "      <td>212.307373</td>\n",
       "    </tr>\n",
       "    <tr>\n",
       "      <th>2021-06-25</th>\n",
       "      <td>219.34</td>\n",
       "      <td>210.304565</td>\n",
       "    </tr>\n",
       "    <tr>\n",
       "      <th>2021-06-28</th>\n",
       "      <td>216.31</td>\n",
       "      <td>208.770584</td>\n",
       "    </tr>\n",
       "  </tbody>\n",
       "</table>\n",
       "</div>"
      ],
      "text/plain": [
       "            Actual   Predicted\n",
       "Date                          \n",
       "2021-06-22  213.21  217.101257\n",
       "2021-06-23  213.13  214.606262\n",
       "2021-06-24  213.79  212.307373\n",
       "2021-06-25  219.34  210.304565\n",
       "2021-06-28  216.31  208.770584"
      ]
     },
     "execution_count": 137,
     "metadata": {},
     "output_type": "execute_result"
    }
   ],
   "source": [
    "cat_actual_predicted.tail()"
   ]
  },
  {
   "cell_type": "code",
   "execution_count": 138,
   "id": "26f77a16-92fb-4cb9-827c-93574bfb84ef",
   "metadata": {},
   "outputs": [
    {
     "data": {
      "text/plain": [
       "<AxesSubplot:xlabel='Date'>"
      ]
     },
     "execution_count": 138,
     "metadata": {},
     "output_type": "execute_result"
    },
    {
     "data": {
      "image/png": "[encoded data removed]",
      "text/plain": [
       "<Figure size 1440x720 with 1 Axes>"
      ]
     },
     "metadata": {
      "needs_background": "light"
     },
     "output_type": "display_data"
    }
   ],
   "source": [
    "cat_actual_predicted.plot(figsize=(20,10))"
   ]
  },
  {
   "cell_type": "code",
   "execution_count": 140,
   "id": "0fe550b8-3bbe-40e2-bd4c-26fa8b408386",
   "metadata": {},
   "outputs": [],
   "source": [
    "# ARIMA - TS"
   ]
  },
  {
   "cell_type": "code",
   "execution_count": null,
   "id": "c3858f00-0715-4617-8afd-231f7fbe1ba1",
   "metadata": {},
   "outputs": [],
   "source": []
  }
 ],
 "metadata": {
  "kernelspec": {
   "display_name": "Python 3",
   "language": "python",
   "name": "python3"
  },
  "language_info": {
   "codemirror_mode": {
    "name": "ipython",
    "version": 3
   },
   "file_extension": ".py",
   "mimetype": "text/x-python",
   "name": "python",
   "nbconvert_exporter": "python",
   "pygments_lexer": "ipython3",
   "version": "3.8.10"
  }
 },
 "nbformat": 4,
 "nbformat_minor": 5
}
