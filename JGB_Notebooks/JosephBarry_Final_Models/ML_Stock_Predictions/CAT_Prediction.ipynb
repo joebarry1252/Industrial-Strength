{
 "cells": [
  {
   "cell_type": "markdown",
   "id": "89bfb21f",
   "metadata": {},
   "source": [
    "CAT ML Model\n",
    "\n",
    " window = 100\n",
    " epoch = 20\n",
    " batch = 100\n",
    " dropout = .02"
   ]
  },
  {
   "cell_type": "code",
   "execution_count": 1,
   "id": "aba5236e",
   "metadata": {},
   "outputs": [],
   "source": [
    "import os\n",
    "import numpy as np\n",
    "import pandas as pd\n",
    "import matplotlib.pyplot as plt\n",
    "import alpaca_trade_api as tradeapi\n",
    "from pathlib import Path\n",
    "import requests\n",
    "\n",
    "%matplotlib inline"
   ]
  },
  {
   "cell_type": "code",
   "execution_count": 2,
   "id": "c159a95a",
   "metadata": {},
   "outputs": [
    {
     "name": "stdout",
     "output_type": "stream",
     "text": [
      "/Users/josephbarry/Desktop/FinTech_Class/Project_2/supreme-broccoli/JGB_Notebooks/JosephBarry_Final_Models/ML_Stock_Predictions\n"
     ]
    }
   ],
   "source": [
    "!pwd"
   ]
  },
  {
   "cell_type": "code",
   "execution_count": 3,
   "id": "2908c833",
   "metadata": {},
   "outputs": [],
   "source": [
    "csvpath = Path(\"CAT_nasdaqdata.csv\")\n",
    "\n",
    "cat_df = pd.read_csv(csvpath, index_col='Date', infer_datetime_format=True, parse_dates=True)"
   ]
  },
  {
   "cell_type": "code",
   "execution_count": 4,
   "id": "cbd8a0bf",
   "metadata": {},
   "outputs": [
    {
     "data": {
      "text/html": [
       "<div>\n",
       "<style scoped>\n",
       "    .dataframe tbody tr th:only-of-type {\n",
       "        vertical-align: middle;\n",
       "    }\n",
       "\n",
       "    .dataframe tbody tr th {\n",
       "        vertical-align: top;\n",
       "    }\n",
       "\n",
       "    .dataframe thead th {\n",
       "        text-align: right;\n",
       "    }\n",
       "</style>\n",
       "<table border=\"1\" class=\"dataframe\">\n",
       "  <thead>\n",
       "    <tr style=\"text-align: right;\">\n",
       "      <th></th>\n",
       "      <th>Close/Last</th>\n",
       "      <th>Volume</th>\n",
       "      <th>Open</th>\n",
       "      <th>High</th>\n",
       "      <th>Low</th>\n",
       "    </tr>\n",
       "    <tr>\n",
       "      <th>Date</th>\n",
       "      <th></th>\n",
       "      <th></th>\n",
       "      <th></th>\n",
       "      <th></th>\n",
       "      <th></th>\n",
       "    </tr>\n",
       "  </thead>\n",
       "  <tbody>\n",
       "    <tr>\n",
       "      <th>2021-07-06</th>\n",
       "      <td>$213.52</td>\n",
       "      <td>4348120</td>\n",
       "      <td>$217.41</td>\n",
       "      <td>$217.56</td>\n",
       "      <td>$211.34</td>\n",
       "    </tr>\n",
       "    <tr>\n",
       "      <th>2021-07-02</th>\n",
       "      <td>$217.76</td>\n",
       "      <td>2434363</td>\n",
       "      <td>$217.66</td>\n",
       "      <td>$218.37</td>\n",
       "      <td>$215.58</td>\n",
       "    </tr>\n",
       "    <tr>\n",
       "      <th>2021-07-01</th>\n",
       "      <td>$216.71</td>\n",
       "      <td>2426331</td>\n",
       "      <td>$219.16</td>\n",
       "      <td>$219.79</td>\n",
       "      <td>$216.15</td>\n",
       "    </tr>\n",
       "    <tr>\n",
       "      <th>2021-06-30</th>\n",
       "      <td>$217.63</td>\n",
       "      <td>3249543</td>\n",
       "      <td>$214.62</td>\n",
       "      <td>$217.95</td>\n",
       "      <td>$214.06</td>\n",
       "    </tr>\n",
       "    <tr>\n",
       "      <th>2021-06-29</th>\n",
       "      <td>$215.10</td>\n",
       "      <td>3443372</td>\n",
       "      <td>$218.04</td>\n",
       "      <td>$218.70</td>\n",
       "      <td>$214.59</td>\n",
       "    </tr>\n",
       "  </tbody>\n",
       "</table>\n",
       "</div>"
      ],
      "text/plain": [
       "           Close/Last   Volume     Open     High      Low\n",
       "Date                                                     \n",
       "2021-07-06    $213.52  4348120  $217.41  $217.56  $211.34\n",
       "2021-07-02    $217.76  2434363  $217.66  $218.37  $215.58\n",
       "2021-07-01    $216.71  2426331  $219.16  $219.79  $216.15\n",
       "2021-06-30    $217.63  3249543  $214.62  $217.95  $214.06\n",
       "2021-06-29    $215.10  3443372  $218.04  $218.70  $214.59"
      ]
     },
     "execution_count": 4,
     "metadata": {},
     "output_type": "execute_result"
    }
   ],
   "source": [
    "cat_df.head()"
   ]
  },
  {
   "cell_type": "code",
   "execution_count": 5,
   "id": "9872bf6f",
   "metadata": {},
   "outputs": [],
   "source": [
    "cat_df.sort_index(ascending=True, inplace=True)"
   ]
  },
  {
   "cell_type": "code",
   "execution_count": 6,
   "id": "1805d0d6",
   "metadata": {},
   "outputs": [],
   "source": [
    "cat_df = cat_df.rename(columns={\"Close/Last\": \"Close\"})"
   ]
  },
  {
   "cell_type": "code",
   "execution_count": 7,
   "id": "d6a179e8",
   "metadata": {},
   "outputs": [
    {
     "data": {
      "text/html": [
       "<div>\n",
       "<style scoped>\n",
       "    .dataframe tbody tr th:only-of-type {\n",
       "        vertical-align: middle;\n",
       "    }\n",
       "\n",
       "    .dataframe tbody tr th {\n",
       "        vertical-align: top;\n",
       "    }\n",
       "\n",
       "    .dataframe thead th {\n",
       "        text-align: right;\n",
       "    }\n",
       "</style>\n",
       "<table border=\"1\" class=\"dataframe\">\n",
       "  <thead>\n",
       "    <tr style=\"text-align: right;\">\n",
       "      <th></th>\n",
       "      <th>Close</th>\n",
       "    </tr>\n",
       "    <tr>\n",
       "      <th>Date</th>\n",
       "      <th></th>\n",
       "    </tr>\n",
       "  </thead>\n",
       "  <tbody>\n",
       "    <tr>\n",
       "      <th>2011-07-06</th>\n",
       "      <td>$110.08</td>\n",
       "    </tr>\n",
       "    <tr>\n",
       "      <th>2011-07-07</th>\n",
       "      <td>$111.63</td>\n",
       "    </tr>\n",
       "    <tr>\n",
       "      <th>2011-07-08</th>\n",
       "      <td>$110.41</td>\n",
       "    </tr>\n",
       "    <tr>\n",
       "      <th>2011-07-11</th>\n",
       "      <td>$108.16</td>\n",
       "    </tr>\n",
       "    <tr>\n",
       "      <th>2011-07-12</th>\n",
       "      <td>$106.93</td>\n",
       "    </tr>\n",
       "    <tr>\n",
       "      <th>...</th>\n",
       "      <td>...</td>\n",
       "    </tr>\n",
       "    <tr>\n",
       "      <th>2021-06-29</th>\n",
       "      <td>$215.10</td>\n",
       "    </tr>\n",
       "    <tr>\n",
       "      <th>2021-06-30</th>\n",
       "      <td>$217.63</td>\n",
       "    </tr>\n",
       "    <tr>\n",
       "      <th>2021-07-01</th>\n",
       "      <td>$216.71</td>\n",
       "    </tr>\n",
       "    <tr>\n",
       "      <th>2021-07-02</th>\n",
       "      <td>$217.76</td>\n",
       "    </tr>\n",
       "    <tr>\n",
       "      <th>2021-07-06</th>\n",
       "      <td>$213.52</td>\n",
       "    </tr>\n",
       "  </tbody>\n",
       "</table>\n",
       "<p>2517 rows × 1 columns</p>\n",
       "</div>"
      ],
      "text/plain": [
       "              Close\n",
       "Date               \n",
       "2011-07-06  $110.08\n",
       "2011-07-07  $111.63\n",
       "2011-07-08  $110.41\n",
       "2011-07-11  $108.16\n",
       "2011-07-12  $106.93\n",
       "...             ...\n",
       "2021-06-29  $215.10\n",
       "2021-06-30  $217.63\n",
       "2021-07-01  $216.71\n",
       "2021-07-02  $217.76\n",
       "2021-07-06  $213.52\n",
       "\n",
       "[2517 rows x 1 columns]"
      ]
     },
     "execution_count": 7,
     "metadata": {},
     "output_type": "execute_result"
    }
   ],
   "source": [
    "cat_df = cat_df[['Close']]\n",
    "cat_df"
   ]
  },
  {
   "cell_type": "code",
   "execution_count": 8,
   "id": "24345de5",
   "metadata": {},
   "outputs": [
    {
     "name": "stderr",
     "output_type": "stream",
     "text": [
      "<ipython-input-8-98ee503b25f7>:1: FutureWarning: The default value of regex will change from True to False in a future version. In addition, single character regular expressions will*not* be treated as literal strings when regex=True.\n",
      "  cat_df['Close'] = cat_df['Close'].str.replace('$', '').astype(float)\n"
     ]
    }
   ],
   "source": [
    "cat_df['Close'] = cat_df['Close'].str.replace('$', '').astype(float)"
   ]
  },
  {
   "cell_type": "code",
   "execution_count": 9,
   "id": "5ef82cf9",
   "metadata": {},
   "outputs": [
    {
     "data": {
      "text/html": [
       "<div>\n",
       "<style scoped>\n",
       "    .dataframe tbody tr th:only-of-type {\n",
       "        vertical-align: middle;\n",
       "    }\n",
       "\n",
       "    .dataframe tbody tr th {\n",
       "        vertical-align: top;\n",
       "    }\n",
       "\n",
       "    .dataframe thead th {\n",
       "        text-align: right;\n",
       "    }\n",
       "</style>\n",
       "<table border=\"1\" class=\"dataframe\">\n",
       "  <thead>\n",
       "    <tr style=\"text-align: right;\">\n",
       "      <th></th>\n",
       "      <th>Close</th>\n",
       "    </tr>\n",
       "    <tr>\n",
       "      <th>Date</th>\n",
       "      <th></th>\n",
       "    </tr>\n",
       "  </thead>\n",
       "  <tbody>\n",
       "    <tr>\n",
       "      <th>2011-07-06</th>\n",
       "      <td>110.08</td>\n",
       "    </tr>\n",
       "    <tr>\n",
       "      <th>2011-07-07</th>\n",
       "      <td>111.63</td>\n",
       "    </tr>\n",
       "    <tr>\n",
       "      <th>2011-07-08</th>\n",
       "      <td>110.41</td>\n",
       "    </tr>\n",
       "    <tr>\n",
       "      <th>2011-07-11</th>\n",
       "      <td>108.16</td>\n",
       "    </tr>\n",
       "    <tr>\n",
       "      <th>2011-07-12</th>\n",
       "      <td>106.93</td>\n",
       "    </tr>\n",
       "    <tr>\n",
       "      <th>...</th>\n",
       "      <td>...</td>\n",
       "    </tr>\n",
       "    <tr>\n",
       "      <th>2021-06-29</th>\n",
       "      <td>215.10</td>\n",
       "    </tr>\n",
       "    <tr>\n",
       "      <th>2021-06-30</th>\n",
       "      <td>217.63</td>\n",
       "    </tr>\n",
       "    <tr>\n",
       "      <th>2021-07-01</th>\n",
       "      <td>216.71</td>\n",
       "    </tr>\n",
       "    <tr>\n",
       "      <th>2021-07-02</th>\n",
       "      <td>217.76</td>\n",
       "    </tr>\n",
       "    <tr>\n",
       "      <th>2021-07-06</th>\n",
       "      <td>213.52</td>\n",
       "    </tr>\n",
       "  </tbody>\n",
       "</table>\n",
       "<p>2517 rows × 1 columns</p>\n",
       "</div>"
      ],
      "text/plain": [
       "             Close\n",
       "Date              \n",
       "2011-07-06  110.08\n",
       "2011-07-07  111.63\n",
       "2011-07-08  110.41\n",
       "2011-07-11  108.16\n",
       "2011-07-12  106.93\n",
       "...            ...\n",
       "2021-06-29  215.10\n",
       "2021-06-30  217.63\n",
       "2021-07-01  216.71\n",
       "2021-07-02  217.76\n",
       "2021-07-06  213.52\n",
       "\n",
       "[2517 rows x 1 columns]"
      ]
     },
     "execution_count": 9,
     "metadata": {},
     "output_type": "execute_result"
    }
   ],
   "source": [
    "cat_df"
   ]
  },
  {
   "cell_type": "code",
   "execution_count": 10,
   "id": "3ba415ac",
   "metadata": {},
   "outputs": [],
   "source": [
    "def window_data(df, window, feature_col_number, target_col_number):\n",
    "    X = []\n",
    "    y = []\n",
    "    for i in range(len(df) - window- 1):\n",
    "        features = df.iloc[i : (i + window), feature_col_number]\n",
    "        target = df.iloc[(i + window), target_col_number]\n",
    "        X.append(features)\n",
    "        y.append(target)\n",
    "    return np.array(X), np.array(y).reshape(-1, 1)"
   ]
  },
  {
   "cell_type": "code",
   "execution_count": 11,
   "id": "cad3ec1b",
   "metadata": {},
   "outputs": [
    {
     "name": "stdout",
     "output_type": "stream",
     "text": [
      "X sample values:\n",
      "[[110.08 111.63 110.41 108.16 106.93 108.64 107.58 109.36 107.8  109.64\n",
      "  110.31 111.6  105.15 105.66 105.2  101.34  99.64  98.79 100.72  97.18\n",
      "   96.28  89.55  90.99  82.6   87.48  83.51  87.25  89.81  91.37  89.35\n",
      "   87.64  83.33  79.97  79.89  82.98  85.4   83.25  85.16  88.15  89.83\n",
      "   91.    88.55  85.38  85.7   88.69  87.04  83.96  83.87  85.02  85.45\n",
      "   86.6   85.9   84.6   83.66  79.36  73.9   73.86  76.85  77.67  75.08\n",
      "   75.39  73.84  70.55  72.54  74.26  77.09  75.52  79.13  80.66  81.7\n",
      "   81.44  84.09  81.52  84.72  83.56  84.26  87.39  91.77  89.89  91.57\n",
      "   96.33  96.85  94.46  91.63  93.94  96.    95.74  95.    95.89  91.64\n",
      "   92.2   96.13  96.53  97.07  95.75  93.81  93.93  91.12  89.99  87.76]\n",
      " [111.63 110.41 108.16 106.93 108.64 107.58 109.36 107.8  109.64 110.31\n",
      "  111.6  105.15 105.66 105.2  101.34  99.64  98.79 100.72  97.18  96.28\n",
      "   89.55  90.99  82.6   87.48  83.51  87.25  89.81  91.37  89.35  87.64\n",
      "   83.33  79.97  79.89  82.98  85.4   83.25  85.16  88.15  89.83  91.\n",
      "   88.55  85.38  85.7   88.69  87.04  83.96  83.87  85.02  85.45  86.6\n",
      "   85.9   84.6   83.66  79.36  73.9   73.86  76.85  77.67  75.08  75.39\n",
      "   73.84  70.55  72.54  74.26  77.09  75.52  79.13  80.66  81.7   81.44\n",
      "   84.09  81.52  84.72  83.56  84.26  87.39  91.77  89.89  91.57  96.33\n",
      "   96.85  94.46  91.63  93.94  96.    95.74  95.    95.89  91.64  92.2\n",
      "   96.13  96.53  97.07  95.75  93.81  93.93  91.12  89.99  87.76  86.72]\n",
      " [110.41 108.16 106.93 108.64 107.58 109.36 107.8  109.64 110.31 111.6\n",
      "  105.15 105.66 105.2  101.34  99.64  98.79 100.72  97.18  96.28  89.55\n",
      "   90.99  82.6   87.48  83.51  87.25  89.81  91.37  89.35  87.64  83.33\n",
      "   79.97  79.89  82.98  85.4   83.25  85.16  88.15  89.83  91.    88.55\n",
      "   85.38  85.7   88.69  87.04  83.96  83.87  85.02  85.45  86.6   85.9\n",
      "   84.6   83.66  79.36  73.9   73.86  76.85  77.67  75.08  75.39  73.84\n",
      "   70.55  72.54  74.26  77.09  75.52  79.13  80.66  81.7   81.44  84.09\n",
      "   81.52  84.72  83.56  84.26  87.39  91.77  89.89  91.57  96.33  96.85\n",
      "   94.46  91.63  93.94  96.    95.74  95.    95.89  91.64  92.2   96.13\n",
      "   96.53  97.07  95.75  93.81  93.93  91.12  89.99  87.76  86.72  91.48]] \n",
      "\n",
      "y sample values:\n",
      "[[86.72]\n",
      " [91.48]\n",
      " [90.54]]\n"
     ]
    }
   ],
   "source": [
    "window_size = 100\n",
    "feature_column = 0 # why 0?\n",
    "target_column = 0 # Why 0?\n",
    "\n",
    "X, y = window_data(cat_df, window_size, feature_column, target_column)\n",
    "\n",
    "print (f\"X sample values:\\n{X[:3]} \\n\")\n",
    "print (f\"y sample values:\\n{y[:3]}\")"
   ]
  },
  {
   "cell_type": "code",
   "execution_count": 12,
   "id": "0f34604c",
   "metadata": {},
   "outputs": [],
   "source": [
    "split = int(0.6 * len(X))\n",
    "\n",
    "X_train = X[: split]\n",
    "X_test = X[split:]\n",
    "\n",
    "y_train = y[: split]\n",
    "y_test = y[split:]"
   ]
  },
  {
   "cell_type": "code",
   "execution_count": 13,
   "id": "cf95879b",
   "metadata": {},
   "outputs": [
    {
     "data": {
      "text/plain": [
       "array([[ 86.72],\n",
       "       [ 91.48],\n",
       "       [ 90.54],\n",
       "       ...,\n",
       "       [115.35],\n",
       "       [115.07],\n",
       "       [116.01]])"
      ]
     },
     "execution_count": 13,
     "metadata": {},
     "output_type": "execute_result"
    }
   ],
   "source": [
    "y_train"
   ]
  },
  {
   "cell_type": "code",
<<<<<<< HEAD
   "execution_count": 14,
   "id": "e64fae58-e5ad-437e-819e-841bbf650c5b",
=======
   "execution_count": 15,
   "id": "c3dfac59",
>>>>>>> 7cf713dc16e23b61cadbd250e01fb9b10c994fcc
   "metadata": {},
   "outputs": [],
   "source": [
    "# Importing the MinMaxScaler from sklearn\n",
    "from sklearn.preprocessing import MinMaxScaler\n",
    "\n",
    "x_train_scaler = MinMaxScaler()\n",
    "#x_test_scaler = MinMaxScaler()\n",
    "y_train_scaler = MinMaxScaler()\n",
    "#y_test_scaler = MinMaxScaler()\n",
    "\n",
    "# Fit the scaler for the training Data\n",
    "x_train_scaler.fit(X_train)\n",
    "y_train_scaler.fit(y_train)\n",
    "\n",
    "# Scale the training data\n",
    "X_train = x_train_scaler.transform(X_train)\n",
    "y_train = y_train_scaler.transform(y_train)\n",
    "\n",
    "# Fit the scaler for the testing Data\n",
    "#x_test_scaler.fit(X_test)\n",
    "#y_test_scaler.fit(y_test)\n",
    "\n",
    "# Scale the y_test data\n",
    "X_test = x_train_scaler.transform(X_test)\n",
    "y_test = y_train_scaler.transform(y_test)"
   ]
  },
  {
   "cell_type": "code",
<<<<<<< HEAD
   "execution_count": 15,
   "id": "c0fd3991-e9a1-4f38-b119-b7857b9b08c6",
=======
   "execution_count": 16,
   "id": "15367495",
>>>>>>> 7cf713dc16e23b61cadbd250e01fb9b10c994fcc
   "metadata": {},
   "outputs": [],
   "source": [
    "# Reshape the features data\n",
    "X_train = X_train.reshape((X_train.shape[0], X_train.shape[1], 1))\n",
    "X_test = X_test.reshape((X_test.shape[0], X_test.shape[1], 1))"
   ]
  },
  {
   "cell_type": "code",
<<<<<<< HEAD
   "execution_count": 16,
   "id": "8a1252e5-b384-489d-908c-5f57a788792c",
=======
   "execution_count": 17,
   "id": "a57600b1",
>>>>>>> 7cf713dc16e23b61cadbd250e01fb9b10c994fcc
   "metadata": {},
   "outputs": [],
   "source": [
    "# Importing required Keras modules\n",
    "from tensorflow.keras.models import Sequential\n",
    "from tensorflow.keras.layers import LSTM, Dense, Dropout"
   ]
  },
  {
   "cell_type": "code",
<<<<<<< HEAD
   "execution_count": 17,
   "id": "208a6cad-344a-478b-a2b0-33c04d1e6318",
=======
   "execution_count": 18,
   "id": "1cf2a6cd",
>>>>>>> 7cf713dc16e23b61cadbd250e01fb9b10c994fcc
   "metadata": {},
   "outputs": [],
   "source": [
    "# Define the LSTM RNN model.\n",
    "model = Sequential()\n",
    "\n",
    "# Initial model setup\n",
    "number_units = window_size\n",
    "# 20% of neurons to be dropped out\n",
    "dropout_fraction = 0.2\n",
    "\n",
    "# Layer 1\n",
    "model.add(LSTM(\n",
    "    units=number_units,\n",
    "    return_sequences=True,\n",
    "    input_shape=(X_train.shape[1], 1))\n",
    "    )\n",
    "model.add(Dropout(dropout_fraction))\n",
    "\n",
    "# Layer 2\n",
    "model.add(LSTM(units=number_units, return_sequences=True))\n",
    "model.add(Dropout(dropout_fraction))\n",
    "\n",
    "# Layer 3\n",
    "model.add(LSTM(units=number_units))\n",
    "model.add(Dropout(dropout_fraction))\n",
    "\n",
    "# Output layer\n",
    "model.add(Dense(1))"
   ]
  },
  {
   "cell_type": "code",
<<<<<<< HEAD
   "execution_count": 18,
   "id": "0444b247-daa7-4f16-9b66-bce68c64f619",
=======
   "execution_count": 19,
   "id": "f3b60e9e",
>>>>>>> 7cf713dc16e23b61cadbd250e01fb9b10c994fcc
   "metadata": {},
   "outputs": [
    {
     "name": "stdout",
     "output_type": "stream",
     "text": [
      "Model: \"sequential\"\n",
      "_________________________________________________________________\n",
      "Layer (type)                 Output Shape              Param #   \n",
      "=================================================================\n",
      "lstm (LSTM)                  (None, 100, 100)          40800     \n",
      "_________________________________________________________________\n",
      "dropout (Dropout)            (None, 100, 100)          0         \n",
      "_________________________________________________________________\n",
      "lstm_1 (LSTM)                (None, 100, 100)          80400     \n",
      "_________________________________________________________________\n",
      "dropout_1 (Dropout)          (None, 100, 100)          0         \n",
      "_________________________________________________________________\n",
      "lstm_2 (LSTM)                (None, 100)               80400     \n",
      "_________________________________________________________________\n",
      "dropout_2 (Dropout)          (None, 100)               0         \n",
      "_________________________________________________________________\n",
      "dense (Dense)                (None, 1)                 101       \n",
      "=================================================================\n",
      "Total params: 201,701\n",
      "Trainable params: 201,701\n",
      "Non-trainable params: 0\n",
      "_________________________________________________________________\n"
     ]
    }
   ],
   "source": [
    "model.compile(optimizer=\"adam\", loss=\"mean_squared_error\")\n",
    "model.summary()"
   ]
  },
  {
   "cell_type": "code",
<<<<<<< HEAD
   "execution_count": 19,
   "id": "ac5ca390-9ce6-4e1f-82a0-2255d9adb28d",
=======
   "execution_count": 20,
   "id": "7815c33e",
>>>>>>> 7cf713dc16e23b61cadbd250e01fb9b10c994fcc
   "metadata": {},
   "outputs": [
    {
     "name": "stdout",
     "output_type": "stream",
     "text": [
      "Epoch 1/20\n",
      "15/15 [==============================] - 6s 350ms/step - loss: 0.2072\n",
      "Epoch 2/20\n",
      "15/15 [==============================] - 3s 218ms/step - loss: 0.0410\n",
      "Epoch 3/20\n",
      "15/15 [==============================] - 4s 268ms/step - loss: 0.0308\n",
      "Epoch 4/20\n",
      "15/15 [==============================] - 6s 408ms/step - loss: 0.0114\n",
      "Epoch 5/20\n",
      "15/15 [==============================] - 7s 491ms/step - loss: 0.0093\n",
      "Epoch 6/20\n",
      "15/15 [==============================] - 5s 346ms/step - loss: 0.0092\n",
      "Epoch 7/20\n",
      "15/15 [==============================] - 4s 277ms/step - loss: 0.0122\n",
      "Epoch 8/20\n",
      "15/15 [==============================] - 3s 194ms/step - loss: 0.0135\n",
      "Epoch 9/20\n",
      "15/15 [==============================] - 5s 347ms/step - loss: 0.0141\n",
      "Epoch 10/20\n",
      "15/15 [==============================] - 2s 126ms/step - loss: 0.0124\n",
      "Epoch 11/20\n",
      "15/15 [==============================] - 2s 140ms/step - loss: 0.0079\n",
      "Epoch 12/20\n",
      "15/15 [==============================] - 3s 172ms/step - loss: 0.0077\n",
      "Epoch 13/20\n",
      "15/15 [==============================] - 4s 294ms/step - loss: 0.0088\n",
      "Epoch 14/20\n",
      "15/15 [==============================] - 2s 122ms/step - loss: 0.0099\n",
      "Epoch 15/20\n",
      "15/15 [==============================] - 3s 186ms/step - loss: 0.0111\n",
      "Epoch 16/20\n",
      "15/15 [==============================] - 3s 225ms/step - loss: 0.0102\n",
      "Epoch 17/20\n",
      "15/15 [==============================] - 2s 134ms/step - loss: 0.0088\n",
      "Epoch 18/20\n",
      "15/15 [==============================] - 4s 283ms/step - loss: 0.0092\n",
      "Epoch 19/20\n",
      "15/15 [==============================] - 4s 239ms/step - loss: 0.0079\n",
      "Epoch 20/20\n",
      "15/15 [==============================] - 2s 136ms/step - loss: 0.0080\n"
     ]
    },
    {
     "data": {
      "text/plain": [
       "<tensorflow.python.keras.callbacks.History at 0x17c44f040>"
      ]
     },
     "execution_count": 19,
     "metadata": {},
     "output_type": "execute_result"
    }
   ],
   "source": [
    "model.fit(X_train, y_train, epochs=20, shuffle=False, batch_size=100, verbose=1)"
   ]
  },
  {
   "cell_type": "code",
<<<<<<< HEAD
   "execution_count": 20,
   "id": "b04943b5-d2bd-434d-bf9c-cf4375f4f373",
=======
   "execution_count": 21,
   "id": "e8c3fad2",
>>>>>>> 7cf713dc16e23b61cadbd250e01fb9b10c994fcc
   "metadata": {},
   "outputs": [
    {
     "data": {
      "text/plain": [
       "0.1555711179971695"
      ]
     },
     "execution_count": 20,
     "metadata": {},
     "output_type": "execute_result"
    }
   ],
   "source": [
    "model.evaluate(X_test, y_test, verbose=0)"
   ]
  },
  {
   "cell_type": "code",
<<<<<<< HEAD
   "execution_count": 21,
   "id": "73e14e5a-976e-4010-a092-72377bbb6950",
=======
   "execution_count": 22,
   "id": "c4fa454d",
>>>>>>> 7cf713dc16e23b61cadbd250e01fb9b10c994fcc
   "metadata": {},
   "outputs": [],
   "source": [
    "predicted = model.predict(X_test)"
   ]
  },
  {
   "cell_type": "code",
<<<<<<< HEAD
   "execution_count": 22,
   "id": "0cbd5bd3-2585-4f29-803b-cbc94cf16425",
=======
   "execution_count": 23,
   "id": "f3308563",
>>>>>>> 7cf713dc16e23b61cadbd250e01fb9b10c994fcc
   "metadata": {},
   "outputs": [],
   "source": [
    "predicted_prices = y_train_scaler.inverse_transform(predicted)"
   ]
  },
  {
   "cell_type": "code",
<<<<<<< HEAD
   "execution_count": 23,
   "id": "84759e8d-0e13-4458-ae30-085a0ad2e9fb",
=======
   "execution_count": 24,
   "id": "4ce6b221",
>>>>>>> 7cf713dc16e23b61cadbd250e01fb9b10c994fcc
   "metadata": {},
   "outputs": [],
   "source": [
    "real_prices = y_train_scaler.inverse_transform(y_test.reshape(-1,1))"
   ]
  },
  {
   "cell_type": "code",
<<<<<<< HEAD
   "execution_count": 24,
   "id": "4e46f3ac-a7a3-49b9-a13b-f089dfe4406c",
=======
   "execution_count": 25,
   "id": "bf9053ff",
>>>>>>> 7cf713dc16e23b61cadbd250e01fb9b10c994fcc
   "metadata": {},
   "outputs": [
    {
     "data": {
      "text/html": [
       "<div>\n",
       "<style scoped>\n",
       "    .dataframe tbody tr th:only-of-type {\n",
       "        vertical-align: middle;\n",
       "    }\n",
       "\n",
       "    .dataframe tbody tr th {\n",
       "        vertical-align: top;\n",
       "    }\n",
       "\n",
       "    .dataframe thead th {\n",
       "        text-align: right;\n",
       "    }\n",
       "</style>\n",
       "<table border=\"1\" class=\"dataframe\">\n",
       "  <thead>\n",
       "    <tr style=\"text-align: right;\">\n",
       "      <th></th>\n",
       "      <th>Actual</th>\n",
       "      <th>Predicted</th>\n",
       "    </tr>\n",
       "    <tr>\n",
       "      <th>Date</th>\n",
       "      <th></th>\n",
       "      <th></th>\n",
       "    </tr>\n",
       "  </thead>\n",
       "  <tbody>\n",
       "    <tr>\n",
       "      <th>2017-08-31</th>\n",
       "      <td>117.55</td>\n",
       "      <td>109.143951</td>\n",
       "    </tr>\n",
       "    <tr>\n",
       "      <th>2017-09-01</th>\n",
       "      <td>117.49</td>\n",
       "      <td>109.326790</td>\n",
       "    </tr>\n",
       "    <tr>\n",
       "      <th>2017-09-05</th>\n",
       "      <td>118.28</td>\n",
       "      <td>109.554901</td>\n",
       "    </tr>\n",
       "    <tr>\n",
       "      <th>2017-09-06</th>\n",
       "      <td>118.30</td>\n",
       "      <td>109.830391</td>\n",
       "    </tr>\n",
       "    <tr>\n",
       "      <th>2017-09-07</th>\n",
       "      <td>116.98</td>\n",
       "      <td>110.137955</td>\n",
       "    </tr>\n",
       "  </tbody>\n",
       "</table>\n",
       "</div>"
      ],
      "text/plain": [
       "            Actual   Predicted\n",
       "Date                          \n",
       "2017-08-31  117.55  109.143951\n",
       "2017-09-01  117.49  109.326790\n",
       "2017-09-05  118.28  109.554901\n",
       "2017-09-06  118.30  109.830391\n",
       "2017-09-07  116.98  110.137955"
      ]
     },
     "execution_count": 24,
     "metadata": {},
     "output_type": "execute_result"
    }
   ],
   "source": [
    "cat_actual_predicted = pd.DataFrame({\n",
    "    \"Actual\": real_prices.ravel(),\n",
    "    \"Predicted\": predicted_prices.ravel()\n",
    "}, index = cat_df.index[-len(real_prices): ]) \n",
    "\n",
    "# Show the DataFrame's head\n",
    "cat_actual_predicted.head()"
   ]
  },
  {
   "cell_type": "code",
<<<<<<< HEAD
   "execution_count": 25,
   "id": "e48721a8-e8ca-41a8-a514-36964b0091d1",
=======
   "execution_count": 26,
   "id": "4ac6b2a8",
>>>>>>> 7cf713dc16e23b61cadbd250e01fb9b10c994fcc
   "metadata": {},
   "outputs": [
    {
     "data": {
      "text/html": [
       "<div>\n",
       "<style scoped>\n",
       "    .dataframe tbody tr th:only-of-type {\n",
       "        vertical-align: middle;\n",
       "    }\n",
       "\n",
       "    .dataframe tbody tr th {\n",
       "        vertical-align: top;\n",
       "    }\n",
       "\n",
       "    .dataframe thead th {\n",
       "        text-align: right;\n",
       "    }\n",
       "</style>\n",
       "<table border=\"1\" class=\"dataframe\">\n",
       "  <thead>\n",
       "    <tr style=\"text-align: right;\">\n",
       "      <th></th>\n",
       "      <th>Actual</th>\n",
       "      <th>Predicted</th>\n",
       "    </tr>\n",
       "    <tr>\n",
       "      <th>Date</th>\n",
       "      <th></th>\n",
       "      <th></th>\n",
       "    </tr>\n",
       "  </thead>\n",
       "  <tbody>\n",
       "    <tr>\n",
       "      <th>2021-06-29</th>\n",
       "      <td>216.27</td>\n",
       "      <td>168.878647</td>\n",
       "    </tr>\n",
       "    <tr>\n",
       "      <th>2021-06-30</th>\n",
       "      <td>215.10</td>\n",
       "      <td>168.631302</td>\n",
       "    </tr>\n",
       "    <tr>\n",
       "      <th>2021-07-01</th>\n",
       "      <td>217.63</td>\n",
       "      <td>168.443176</td>\n",
       "    </tr>\n",
       "    <tr>\n",
       "      <th>2021-07-02</th>\n",
       "      <td>216.71</td>\n",
       "      <td>168.334885</td>\n",
       "    </tr>\n",
       "    <tr>\n",
       "      <th>2021-07-06</th>\n",
       "      <td>217.76</td>\n",
       "      <td>168.275253</td>\n",
       "    </tr>\n",
       "  </tbody>\n",
       "</table>\n",
       "</div>"
      ],
      "text/plain": [
       "            Actual   Predicted\n",
       "Date                          \n",
       "2021-06-29  216.27  168.878647\n",
       "2021-06-30  215.10  168.631302\n",
       "2021-07-01  217.63  168.443176\n",
       "2021-07-02  216.71  168.334885\n",
       "2021-07-06  217.76  168.275253"
      ]
     },
     "execution_count": 25,
     "metadata": {},
     "output_type": "execute_result"
    }
   ],
   "source": [
    "cat_actual_predicted.tail()"
   ]
  },
  {
   "cell_type": "code",
<<<<<<< HEAD
   "execution_count": 26,
   "id": "26f77a16-92fb-4cb9-827c-93574bfb84ef",
=======
   "execution_count": 27,
   "id": "5770f2c7",
>>>>>>> 7cf713dc16e23b61cadbd250e01fb9b10c994fcc
   "metadata": {},
   "outputs": [
    {
     "data": {
      "image/png": "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\n",
      "text/plain": [
       "<Figure size 1440x720 with 1 Axes>"
      ]
     },
     "metadata": {
      "needs_background": "light"
     },
     "output_type": "display_data"
    }
   ],
   "source": [
    "cat_actual_predicted.plot(figsize=(20,10))\n",
    "plt.title('$CAT Stock Price Actual and Predicted (08/31/2017 - 07/06/2021)')\n",
    "plt.xlabel('Year')\n",
    "plt.ylabel('Stock Price per Share (in USD)')\n",
    "plt.legend(loc=\"best\")\n",
    "plt.show()"
   ]
  },
  {
   "cell_type": "code",
<<<<<<< HEAD
   "execution_count": 33,
   "id": "0fe550b8-3bbe-40e2-bd4c-26fa8b408386",
=======
   "execution_count": 28,
   "id": "5b421afa",
>>>>>>> 7cf713dc16e23b61cadbd250e01fb9b10c994fcc
   "metadata": {},
   "outputs": [
    {
     "data": {
      "text/html": [
       "<div>\n",
       "<style scoped>\n",
       "    .dataframe tbody tr th:only-of-type {\n",
       "        vertical-align: middle;\n",
       "    }\n",
       "\n",
       "    .dataframe tbody tr th {\n",
       "        vertical-align: top;\n",
       "    }\n",
       "\n",
       "    .dataframe thead th {\n",
       "        text-align: right;\n",
       "    }\n",
       "</style>\n",
       "<table border=\"1\" class=\"dataframe\">\n",
       "  <thead>\n",
       "    <tr style=\"text-align: right;\">\n",
       "      <th></th>\n",
       "      <th>Actual</th>\n",
       "      <th>Predicted</th>\n",
       "    </tr>\n",
       "    <tr>\n",
       "      <th>Date</th>\n",
       "      <th></th>\n",
       "      <th></th>\n",
       "    </tr>\n",
       "  </thead>\n",
       "  <tbody>\n",
       "    <tr>\n",
       "      <th>2017-08-31</th>\n",
       "      <td>NaN</td>\n",
       "      <td>NaN</td>\n",
       "    </tr>\n",
       "    <tr>\n",
       "      <th>2017-09-01</th>\n",
       "      <td>-0.000510</td>\n",
       "      <td>0.001675</td>\n",
       "    </tr>\n",
       "    <tr>\n",
       "      <th>2017-09-05</th>\n",
       "      <td>0.006724</td>\n",
       "      <td>0.002087</td>\n",
       "    </tr>\n",
       "    <tr>\n",
       "      <th>2017-09-06</th>\n",
       "      <td>0.000169</td>\n",
       "      <td>0.002515</td>\n",
       "    </tr>\n",
       "    <tr>\n",
       "      <th>2017-09-07</th>\n",
       "      <td>-0.011158</td>\n",
       "      <td>0.002800</td>\n",
       "    </tr>\n",
       "    <tr>\n",
       "      <th>...</th>\n",
       "      <td>...</td>\n",
       "      <td>...</td>\n",
       "    </tr>\n",
       "    <tr>\n",
       "      <th>2021-06-29</th>\n",
       "      <td>-0.000185</td>\n",
       "      <td>-0.002034</td>\n",
       "    </tr>\n",
       "    <tr>\n",
       "      <th>2021-06-30</th>\n",
       "      <td>-0.005410</td>\n",
       "      <td>-0.001465</td>\n",
       "    </tr>\n",
       "    <tr>\n",
       "      <th>2021-07-01</th>\n",
       "      <td>0.011762</td>\n",
       "      <td>-0.001116</td>\n",
       "    </tr>\n",
       "    <tr>\n",
       "      <th>2021-07-02</th>\n",
       "      <td>-0.004227</td>\n",
       "      <td>-0.000643</td>\n",
       "    </tr>\n",
       "    <tr>\n",
       "      <th>2021-07-06</th>\n",
       "      <td>0.004845</td>\n",
       "      <td>-0.000354</td>\n",
       "    </tr>\n",
       "  </tbody>\n",
       "</table>\n",
       "<p>967 rows × 2 columns</p>\n",
       "</div>"
      ],
      "text/plain": [
       "              Actual  Predicted\n",
       "Date                           \n",
       "2017-08-31       NaN        NaN\n",
       "2017-09-01 -0.000510   0.001675\n",
       "2017-09-05  0.006724   0.002087\n",
       "2017-09-06  0.000169   0.002515\n",
       "2017-09-07 -0.011158   0.002800\n",
       "...              ...        ...\n",
       "2021-06-29 -0.000185  -0.002034\n",
       "2021-06-30 -0.005410  -0.001465\n",
       "2021-07-01  0.011762  -0.001116\n",
       "2021-07-02 -0.004227  -0.000643\n",
       "2021-07-06  0.004845  -0.000354\n",
       "\n",
       "[967 rows x 2 columns]"
      ]
     },
     "execution_count": 33,
     "metadata": {},
     "output_type": "execute_result"
    }
   ],
   "source": [
    "pct_change = cat_actual_predicted.pct_change()\n",
    "pct_change"
   ]
  },
  {
   "cell_type": "code",
   "execution_count": null,
   "id": "d964227e-07c1-4f21-8f56-4b03759c0609",
   "metadata": {},
   "outputs": [],
   "source": []
  }
 ],
 "metadata": {
  "kernelspec": {
   "display_name": "Python 3",
   "language": "python",
   "name": "python3"
  },
  "language_info": {
   "codemirror_mode": {
    "name": "ipython",
    "version": 3
   },
   "file_extension": ".py",
   "mimetype": "text/x-python",
   "name": "python",
   "nbconvert_exporter": "python",
   "pygments_lexer": "ipython3",
   "version": "3.8.5"
  }
 },
 "nbformat": 4,
 "nbformat_minor": 5
}
