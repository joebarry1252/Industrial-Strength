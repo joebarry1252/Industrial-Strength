{
 "cells": [
  {
   "cell_type": "markdown",
   "id": "92c7d538-ea3d-4c7d-bae4-b43105bef2a4",
   "metadata": {},
   "source": [
    "CAT ML Model\n",
    "\n",
    " window = 100\n",
    " epoch = 20\n",
    " batch = 100\n",
    " dropout = .02"
   ]
  },
  {
   "cell_type": "code",
   "execution_count": 1,
   "id": "412def30-dffb-4139-901a-3d74d0495d2e",
   "metadata": {},
   "outputs": [],
   "source": [
    "import os\n",
    "import numpy as np\n",
    "import pandas as pd\n",
    "import matplotlib.pyplot as plt\n",
    "import alpaca_trade_api as tradeapi\n",
    "from pathlib import Path\n",
    "import requests\n",
    "\n",
    "%matplotlib inline"
   ]
  },
  {
   "cell_type": "code",
   "execution_count": 2,
   "id": "a8a1bc96-76a8-4a99-9314-91a26258f9c2",
   "metadata": {},
   "outputs": [
    {
     "name": "stdout",
     "output_type": "stream",
     "text": [
      "/Users/josephbarry/Desktop/FinTech_Class/Project_2/supreme-broccoli/notebooks/JB_scratchwork/Final_Models/ML_Stock_Predictions\n"
     ]
    }
   ],
   "source": [
    "!pwd"
   ]
  },
  {
   "cell_type": "code",
   "execution_count": 3,
   "id": "6b40ac4a-dc0a-452a-b2bf-f4b216aae5f6",
   "metadata": {},
   "outputs": [],
   "source": [
    "csvpath = Path(\"CAT_nasdaqdata.csv\")\n",
    "\n",
    "cat_df = pd.read_csv(csvpath, index_col='Date', infer_datetime_format=True, parse_dates=True)"
   ]
  },
  {
   "cell_type": "code",
   "execution_count": 4,
   "id": "709728a8-f766-4f01-b82b-a47d8c2f717e",
   "metadata": {},
   "outputs": [
    {
     "data": {
      "text/html": [
       "<div>\n",
       "<style scoped>\n",
       "    .dataframe tbody tr th:only-of-type {\n",
       "        vertical-align: middle;\n",
       "    }\n",
       "\n",
       "    .dataframe tbody tr th {\n",
       "        vertical-align: top;\n",
       "    }\n",
       "\n",
       "    .dataframe thead th {\n",
       "        text-align: right;\n",
       "    }\n",
       "</style>\n",
       "<table border=\"1\" class=\"dataframe\">\n",
       "  <thead>\n",
       "    <tr style=\"text-align: right;\">\n",
       "      <th></th>\n",
       "      <th>Close/Last</th>\n",
       "      <th>Volume</th>\n",
       "      <th>Open</th>\n",
       "      <th>High</th>\n",
       "      <th>Low</th>\n",
       "    </tr>\n",
       "    <tr>\n",
       "      <th>Date</th>\n",
       "      <th></th>\n",
       "      <th></th>\n",
       "      <th></th>\n",
       "      <th></th>\n",
       "      <th></th>\n",
       "    </tr>\n",
       "  </thead>\n",
       "  <tbody>\n",
       "    <tr>\n",
       "      <th>2021-07-06</th>\n",
       "      <td>$213.52</td>\n",
       "      <td>4348120</td>\n",
       "      <td>$217.41</td>\n",
       "      <td>$217.56</td>\n",
       "      <td>$211.34</td>\n",
       "    </tr>\n",
       "    <tr>\n",
       "      <th>2021-07-02</th>\n",
       "      <td>$217.76</td>\n",
       "      <td>2434363</td>\n",
       "      <td>$217.66</td>\n",
       "      <td>$218.37</td>\n",
       "      <td>$215.58</td>\n",
       "    </tr>\n",
       "    <tr>\n",
       "      <th>2021-07-01</th>\n",
       "      <td>$216.71</td>\n",
       "      <td>2426331</td>\n",
       "      <td>$219.16</td>\n",
       "      <td>$219.79</td>\n",
       "      <td>$216.15</td>\n",
       "    </tr>\n",
       "    <tr>\n",
       "      <th>2021-06-30</th>\n",
       "      <td>$217.63</td>\n",
       "      <td>3249543</td>\n",
       "      <td>$214.62</td>\n",
       "      <td>$217.95</td>\n",
       "      <td>$214.06</td>\n",
       "    </tr>\n",
       "    <tr>\n",
       "      <th>2021-06-29</th>\n",
       "      <td>$215.10</td>\n",
       "      <td>3443372</td>\n",
       "      <td>$218.04</td>\n",
       "      <td>$218.70</td>\n",
       "      <td>$214.59</td>\n",
       "    </tr>\n",
       "  </tbody>\n",
       "</table>\n",
       "</div>"
      ],
      "text/plain": [
       "           Close/Last   Volume     Open     High      Low\n",
       "Date                                                     \n",
       "2021-07-06    $213.52  4348120  $217.41  $217.56  $211.34\n",
       "2021-07-02    $217.76  2434363  $217.66  $218.37  $215.58\n",
       "2021-07-01    $216.71  2426331  $219.16  $219.79  $216.15\n",
       "2021-06-30    $217.63  3249543  $214.62  $217.95  $214.06\n",
       "2021-06-29    $215.10  3443372  $218.04  $218.70  $214.59"
      ]
     },
     "execution_count": 4,
     "metadata": {},
     "output_type": "execute_result"
    }
   ],
   "source": [
    "cat_df.head()"
   ]
  },
  {
   "cell_type": "code",
   "execution_count": 5,
   "id": "dfbe7e6c-fcfb-46a5-9441-8d389458d056",
   "metadata": {},
   "outputs": [],
   "source": [
    "cat_df.sort_index(ascending=True, inplace=True)"
   ]
  },
  {
   "cell_type": "code",
   "execution_count": 6,
   "id": "7243603e-0c51-4ea7-9a76-22b8b2a51fb3",
   "metadata": {},
   "outputs": [],
   "source": [
    "cat_df = cat_df.rename(columns={\"Close/Last\": \"Close\"})"
   ]
  },
  {
   "cell_type": "code",
   "execution_count": 7,
   "id": "dc5a729c-313a-42c1-9569-79cd29093049",
   "metadata": {},
   "outputs": [
    {
     "data": {
      "text/html": [
       "<div>\n",
       "<style scoped>\n",
       "    .dataframe tbody tr th:only-of-type {\n",
       "        vertical-align: middle;\n",
       "    }\n",
       "\n",
       "    .dataframe tbody tr th {\n",
       "        vertical-align: top;\n",
       "    }\n",
       "\n",
       "    .dataframe thead th {\n",
       "        text-align: right;\n",
       "    }\n",
       "</style>\n",
       "<table border=\"1\" class=\"dataframe\">\n",
       "  <thead>\n",
       "    <tr style=\"text-align: right;\">\n",
       "      <th></th>\n",
       "      <th>Close</th>\n",
       "    </tr>\n",
       "    <tr>\n",
       "      <th>Date</th>\n",
       "      <th></th>\n",
       "    </tr>\n",
       "  </thead>\n",
       "  <tbody>\n",
       "    <tr>\n",
       "      <th>2011-07-06</th>\n",
       "      <td>$110.08</td>\n",
       "    </tr>\n",
       "    <tr>\n",
       "      <th>2011-07-07</th>\n",
       "      <td>$111.63</td>\n",
       "    </tr>\n",
       "    <tr>\n",
       "      <th>2011-07-08</th>\n",
       "      <td>$110.41</td>\n",
       "    </tr>\n",
       "    <tr>\n",
       "      <th>2011-07-11</th>\n",
       "      <td>$108.16</td>\n",
       "    </tr>\n",
       "    <tr>\n",
       "      <th>2011-07-12</th>\n",
       "      <td>$106.93</td>\n",
       "    </tr>\n",
       "    <tr>\n",
       "      <th>...</th>\n",
       "      <td>...</td>\n",
       "    </tr>\n",
       "    <tr>\n",
       "      <th>2021-06-29</th>\n",
       "      <td>$215.10</td>\n",
       "    </tr>\n",
       "    <tr>\n",
       "      <th>2021-06-30</th>\n",
       "      <td>$217.63</td>\n",
       "    </tr>\n",
       "    <tr>\n",
       "      <th>2021-07-01</th>\n",
       "      <td>$216.71</td>\n",
       "    </tr>\n",
       "    <tr>\n",
       "      <th>2021-07-02</th>\n",
       "      <td>$217.76</td>\n",
       "    </tr>\n",
       "    <tr>\n",
       "      <th>2021-07-06</th>\n",
       "      <td>$213.52</td>\n",
       "    </tr>\n",
       "  </tbody>\n",
       "</table>\n",
       "<p>2517 rows × 1 columns</p>\n",
       "</div>"
      ],
      "text/plain": [
       "              Close\n",
       "Date               \n",
       "2011-07-06  $110.08\n",
       "2011-07-07  $111.63\n",
       "2011-07-08  $110.41\n",
       "2011-07-11  $108.16\n",
       "2011-07-12  $106.93\n",
       "...             ...\n",
       "2021-06-29  $215.10\n",
       "2021-06-30  $217.63\n",
       "2021-07-01  $216.71\n",
       "2021-07-02  $217.76\n",
       "2021-07-06  $213.52\n",
       "\n",
       "[2517 rows x 1 columns]"
      ]
     },
     "execution_count": 7,
     "metadata": {},
     "output_type": "execute_result"
    }
   ],
   "source": [
    "cat_df = cat_df[['Close']]\n",
    "cat_df"
   ]
  },
  {
   "cell_type": "code",
   "execution_count": 8,
   "id": "764eaab5-8d9f-456f-8cde-cee754bae68c",
   "metadata": {},
   "outputs": [
    {
     "name": "stderr",
     "output_type": "stream",
     "text": [
      "<ipython-input-8-98ee503b25f7>:1: FutureWarning: The default value of regex will change from True to False in a future version. In addition, single character regular expressions will*not* be treated as literal strings when regex=True.\n",
      "  cat_df['Close'] = cat_df['Close'].str.replace('$', '').astype(float)\n"
     ]
    }
   ],
   "source": [
    "cat_df['Close'] = cat_df['Close'].str.replace('$', '').astype(float)"
   ]
  },
  {
   "cell_type": "code",
   "execution_count": 9,
   "id": "4e55db60-e78d-491d-b345-b3a59fd9861a",
   "metadata": {},
   "outputs": [
    {
     "data": {
      "text/html": [
       "<div>\n",
       "<style scoped>\n",
       "    .dataframe tbody tr th:only-of-type {\n",
       "        vertical-align: middle;\n",
       "    }\n",
       "\n",
       "    .dataframe tbody tr th {\n",
       "        vertical-align: top;\n",
       "    }\n",
       "\n",
       "    .dataframe thead th {\n",
       "        text-align: right;\n",
       "    }\n",
       "</style>\n",
       "<table border=\"1\" class=\"dataframe\">\n",
       "  <thead>\n",
       "    <tr style=\"text-align: right;\">\n",
       "      <th></th>\n",
       "      <th>Close</th>\n",
       "    </tr>\n",
       "    <tr>\n",
       "      <th>Date</th>\n",
       "      <th></th>\n",
       "    </tr>\n",
       "  </thead>\n",
       "  <tbody>\n",
       "    <tr>\n",
       "      <th>2011-07-06</th>\n",
       "      <td>110.08</td>\n",
       "    </tr>\n",
       "    <tr>\n",
       "      <th>2011-07-07</th>\n",
       "      <td>111.63</td>\n",
       "    </tr>\n",
       "    <tr>\n",
       "      <th>2011-07-08</th>\n",
       "      <td>110.41</td>\n",
       "    </tr>\n",
       "    <tr>\n",
       "      <th>2011-07-11</th>\n",
       "      <td>108.16</td>\n",
       "    </tr>\n",
       "    <tr>\n",
       "      <th>2011-07-12</th>\n",
       "      <td>106.93</td>\n",
       "    </tr>\n",
       "    <tr>\n",
       "      <th>...</th>\n",
       "      <td>...</td>\n",
       "    </tr>\n",
       "    <tr>\n",
       "      <th>2021-06-29</th>\n",
       "      <td>215.10</td>\n",
       "    </tr>\n",
       "    <tr>\n",
       "      <th>2021-06-30</th>\n",
       "      <td>217.63</td>\n",
       "    </tr>\n",
       "    <tr>\n",
       "      <th>2021-07-01</th>\n",
       "      <td>216.71</td>\n",
       "    </tr>\n",
       "    <tr>\n",
       "      <th>2021-07-02</th>\n",
       "      <td>217.76</td>\n",
       "    </tr>\n",
       "    <tr>\n",
       "      <th>2021-07-06</th>\n",
       "      <td>213.52</td>\n",
       "    </tr>\n",
       "  </tbody>\n",
       "</table>\n",
       "<p>2517 rows × 1 columns</p>\n",
       "</div>"
      ],
      "text/plain": [
       "             Close\n",
       "Date              \n",
       "2011-07-06  110.08\n",
       "2011-07-07  111.63\n",
       "2011-07-08  110.41\n",
       "2011-07-11  108.16\n",
       "2011-07-12  106.93\n",
       "...            ...\n",
       "2021-06-29  215.10\n",
       "2021-06-30  217.63\n",
       "2021-07-01  216.71\n",
       "2021-07-02  217.76\n",
       "2021-07-06  213.52\n",
       "\n",
       "[2517 rows x 1 columns]"
      ]
     },
     "execution_count": 9,
     "metadata": {},
     "output_type": "execute_result"
    }
   ],
   "source": [
    "cat_df"
   ]
  },
  {
   "cell_type": "code",
   "execution_count": 10,
   "id": "53a4bbe3-c429-46d3-9068-8ec5ee78ddcc",
   "metadata": {},
   "outputs": [],
   "source": [
    "def window_data(df, window, feature_col_number, target_col_number):\n",
    "    X = []\n",
    "    y = []\n",
    "    for i in range(len(df) - window- 1):\n",
    "        features = df.iloc[i : (i + window), feature_col_number]\n",
    "        target = df.iloc[(i + window), target_col_number]\n",
    "        X.append(features)\n",
    "        y.append(target)\n",
    "    return np.array(X), np.array(y).reshape(-1, 1)"
   ]
  },
  {
   "cell_type": "code",
   "execution_count": 11,
   "id": "4e7524a9-45c9-40ed-b83e-856c994f019c",
   "metadata": {},
   "outputs": [
    {
     "name": "stdout",
     "output_type": "stream",
     "text": [
      "X sample values:\n",
      "[[110.08 111.63 110.41 108.16 106.93 108.64 107.58 109.36 107.8  109.64\n",
      "  110.31 111.6  105.15 105.66 105.2  101.34  99.64  98.79 100.72  97.18\n",
      "   96.28  89.55  90.99  82.6   87.48  83.51  87.25  89.81  91.37  89.35\n",
      "   87.64  83.33  79.97  79.89  82.98  85.4   83.25  85.16  88.15  89.83\n",
      "   91.    88.55  85.38  85.7   88.69  87.04  83.96  83.87  85.02  85.45\n",
      "   86.6   85.9   84.6   83.66  79.36  73.9   73.86  76.85  77.67  75.08\n",
      "   75.39  73.84  70.55  72.54  74.26  77.09  75.52  79.13  80.66  81.7\n",
      "   81.44  84.09  81.52  84.72  83.56  84.26  87.39  91.77  89.89  91.57\n",
      "   96.33  96.85  94.46  91.63  93.94  96.    95.74  95.    95.89  91.64\n",
      "   92.2   96.13  96.53  97.07  95.75  93.81  93.93  91.12  89.99  87.76]\n",
      " [111.63 110.41 108.16 106.93 108.64 107.58 109.36 107.8  109.64 110.31\n",
      "  111.6  105.15 105.66 105.2  101.34  99.64  98.79 100.72  97.18  96.28\n",
      "   89.55  90.99  82.6   87.48  83.51  87.25  89.81  91.37  89.35  87.64\n",
      "   83.33  79.97  79.89  82.98  85.4   83.25  85.16  88.15  89.83  91.\n",
      "   88.55  85.38  85.7   88.69  87.04  83.96  83.87  85.02  85.45  86.6\n",
      "   85.9   84.6   83.66  79.36  73.9   73.86  76.85  77.67  75.08  75.39\n",
      "   73.84  70.55  72.54  74.26  77.09  75.52  79.13  80.66  81.7   81.44\n",
      "   84.09  81.52  84.72  83.56  84.26  87.39  91.77  89.89  91.57  96.33\n",
      "   96.85  94.46  91.63  93.94  96.    95.74  95.    95.89  91.64  92.2\n",
      "   96.13  96.53  97.07  95.75  93.81  93.93  91.12  89.99  87.76  86.72]\n",
      " [110.41 108.16 106.93 108.64 107.58 109.36 107.8  109.64 110.31 111.6\n",
      "  105.15 105.66 105.2  101.34  99.64  98.79 100.72  97.18  96.28  89.55\n",
      "   90.99  82.6   87.48  83.51  87.25  89.81  91.37  89.35  87.64  83.33\n",
      "   79.97  79.89  82.98  85.4   83.25  85.16  88.15  89.83  91.    88.55\n",
      "   85.38  85.7   88.69  87.04  83.96  83.87  85.02  85.45  86.6   85.9\n",
      "   84.6   83.66  79.36  73.9   73.86  76.85  77.67  75.08  75.39  73.84\n",
      "   70.55  72.54  74.26  77.09  75.52  79.13  80.66  81.7   81.44  84.09\n",
      "   81.52  84.72  83.56  84.26  87.39  91.77  89.89  91.57  96.33  96.85\n",
      "   94.46  91.63  93.94  96.    95.74  95.    95.89  91.64  92.2   96.13\n",
      "   96.53  97.07  95.75  93.81  93.93  91.12  89.99  87.76  86.72  91.48]] \n",
      "\n",
      "y sample values:\n",
      "[[86.72]\n",
      " [91.48]\n",
      " [90.54]]\n"
     ]
    }
   ],
   "source": [
    "window_size = 100\n",
    "feature_column = 0 # why 0?\n",
    "target_column = 0 # Why 0?\n",
    "\n",
    "X, y = window_data(cat_df, window_size, feature_column, target_column)\n",
    "\n",
    "print (f\"X sample values:\\n{X[:3]} \\n\")\n",
    "print (f\"y sample values:\\n{y[:3]}\")"
   ]
  },
  {
   "cell_type": "code",
   "execution_count": 12,
   "id": "92118b45-8bc1-4fcf-9ec2-c219656556f6",
   "metadata": {},
   "outputs": [],
   "source": [
    "split = int(0.6 * len(X))\n",
    "\n",
    "X_train = X[: split]\n",
    "X_test = X[split:]\n",
    "\n",
    "y_train = y[: split]\n",
    "y_test = y[split:]"
   ]
  },
  {
   "cell_type": "code",
   "execution_count": 13,
   "id": "9bb7e319-ad08-4a4b-aa38-8b2671d7b030",
   "metadata": {},
   "outputs": [
    {
     "data": {
      "text/plain": [
       "array([[ 86.72],\n",
       "       [ 91.48],\n",
       "       [ 90.54],\n",
       "       ...,\n",
       "       [115.35],\n",
       "       [115.07],\n",
       "       [116.01]])"
      ]
     },
     "execution_count": 13,
     "metadata": {},
     "output_type": "execute_result"
    }
   ],
   "source": [
    "y_train"
   ]
  },
  {
   "cell_type": "code",
   "execution_count": 15,
   "id": "e64fae58-e5ad-437e-819e-841bbf650c5b",
   "metadata": {},
   "outputs": [],
   "source": [
    "# Importing the MinMaxScaler from sklearn\n",
    "from sklearn.preprocessing import MinMaxScaler\n",
    "\n",
    "x_train_scaler = MinMaxScaler()\n",
    "#x_test_scaler = MinMaxScaler()\n",
    "y_train_scaler = MinMaxScaler()\n",
    "#y_test_scaler = MinMaxScaler()\n",
    "\n",
    "# Fit the scaler for the training Data\n",
    "x_train_scaler.fit(X_train)\n",
    "y_train_scaler.fit(y_train)\n",
    "\n",
    "# Scale the training data\n",
    "X_train = x_train_scaler.transform(X_train)\n",
    "y_train = y_train_scaler.transform(y_train)\n",
    "\n",
    "# Fit the scaler for the testing Data\n",
    "#x_test_scaler.fit(X_test)\n",
    "#y_test_scaler.fit(y_test)\n",
    "\n",
    "# Scale the y_test data\n",
    "X_test = x_train_scaler.transform(X_test)\n",
    "y_test = y_train_scaler.transform(y_test)"
   ]
  },
  {
   "cell_type": "code",
   "execution_count": 16,
   "id": "c0fd3991-e9a1-4f38-b119-b7857b9b08c6",
   "metadata": {},
   "outputs": [],
   "source": [
    "# Reshape the features data\n",
    "X_train = X_train.reshape((X_train.shape[0], X_train.shape[1], 1))\n",
    "X_test = X_test.reshape((X_test.shape[0], X_test.shape[1], 1))"
   ]
  },
  {
   "cell_type": "code",
   "execution_count": 17,
   "id": "8a1252e5-b384-489d-908c-5f57a788792c",
   "metadata": {},
   "outputs": [],
   "source": [
    "# Importing required Keras modules\n",
    "from tensorflow.keras.models import Sequential\n",
    "from tensorflow.keras.layers import LSTM, Dense, Dropout"
   ]
  },
  {
   "cell_type": "code",
   "execution_count": 18,
   "id": "208a6cad-344a-478b-a2b0-33c04d1e6318",
   "metadata": {},
   "outputs": [],
   "source": [
    "# Define the LSTM RNN model.\n",
    "model = Sequential()\n",
    "\n",
    "# Initial model setup\n",
    "number_units = window_size\n",
    "# 20% of neurons to be dropped out\n",
    "dropout_fraction = 0.2\n",
    "\n",
    "# Layer 1\n",
    "model.add(LSTM(\n",
    "    units=number_units,\n",
    "    return_sequences=True,\n",
    "    input_shape=(X_train.shape[1], 1))\n",
    "    )\n",
    "model.add(Dropout(dropout_fraction))\n",
    "\n",
    "# Layer 2\n",
    "model.add(LSTM(units=number_units, return_sequences=True))\n",
    "model.add(Dropout(dropout_fraction))\n",
    "\n",
    "# Layer 3\n",
    "model.add(LSTM(units=number_units))\n",
    "model.add(Dropout(dropout_fraction))\n",
    "\n",
    "# Output layer\n",
    "model.add(Dense(1))"
   ]
  },
  {
   "cell_type": "code",
   "execution_count": 19,
   "id": "0444b247-daa7-4f16-9b66-bce68c64f619",
   "metadata": {},
   "outputs": [
    {
     "name": "stdout",
     "output_type": "stream",
     "text": [
      "Model: \"sequential\"\n",
      "_________________________________________________________________\n",
      "Layer (type)                 Output Shape              Param #   \n",
      "=================================================================\n",
      "lstm (LSTM)                  (None, 100, 100)          40800     \n",
      "_________________________________________________________________\n",
      "dropout (Dropout)            (None, 100, 100)          0         \n",
      "_________________________________________________________________\n",
      "lstm_1 (LSTM)                (None, 100, 100)          80400     \n",
      "_________________________________________________________________\n",
      "dropout_1 (Dropout)          (None, 100, 100)          0         \n",
      "_________________________________________________________________\n",
      "lstm_2 (LSTM)                (None, 100)               80400     \n",
      "_________________________________________________________________\n",
      "dropout_2 (Dropout)          (None, 100)               0         \n",
      "_________________________________________________________________\n",
      "dense (Dense)                (None, 1)                 101       \n",
      "=================================================================\n",
      "Total params: 201,701\n",
      "Trainable params: 201,701\n",
      "Non-trainable params: 0\n",
      "_________________________________________________________________\n"
     ]
    }
   ],
   "source": [
    "model.compile(optimizer=\"adam\", loss=\"mean_squared_error\")\n",
    "model.summary()"
   ]
  },
  {
   "cell_type": "code",
   "execution_count": 20,
   "id": "ac5ca390-9ce6-4e1f-82a0-2255d9adb28d",
   "metadata": {},
   "outputs": [
    {
     "name": "stdout",
     "output_type": "stream",
     "text": [
      "Epoch 1/20\n",
      "15/15 [==============================] - 1s 76ms/step - loss: 0.1924\n",
      "Epoch 2/20\n",
      "15/15 [==============================] - 1s 76ms/step - loss: 0.0325\n",
      "Epoch 3/20\n",
      "15/15 [==============================] - 1s 75ms/step - loss: 0.0282\n",
      "Epoch 4/20\n",
      "15/15 [==============================] - 1s 75ms/step - loss: 0.0151\n",
      "Epoch 5/20\n",
      "15/15 [==============================] - 1s 95ms/step - loss: 0.0095\n",
      "Epoch 6/20\n",
      "15/15 [==============================] - 1s 97ms/step - loss: 0.0091\n",
      "Epoch 7/20\n",
      "15/15 [==============================] - 1s 78ms/step - loss: 0.0111\n",
      "Epoch 8/20\n",
      "15/15 [==============================] - 1s 73ms/step - loss: 0.0150\n",
      "Epoch 9/20\n",
      "15/15 [==============================] - 1s 74ms/step - loss: 0.0175\n",
      "Epoch 10/20\n",
      "15/15 [==============================] - 1s 76ms/step - loss: 0.0140\n",
      "Epoch 11/20\n",
      "15/15 [==============================] - 1s 77ms/step - loss: 0.0075\n",
      "Epoch 12/20\n",
      "15/15 [==============================] - 1s 74ms/step - loss: 0.0080\n",
      "Epoch 13/20\n",
      "15/15 [==============================] - 1s 75ms/step - loss: 0.0086\n",
      "Epoch 14/20\n",
      "15/15 [==============================] - 1s 89ms/step - loss: 0.0096\n",
      "Epoch 15/20\n",
      "15/15 [==============================] - 1s 78ms/step - loss: 0.0118\n",
      "Epoch 16/20\n",
      "15/15 [==============================] - 1s 74ms/step - loss: 0.0120\n",
      "Epoch 17/20\n",
      "15/15 [==============================] - 1s 73ms/step - loss: 0.0099\n",
      "Epoch 18/20\n",
      "15/15 [==============================] - 1s 74ms/step - loss: 0.0089\n",
      "Epoch 19/20\n",
      "15/15 [==============================] - 1s 72ms/step - loss: 0.0084\n",
      "Epoch 20/20\n",
      "15/15 [==============================] - 1s 73ms/step - loss: 0.0092\n"
     ]
    },
    {
     "data": {
      "text/plain": [
       "<tensorflow.python.keras.callbacks.History at 0x17e3295e0>"
      ]
     },
     "execution_count": 20,
     "metadata": {},
     "output_type": "execute_result"
    }
   ],
   "source": [
    "model.fit(X_train, y_train, epochs=20, shuffle=False, batch_size=100, verbose=1)"
   ]
  },
  {
   "cell_type": "code",
   "execution_count": 21,
   "id": "b04943b5-d2bd-434d-bf9c-cf4375f4f373",
   "metadata": {},
   "outputs": [
    {
     "data": {
      "text/plain": [
       "0.17672023177146912"
      ]
     },
     "execution_count": 21,
     "metadata": {},
     "output_type": "execute_result"
    }
   ],
   "source": [
    "model.evaluate(X_test, y_test, verbose=0)"
   ]
  },
  {
   "cell_type": "code",
   "execution_count": 22,
   "id": "73e14e5a-976e-4010-a092-72377bbb6950",
   "metadata": {},
   "outputs": [],
   "source": [
    "predicted = model.predict(X_test)"
   ]
  },
  {
   "cell_type": "code",
   "execution_count": 23,
   "id": "0cbd5bd3-2585-4f29-803b-cbc94cf16425",
   "metadata": {},
   "outputs": [],
   "source": [
    "predicted_prices = y_train_scaler.inverse_transform(predicted)"
   ]
  },
  {
   "cell_type": "code",
   "execution_count": 24,
   "id": "84759e8d-0e13-4458-ae30-085a0ad2e9fb",
   "metadata": {},
   "outputs": [],
   "source": [
    "real_prices = y_train_scaler.inverse_transform(y_test.reshape(-1,1))"
   ]
  },
  {
   "cell_type": "code",
   "execution_count": 25,
   "id": "4e46f3ac-a7a3-49b9-a13b-f089dfe4406c",
   "metadata": {},
   "outputs": [
    {
     "data": {
      "text/html": [
       "<div>\n",
       "<style scoped>\n",
       "    .dataframe tbody tr th:only-of-type {\n",
       "        vertical-align: middle;\n",
       "    }\n",
       "\n",
       "    .dataframe tbody tr th {\n",
       "        vertical-align: top;\n",
       "    }\n",
       "\n",
       "    .dataframe thead th {\n",
       "        text-align: right;\n",
       "    }\n",
       "</style>\n",
       "<table border=\"1\" class=\"dataframe\">\n",
       "  <thead>\n",
       "    <tr style=\"text-align: right;\">\n",
       "      <th></th>\n",
       "      <th>Actual</th>\n",
       "      <th>Predicted</th>\n",
       "    </tr>\n",
       "    <tr>\n",
       "      <th>Date</th>\n",
       "      <th></th>\n",
       "      <th></th>\n",
       "    </tr>\n",
       "  </thead>\n",
       "  <tbody>\n",
       "    <tr>\n",
       "      <th>2017-08-31</th>\n",
       "      <td>117.55</td>\n",
       "      <td>108.152832</td>\n",
       "    </tr>\n",
       "    <tr>\n",
       "      <th>2017-09-01</th>\n",
       "      <td>117.49</td>\n",
       "      <td>108.336411</td>\n",
       "    </tr>\n",
       "    <tr>\n",
       "      <th>2017-09-05</th>\n",
       "      <td>118.28</td>\n",
       "      <td>108.566872</td>\n",
       "    </tr>\n",
       "    <tr>\n",
       "      <th>2017-09-06</th>\n",
       "      <td>118.30</td>\n",
       "      <td>108.846191</td>\n",
       "    </tr>\n",
       "    <tr>\n",
       "      <th>2017-09-07</th>\n",
       "      <td>116.98</td>\n",
       "      <td>109.159241</td>\n",
       "    </tr>\n",
       "  </tbody>\n",
       "</table>\n",
       "</div>"
      ],
      "text/plain": [
       "            Actual   Predicted\n",
       "Date                          \n",
       "2017-08-31  117.55  108.152832\n",
       "2017-09-01  117.49  108.336411\n",
       "2017-09-05  118.28  108.566872\n",
       "2017-09-06  118.30  108.846191\n",
       "2017-09-07  116.98  109.159241"
      ]
     },
     "execution_count": 25,
     "metadata": {},
     "output_type": "execute_result"
    }
   ],
   "source": [
    "cat_actual_predicted = pd.DataFrame({\n",
    "    \"Actual\": real_prices.ravel(),\n",
    "    \"Predicted\": predicted_prices.ravel()\n",
    "}, index = cat_df.index[-len(real_prices): ]) \n",
    "\n",
    "# Show the DataFrame's head\n",
    "cat_actual_predicted.head()"
   ]
  },
  {
   "cell_type": "code",
   "execution_count": 26,
   "id": "e48721a8-e8ca-41a8-a514-36964b0091d1",
   "metadata": {},
   "outputs": [
    {
     "data": {
      "text/html": [
       "<div>\n",
       "<style scoped>\n",
       "    .dataframe tbody tr th:only-of-type {\n",
       "        vertical-align: middle;\n",
       "    }\n",
       "\n",
       "    .dataframe tbody tr th {\n",
       "        vertical-align: top;\n",
       "    }\n",
       "\n",
       "    .dataframe thead th {\n",
       "        text-align: right;\n",
       "    }\n",
       "</style>\n",
       "<table border=\"1\" class=\"dataframe\">\n",
       "  <thead>\n",
       "    <tr style=\"text-align: right;\">\n",
       "      <th></th>\n",
       "      <th>Actual</th>\n",
       "      <th>Predicted</th>\n",
       "    </tr>\n",
       "    <tr>\n",
       "      <th>Date</th>\n",
       "      <th></th>\n",
       "      <th></th>\n",
       "    </tr>\n",
       "  </thead>\n",
       "  <tbody>\n",
       "    <tr>\n",
       "      <th>2021-06-29</th>\n",
       "      <td>216.27</td>\n",
       "      <td>165.633316</td>\n",
       "    </tr>\n",
       "    <tr>\n",
       "      <th>2021-06-30</th>\n",
       "      <td>215.10</td>\n",
       "      <td>165.417419</td>\n",
       "    </tr>\n",
       "    <tr>\n",
       "      <th>2021-07-01</th>\n",
       "      <td>217.63</td>\n",
       "      <td>165.262131</td>\n",
       "    </tr>\n",
       "    <tr>\n",
       "      <th>2021-07-02</th>\n",
       "      <td>216.71</td>\n",
       "      <td>165.183273</td>\n",
       "    </tr>\n",
       "    <tr>\n",
       "      <th>2021-07-06</th>\n",
       "      <td>217.76</td>\n",
       "      <td>165.151260</td>\n",
       "    </tr>\n",
       "  </tbody>\n",
       "</table>\n",
       "</div>"
      ],
      "text/plain": [
       "            Actual   Predicted\n",
       "Date                          \n",
       "2021-06-29  216.27  165.633316\n",
       "2021-06-30  215.10  165.417419\n",
       "2021-07-01  217.63  165.262131\n",
       "2021-07-02  216.71  165.183273\n",
       "2021-07-06  217.76  165.151260"
      ]
     },
     "execution_count": 26,
     "metadata": {},
     "output_type": "execute_result"
    }
   ],
   "source": [
    "cat_actual_predicted.tail()"
   ]
  },
  {
   "cell_type": "code",
   "execution_count": 27,
   "id": "26f77a16-92fb-4cb9-827c-93574bfb84ef",
   "metadata": {},
   "outputs": [
    {
     "data": {
      "image/png": "[encoded data removed]",
      "text/plain": [
       "<Figure size 1440x720 with 1 Axes>"
      ]
     },
     "metadata": {
      "needs_background": "light"
     },
     "output_type": "display_data"
    }
   ],
   "source": [
    "cat_actual_predicted.plot(figsize=(20,10))\n",
    "plt.title('$CAT Stock Price Actual and Predicted (08/31/2017 - 07/06/2021)')\n",
    "plt.xlabel('Year')\n",
    "plt.ylabel('Stock Price per Share (in USD)')\n",
    "plt.legend(loc=\"best\")\n",
    "plt.show()"
   ]
  },
  {
   "cell_type": "code",
   "execution_count": 28,
   "id": "0fe550b8-3bbe-40e2-bd4c-26fa8b408386",
   "metadata": {},
   "outputs": [],
   "source": []
  }
 ],
 "metadata": {
  "kernelspec": {
   "display_name": "Python 3",
   "language": "python",
   "name": "python3"
  },
  "language_info": {
   "codemirror_mode": {
    "name": "ipython",
    "version": 3
   },
   "file_extension": ".py",
   "mimetype": "text/x-python",
   "name": "python",
   "nbconvert_exporter": "python",
   "pygments_lexer": "ipython3",
   "version": "3.8.10"
  }
 },
 "nbformat": 4,
 "nbformat_minor": 5
}
