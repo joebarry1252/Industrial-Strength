{
 "cells": [
  {
   "cell_type": "markdown",
   "id": "4650203e-3bf4-4c00-b2a9-2e22f7a46fd0",
   "metadata": {},
   "source": [
    "HON ML Model\n",
    "\n",
    " window = 100\n",
    " epoch = 20\n",
    " batch = 100\n",
    " dropout = .02"
   ]
  },
  {
   "cell_type": "code",
   "execution_count": 1,
   "id": "733fe844-5e37-4499-994b-17f4692f7b57",
   "metadata": {},
   "outputs": [],
   "source": [
    "import os\n",
    "import numpy as np\n",
    "import pandas as pd\n",
    "import matplotlib.pyplot as plt\n",
    "import alpaca_trade_api as tradeapi\n",
    "from pathlib import Path\n",
    "import requests\n",
    "\n",
    "%matplotlib inline"
   ]
  },
  {
   "cell_type": "code",
   "execution_count": 2,
   "id": "be00c255-1dde-4d91-9e03-144405d1004f",
   "metadata": {},
   "outputs": [
    {
     "name": "stdout",
     "output_type": "stream",
     "text": [
      "/Users/josephbarry/Desktop/FinTech_Class/Project_2/supreme-broccoli/notebooks/JB_scratchwork/Final_Models/ML_Stock_Predictions\n"
     ]
    }
   ],
   "source": [
    "!pwd"
   ]
  },
  {
   "cell_type": "code",
   "execution_count": 3,
   "id": "ce7750fa-4141-4766-bcd8-0b850495a14e",
   "metadata": {},
   "outputs": [],
   "source": [
    "csvpath = Path(\"HON_nasdaqdata.csv\")\n",
    "\n",
    "hon_df = pd.read_csv(csvpath, index_col='Date', infer_datetime_format=True, parse_dates=True)"
   ]
  },
  {
   "cell_type": "code",
   "execution_count": 4,
   "id": "8bed2bd8-d9dd-46cf-be84-7545200c2e8a",
   "metadata": {},
   "outputs": [
    {
     "data": {
      "text/html": [
       "<div>\n",
       "<style scoped>\n",
       "    .dataframe tbody tr th:only-of-type {\n",
       "        vertical-align: middle;\n",
       "    }\n",
       "\n",
       "    .dataframe tbody tr th {\n",
       "        vertical-align: top;\n",
       "    }\n",
       "\n",
       "    .dataframe thead th {\n",
       "        text-align: right;\n",
       "    }\n",
       "</style>\n",
       "<table border=\"1\" class=\"dataframe\">\n",
       "  <thead>\n",
       "    <tr style=\"text-align: right;\">\n",
       "      <th></th>\n",
       "      <th>Close/Last</th>\n",
       "      <th>Volume</th>\n",
       "      <th>Open</th>\n",
       "      <th>High</th>\n",
       "      <th>Low</th>\n",
       "    </tr>\n",
       "    <tr>\n",
       "      <th>Date</th>\n",
       "      <th></th>\n",
       "      <th></th>\n",
       "      <th></th>\n",
       "      <th></th>\n",
       "      <th></th>\n",
       "    </tr>\n",
       "  </thead>\n",
       "  <tbody>\n",
       "    <tr>\n",
       "      <th>2021-07-06</th>\n",
       "      <td>$218.56</td>\n",
       "      <td>1935849</td>\n",
       "      <td>$220.09</td>\n",
       "      <td>$220.95</td>\n",
       "      <td>$215.93</td>\n",
       "    </tr>\n",
       "    <tr>\n",
       "      <th>2021-07-02</th>\n",
       "      <td>$221.32</td>\n",
       "      <td>1543562</td>\n",
       "      <td>$220.99</td>\n",
       "      <td>$222.05</td>\n",
       "      <td>$219.71</td>\n",
       "    </tr>\n",
       "    <tr>\n",
       "      <th>2021-07-01</th>\n",
       "      <td>$220.62</td>\n",
       "      <td>1630291</td>\n",
       "      <td>$220.58</td>\n",
       "      <td>$221.26</td>\n",
       "      <td>$219.66</td>\n",
       "    </tr>\n",
       "    <tr>\n",
       "      <th>2021-06-30</th>\n",
       "      <td>$219.35</td>\n",
       "      <td>2866404</td>\n",
       "      <td>$215.53</td>\n",
       "      <td>$219.86</td>\n",
       "      <td>$215.53</td>\n",
       "    </tr>\n",
       "    <tr>\n",
       "      <th>2021-06-29</th>\n",
       "      <td>$215.95</td>\n",
       "      <td>3001976</td>\n",
       "      <td>$217.03</td>\n",
       "      <td>$218.36</td>\n",
       "      <td>$215.42</td>\n",
       "    </tr>\n",
       "  </tbody>\n",
       "</table>\n",
       "</div>"
      ],
      "text/plain": [
       "           Close/Last   Volume     Open     High      Low\n",
       "Date                                                     \n",
       "2021-07-06    $218.56  1935849  $220.09  $220.95  $215.93\n",
       "2021-07-02    $221.32  1543562  $220.99  $222.05  $219.71\n",
       "2021-07-01    $220.62  1630291  $220.58  $221.26  $219.66\n",
       "2021-06-30    $219.35  2866404  $215.53  $219.86  $215.53\n",
       "2021-06-29    $215.95  3001976  $217.03  $218.36  $215.42"
      ]
     },
     "execution_count": 4,
     "metadata": {},
     "output_type": "execute_result"
    }
   ],
   "source": [
    "hon_df.head()"
   ]
  },
  {
   "cell_type": "code",
   "execution_count": 5,
   "id": "b8224ef3-840d-4b70-91bd-1d8e784dc427",
   "metadata": {},
   "outputs": [],
   "source": [
    "hon_df.sort_index(ascending=True, inplace=True)\n",
    "\n",
    "hon_df = hon_df.rename(columns={\"Close/Last\": \"Close\"})"
   ]
  },
  {
   "cell_type": "code",
   "execution_count": 6,
   "id": "80893f00-4b52-46dc-acc9-1fbc6d63958d",
   "metadata": {},
   "outputs": [
    {
     "data": {
      "text/html": [
       "<div>\n",
       "<style scoped>\n",
       "    .dataframe tbody tr th:only-of-type {\n",
       "        vertical-align: middle;\n",
       "    }\n",
       "\n",
       "    .dataframe tbody tr th {\n",
       "        vertical-align: top;\n",
       "    }\n",
       "\n",
       "    .dataframe thead th {\n",
       "        text-align: right;\n",
       "    }\n",
       "</style>\n",
       "<table border=\"1\" class=\"dataframe\">\n",
       "  <thead>\n",
       "    <tr style=\"text-align: right;\">\n",
       "      <th></th>\n",
       "      <th>Close</th>\n",
       "    </tr>\n",
       "    <tr>\n",
       "      <th>Date</th>\n",
       "      <th></th>\n",
       "    </tr>\n",
       "  </thead>\n",
       "  <tbody>\n",
       "    <tr>\n",
       "      <th>2011-07-06</th>\n",
       "      <td>$58.91</td>\n",
       "    </tr>\n",
       "    <tr>\n",
       "      <th>2011-07-07</th>\n",
       "      <td>$59.65</td>\n",
       "    </tr>\n",
       "    <tr>\n",
       "      <th>2011-07-08</th>\n",
       "      <td>$58.76</td>\n",
       "    </tr>\n",
       "    <tr>\n",
       "      <th>2011-07-11</th>\n",
       "      <td>$57.54</td>\n",
       "    </tr>\n",
       "    <tr>\n",
       "      <th>2011-07-12</th>\n",
       "      <td>$56.53</td>\n",
       "    </tr>\n",
       "    <tr>\n",
       "      <th>...</th>\n",
       "      <td>...</td>\n",
       "    </tr>\n",
       "    <tr>\n",
       "      <th>2021-06-29</th>\n",
       "      <td>$215.95</td>\n",
       "    </tr>\n",
       "    <tr>\n",
       "      <th>2021-06-30</th>\n",
       "      <td>$219.35</td>\n",
       "    </tr>\n",
       "    <tr>\n",
       "      <th>2021-07-01</th>\n",
       "      <td>$220.62</td>\n",
       "    </tr>\n",
       "    <tr>\n",
       "      <th>2021-07-02</th>\n",
       "      <td>$221.32</td>\n",
       "    </tr>\n",
       "    <tr>\n",
       "      <th>2021-07-06</th>\n",
       "      <td>$218.56</td>\n",
       "    </tr>\n",
       "  </tbody>\n",
       "</table>\n",
       "<p>2517 rows × 1 columns</p>\n",
       "</div>"
      ],
      "text/plain": [
       "              Close\n",
       "Date               \n",
       "2011-07-06   $58.91\n",
       "2011-07-07   $59.65\n",
       "2011-07-08   $58.76\n",
       "2011-07-11   $57.54\n",
       "2011-07-12   $56.53\n",
       "...             ...\n",
       "2021-06-29  $215.95\n",
       "2021-06-30  $219.35\n",
       "2021-07-01  $220.62\n",
       "2021-07-02  $221.32\n",
       "2021-07-06  $218.56\n",
       "\n",
       "[2517 rows x 1 columns]"
      ]
     },
     "execution_count": 6,
     "metadata": {},
     "output_type": "execute_result"
    }
   ],
   "source": [
    "hon_df = hon_df[['Close']]\n",
    "hon_df"
   ]
  },
  {
   "cell_type": "code",
   "execution_count": 7,
   "id": "89a5a3b5-511e-4b1c-ae41-486f08ed013a",
   "metadata": {},
   "outputs": [
    {
     "name": "stderr",
     "output_type": "stream",
     "text": [
      "<ipython-input-7-4e1fc7b57f62>:1: FutureWarning: The default value of regex will change from True to False in a future version. In addition, single character regular expressions will*not* be treated as literal strings when regex=True.\n",
      "  hon_df['Close'] = hon_df['Close'].str.replace('$', '').astype(float)\n"
     ]
    },
    {
     "data": {
      "text/html": [
       "<div>\n",
       "<style scoped>\n",
       "    .dataframe tbody tr th:only-of-type {\n",
       "        vertical-align: middle;\n",
       "    }\n",
       "\n",
       "    .dataframe tbody tr th {\n",
       "        vertical-align: top;\n",
       "    }\n",
       "\n",
       "    .dataframe thead th {\n",
       "        text-align: right;\n",
       "    }\n",
       "</style>\n",
       "<table border=\"1\" class=\"dataframe\">\n",
       "  <thead>\n",
       "    <tr style=\"text-align: right;\">\n",
       "      <th></th>\n",
       "      <th>Close</th>\n",
       "    </tr>\n",
       "    <tr>\n",
       "      <th>Date</th>\n",
       "      <th></th>\n",
       "    </tr>\n",
       "  </thead>\n",
       "  <tbody>\n",
       "    <tr>\n",
       "      <th>2011-07-06</th>\n",
       "      <td>58.91</td>\n",
       "    </tr>\n",
       "    <tr>\n",
       "      <th>2011-07-07</th>\n",
       "      <td>59.65</td>\n",
       "    </tr>\n",
       "    <tr>\n",
       "      <th>2011-07-08</th>\n",
       "      <td>58.76</td>\n",
       "    </tr>\n",
       "    <tr>\n",
       "      <th>2011-07-11</th>\n",
       "      <td>57.54</td>\n",
       "    </tr>\n",
       "    <tr>\n",
       "      <th>2011-07-12</th>\n",
       "      <td>56.53</td>\n",
       "    </tr>\n",
       "    <tr>\n",
       "      <th>...</th>\n",
       "      <td>...</td>\n",
       "    </tr>\n",
       "    <tr>\n",
       "      <th>2021-06-29</th>\n",
       "      <td>215.95</td>\n",
       "    </tr>\n",
       "    <tr>\n",
       "      <th>2021-06-30</th>\n",
       "      <td>219.35</td>\n",
       "    </tr>\n",
       "    <tr>\n",
       "      <th>2021-07-01</th>\n",
       "      <td>220.62</td>\n",
       "    </tr>\n",
       "    <tr>\n",
       "      <th>2021-07-02</th>\n",
       "      <td>221.32</td>\n",
       "    </tr>\n",
       "    <tr>\n",
       "      <th>2021-07-06</th>\n",
       "      <td>218.56</td>\n",
       "    </tr>\n",
       "  </tbody>\n",
       "</table>\n",
       "<p>2517 rows × 1 columns</p>\n",
       "</div>"
      ],
      "text/plain": [
       "             Close\n",
       "Date              \n",
       "2011-07-06   58.91\n",
       "2011-07-07   59.65\n",
       "2011-07-08   58.76\n",
       "2011-07-11   57.54\n",
       "2011-07-12   56.53\n",
       "...            ...\n",
       "2021-06-29  215.95\n",
       "2021-06-30  219.35\n",
       "2021-07-01  220.62\n",
       "2021-07-02  221.32\n",
       "2021-07-06  218.56\n",
       "\n",
       "[2517 rows x 1 columns]"
      ]
     },
     "execution_count": 7,
     "metadata": {},
     "output_type": "execute_result"
    }
   ],
   "source": [
    "hon_df['Close'] = hon_df['Close'].str.replace('$', '').astype(float)\n",
    "hon_df"
   ]
  },
  {
   "cell_type": "code",
   "execution_count": 8,
   "id": "9b54ede5-62d8-4468-81a6-d02c5b1cb005",
   "metadata": {},
   "outputs": [],
   "source": [
    "def window_data(df, window, feature_col_number, target_col_number):\n",
    "    X = []\n",
    "    y = []\n",
    "    for i in range(len(df) - window- 1):\n",
    "        features = df.iloc[i : (i + window), feature_col_number]\n",
    "        target = df.iloc[(i + window), target_col_number]\n",
    "        X.append(features)\n",
    "        y.append(target)\n",
    "    return np.array(X), np.array(y).reshape(-1, 1)"
   ]
  },
  {
   "cell_type": "code",
   "execution_count": 10,
   "id": "8a06d711-14b8-4a6f-aae8-124f74f48518",
   "metadata": {},
   "outputs": [
    {
     "name": "stdout",
     "output_type": "stream",
     "text": [
      "X sample values:\n",
      "[[58.91 59.65 58.76 57.54 56.53 56.83 56.26 56.5  55.83 56.68 56.59 57.45\n",
      "  55.66 55.56 54.61 52.76 52.3  52.4  52.36 50.53 50.91 48.05 47.35 43.71\n",
      "  46.15 42.65 44.04 46.26 46.61 45.43 45.39 42.2  41.64 41.39 43.58 44.23\n",
      "  44.14 44.88 46.38 46.67 47.18 46.26 44.85 44.46 46.41 45.33 44.13 43.56\n",
      "  43.99 44.81 46.03 46.51 46.7  46.14 44.28 41.42 41.87 43.23 44.55 43.69\n",
      "  44.41 43.33 41.76 43.09 43.79 44.47 44.89 46.54 46.75 47.85 47.26 48.8\n",
      "  47.07 48.68 48.18 47.82 50.61 51.09 50.04 50.73 53.36 53.17 51.71 50.53\n",
      "  51.76 53.23 53.24 53.25 53.93 52.14 52.86 54.07 53.99 54.06 52.59 51.91\n",
      "  52.06 50.63 50.29 48.54]\n",
      " [59.65 58.76 57.54 56.53 56.83 56.26 56.5  55.83 56.68 56.59 57.45 55.66\n",
      "  55.56 54.61 52.76 52.3  52.4  52.36 50.53 50.91 48.05 47.35 43.71 46.15\n",
      "  42.65 44.04 46.26 46.61 45.43 45.39 42.2  41.64 41.39 43.58 44.23 44.14\n",
      "  44.88 46.38 46.67 47.18 46.26 44.85 44.46 46.41 45.33 44.13 43.56 43.99\n",
      "  44.81 46.03 46.51 46.7  46.14 44.28 41.42 41.87 43.23 44.55 43.69 44.41\n",
      "  43.33 41.76 43.09 43.79 44.47 44.89 46.54 46.75 47.85 47.26 48.8  47.07\n",
      "  48.68 48.18 47.82 50.61 51.09 50.04 50.73 53.36 53.17 51.71 50.53 51.76\n",
      "  53.23 53.24 53.25 53.93 52.14 52.86 54.07 53.99 54.06 52.59 51.91 52.06\n",
      "  50.63 50.29 48.54 48.5 ]\n",
      " [58.76 57.54 56.53 56.83 56.26 56.5  55.83 56.68 56.59 57.45 55.66 55.56\n",
      "  54.61 52.76 52.3  52.4  52.36 50.53 50.91 48.05 47.35 43.71 46.15 42.65\n",
      "  44.04 46.26 46.61 45.43 45.39 42.2  41.64 41.39 43.58 44.23 44.14 44.88\n",
      "  46.38 46.67 47.18 46.26 44.85 44.46 46.41 45.33 44.13 43.56 43.99 44.81\n",
      "  46.03 46.51 46.7  46.14 44.28 41.42 41.87 43.23 44.55 43.69 44.41 43.33\n",
      "  41.76 43.09 43.79 44.47 44.89 46.54 46.75 47.85 47.26 48.8  47.07 48.68\n",
      "  48.18 47.82 50.61 51.09 50.04 50.73 53.36 53.17 51.71 50.53 51.76 53.23\n",
      "  53.24 53.25 53.93 52.14 52.86 54.07 53.99 54.06 52.59 51.91 52.06 50.63\n",
      "  50.29 48.54 48.5  50.98]] \n",
      "\n",
      "y sample values:\n",
      "[[48.5 ]\n",
      " [50.98]\n",
      " [50.88]]\n"
     ]
    }
   ],
   "source": [
    "window_size = 100\n",
    "feature_column = 0 # why 0?\n",
    "target_column = 0 # Why 0?\n",
    "\n",
    "X, y = window_data(hon_df, window_size, feature_column, target_column)\n",
    "\n",
    "print (f\"X sample values:\\n{X[:3]} \\n\")\n",
    "print (f\"y sample values:\\n{y[:3]}\")"
   ]
  },
  {
   "cell_type": "code",
   "execution_count": 11,
   "id": "183133d5-8a7a-46b2-8235-73f8b57fdcf8",
   "metadata": {},
   "outputs": [],
   "source": [
    "split = int(0.6 * len(X))\n",
    "\n",
    "X_train = X[: split]\n",
    "X_test = X[split:]\n",
    "\n",
    "y_train = y[: split]\n",
    "y_test = y[split:]"
   ]
  },
  {
   "cell_type": "code",
   "execution_count": 12,
   "id": "5ebc969b-b17a-446e-af46-52ca8328ef03",
   "metadata": {},
   "outputs": [],
   "source": [
    "# Importing the MinMaxScaler from sklearn\n",
    "from sklearn.preprocessing import MinMaxScaler\n",
    "\n",
    "x_train_scaler = MinMaxScaler()\n",
    "#x_test_scaler = MinMaxScaler()\n",
    "y_train_scaler = MinMaxScaler()\n",
    "#y_test_scaler = MinMaxScaler()\n",
    "\n",
    "# Fit the scaler for the training Data\n",
    "x_train_scaler.fit(X_train)\n",
    "y_train_scaler.fit(y_train)\n",
    "\n",
    "# Scale the training data\n",
    "X_train = x_train_scaler.transform(X_train)\n",
    "y_train = y_train_scaler.transform(y_train)\n",
    "\n",
    "# Fit the scaler for the testing Data\n",
    "#x_test_scaler.fit(X_test)\n",
    "#y_test_scaler.fit(y_test)\n",
    "\n",
    "# Scale the y_test data\n",
    "X_test = x_train_scaler.transform(X_test)\n",
    "y_test = y_train_scaler.transform(y_test)"
   ]
  },
  {
   "cell_type": "code",
   "execution_count": 13,
   "id": "1aa59c9e-8169-4c39-886f-264af7d09484",
   "metadata": {},
   "outputs": [],
   "source": [
    "# Reshape the features data\n",
    "X_train = X_train.reshape((X_train.shape[0], X_train.shape[1], 1))\n",
    "X_test = X_test.reshape((X_test.shape[0], X_test.shape[1], 1))"
   ]
  },
  {
   "cell_type": "code",
   "execution_count": 14,
   "id": "817a93cd-5772-454c-9211-afc3f2857417",
   "metadata": {},
   "outputs": [],
   "source": [
    "# Importing required Keras modules\n",
    "from tensorflow.keras.models import Sequential\n",
    "from tensorflow.keras.layers import LSTM, Dense, Dropout"
   ]
  },
  {
   "cell_type": "code",
   "execution_count": 15,
   "id": "0ecf3743-133d-4950-b46b-fb4b8c681451",
   "metadata": {},
   "outputs": [],
   "source": [
    "# Define the LSTM RNN model.\n",
    "model = Sequential()\n",
    "\n",
    "# Initial model setup\n",
    "number_units = window_size\n",
    "# 20% of neurons to be dropped out\n",
    "dropout_fraction = 0.2\n",
    "\n",
    "# Layer 1\n",
    "model.add(LSTM(\n",
    "    units=number_units,\n",
    "    return_sequences=True,\n",
    "    input_shape=(X_train.shape[1], 1))\n",
    "    )\n",
    "model.add(Dropout(dropout_fraction))\n",
    "\n",
    "# Layer 2\n",
    "model.add(LSTM(units=number_units, return_sequences=True))\n",
    "model.add(Dropout(dropout_fraction))\n",
    "\n",
    "# Layer 3\n",
    "model.add(LSTM(units=number_units))\n",
    "model.add(Dropout(dropout_fraction))\n",
    "\n",
    "# Output layer\n",
    "model.add(Dense(1))"
   ]
  },
  {
   "cell_type": "code",
   "execution_count": 16,
   "id": "31de6d38-7e71-4fb1-a736-793d48ffc2f7",
   "metadata": {},
   "outputs": [
    {
     "name": "stdout",
     "output_type": "stream",
     "text": [
      "Model: \"sequential\"\n",
      "_________________________________________________________________\n",
      "Layer (type)                 Output Shape              Param #   \n",
      "=================================================================\n",
      "lstm (LSTM)                  (None, 100, 100)          40800     \n",
      "_________________________________________________________________\n",
      "dropout (Dropout)            (None, 100, 100)          0         \n",
      "_________________________________________________________________\n",
      "lstm_1 (LSTM)                (None, 100, 100)          80400     \n",
      "_________________________________________________________________\n",
      "dropout_1 (Dropout)          (None, 100, 100)          0         \n",
      "_________________________________________________________________\n",
      "lstm_2 (LSTM)                (None, 100)               80400     \n",
      "_________________________________________________________________\n",
      "dropout_2 (Dropout)          (None, 100)               0         \n",
      "_________________________________________________________________\n",
      "dense (Dense)                (None, 1)                 101       \n",
      "=================================================================\n",
      "Total params: 201,701\n",
      "Trainable params: 201,701\n",
      "Non-trainable params: 0\n",
      "_________________________________________________________________\n"
     ]
    }
   ],
   "source": [
    "model.compile(optimizer=\"adam\", loss=\"mean_squared_error\")\n",
    "model.summary()"
   ]
  },
  {
   "cell_type": "code",
   "execution_count": 17,
   "id": "12b27227-d057-41a6-b2b0-bc7399932ea8",
   "metadata": {},
   "outputs": [
    {
     "name": "stdout",
     "output_type": "stream",
     "text": [
      "Epoch 1/20\n",
      "15/15 [==============================] - 1s 76ms/step - loss: 0.0052\n",
      "Epoch 2/20\n",
      "15/15 [==============================] - 1s 79ms/step - loss: 0.0201\n",
      "Epoch 3/20\n",
      "15/15 [==============================] - 1s 79ms/step - loss: 0.0101\n",
      "Epoch 4/20\n",
      "15/15 [==============================] - 1s 78ms/step - loss: 0.0077\n",
      "Epoch 5/20\n",
      "15/15 [==============================] - 1s 89ms/step - loss: 0.0075\n",
      "Epoch 6/20\n",
      "15/15 [==============================] - 1s 81ms/step - loss: 0.0056\n",
      "Epoch 7/20\n",
      "15/15 [==============================] - 1s 74ms/step - loss: 0.0078\n",
      "Epoch 8/20\n",
      "15/15 [==============================] - 1s 74ms/step - loss: 0.0176\n",
      "Epoch 9/20\n",
      "15/15 [==============================] - 1s 79ms/step - loss: 0.0241\n",
      "Epoch 10/20\n",
      "15/15 [==============================] - 1s 78ms/step - loss: 0.0130\n",
      "Epoch 11/20\n",
      "15/15 [==============================] - 1s 77ms/step - loss: 0.0130\n",
      "Epoch 12/20\n",
      "15/15 [==============================] - 1s 86ms/step - loss: 0.0069\n",
      "Epoch 13/20\n",
      "15/15 [==============================] - 2s 157ms/step - loss: 0.0039\n",
      "Epoch 14/20\n",
      "15/15 [==============================] - 2s 103ms/step - loss: 0.0021\n",
      "Epoch 15/20\n",
      "15/15 [==============================] - 1s 83ms/step - loss: 0.0031\n",
      "Epoch 16/20\n",
      "15/15 [==============================] - 1s 81ms/step - loss: 0.0016\n",
      "Epoch 17/20\n",
      "15/15 [==============================] - 1s 90ms/step - loss: 0.0026\n",
      "Epoch 18/20\n",
      "15/15 [==============================] - 1s 82ms/step - loss: 0.0017\n",
      "Epoch 19/20\n",
      "15/15 [==============================] - 1s 87ms/step - loss: 0.0024\n",
      "Epoch 20/20\n",
      "15/15 [==============================] - 2s 105ms/step - loss: 0.0023\n"
     ]
    },
    {
     "data": {
      "text/plain": [
       "<tensorflow.python.keras.callbacks.History at 0x157c186d0>"
      ]
     },
     "execution_count": 17,
     "metadata": {},
     "output_type": "execute_result"
    }
   ],
   "source": [
    "model.fit(X_train, y_train, epochs=20, shuffle=False, batch_size=100, verbose=1)"
   ]
  },
  {
   "cell_type": "code",
   "execution_count": 18,
   "id": "99625deb-bcfa-427e-b44e-dcc2a2af9ac8",
   "metadata": {},
   "outputs": [
    {
     "data": {
      "text/plain": [
       "0.02305888757109642"
      ]
     },
     "execution_count": 18,
     "metadata": {},
     "output_type": "execute_result"
    }
   ],
   "source": [
    "model.evaluate(X_test, y_test, verbose=0)"
   ]
  },
  {
   "cell_type": "code",
   "execution_count": 19,
   "id": "ed4d8c78-523e-47e9-9950-204d3da421f7",
   "metadata": {},
   "outputs": [],
   "source": [
    "predicted = model.predict(X_test)"
   ]
  },
  {
   "cell_type": "code",
   "execution_count": 20,
   "id": "4a26208f-631b-4d55-9923-fff6164a946a",
   "metadata": {},
   "outputs": [],
   "source": [
    "predicted_prices = y_train_scaler.inverse_transform(predicted)\n",
    "real_prices = y_train_scaler.inverse_transform(y_test.reshape(-1,1))"
   ]
  },
  {
   "cell_type": "code",
   "execution_count": 22,
   "id": "cd4bb612-0cf6-4daf-9279-9923618c9060",
   "metadata": {},
   "outputs": [
    {
     "data": {
      "text/html": [
       "<div>\n",
       "<style scoped>\n",
       "    .dataframe tbody tr th:only-of-type {\n",
       "        vertical-align: middle;\n",
       "    }\n",
       "\n",
       "    .dataframe tbody tr th {\n",
       "        vertical-align: top;\n",
       "    }\n",
       "\n",
       "    .dataframe thead th {\n",
       "        text-align: right;\n",
       "    }\n",
       "</style>\n",
       "<table border=\"1\" class=\"dataframe\">\n",
       "  <thead>\n",
       "    <tr style=\"text-align: right;\">\n",
       "      <th></th>\n",
       "      <th>Actual</th>\n",
       "      <th>Predicted</th>\n",
       "    </tr>\n",
       "    <tr>\n",
       "      <th>Date</th>\n",
       "      <th></th>\n",
       "      <th></th>\n",
       "    </tr>\n",
       "  </thead>\n",
       "  <tbody>\n",
       "    <tr>\n",
       "      <th>2017-08-31</th>\n",
       "      <td>137.15</td>\n",
       "      <td>133.085007</td>\n",
       "    </tr>\n",
       "    <tr>\n",
       "      <th>2017-09-01</th>\n",
       "      <td>137.37</td>\n",
       "      <td>133.076096</td>\n",
       "    </tr>\n",
       "    <tr>\n",
       "      <th>2017-09-05</th>\n",
       "      <td>136.74</td>\n",
       "      <td>133.110504</td>\n",
       "    </tr>\n",
       "    <tr>\n",
       "      <th>2017-09-06</th>\n",
       "      <td>135.63</td>\n",
       "      <td>133.168427</td>\n",
       "    </tr>\n",
       "    <tr>\n",
       "      <th>2017-09-07</th>\n",
       "      <td>135.67</td>\n",
       "      <td>133.217346</td>\n",
       "    </tr>\n",
       "  </tbody>\n",
       "</table>\n",
       "</div>"
      ],
      "text/plain": [
       "            Actual   Predicted\n",
       "Date                          \n",
       "2017-08-31  137.15  133.085007\n",
       "2017-09-01  137.37  133.076096\n",
       "2017-09-05  136.74  133.110504\n",
       "2017-09-06  135.63  133.168427\n",
       "2017-09-07  135.67  133.217346"
      ]
     },
     "execution_count": 22,
     "metadata": {},
     "output_type": "execute_result"
    }
   ],
   "source": [
    "hon_actual_predicted = pd.DataFrame({\n",
    "    \"Actual\": real_prices.ravel(),\n",
    "    \"Predicted\": predicted_prices.ravel()\n",
    "}, index = hon_df.index[-len(real_prices): ]) \n",
    "\n",
    "# Show the DataFrame's head\n",
    "hon_actual_predicted.head()"
   ]
  },
  {
   "cell_type": "code",
   "execution_count": 23,
   "id": "18ddc5fb-c58e-41ea-a434-975fc55249f3",
   "metadata": {},
   "outputs": [
    {
     "data": {
      "text/html": [
       "<div>\n",
       "<style scoped>\n",
       "    .dataframe tbody tr th:only-of-type {\n",
       "        vertical-align: middle;\n",
       "    }\n",
       "\n",
       "    .dataframe tbody tr th {\n",
       "        vertical-align: top;\n",
       "    }\n",
       "\n",
       "    .dataframe thead th {\n",
       "        text-align: right;\n",
       "    }\n",
       "</style>\n",
       "<table border=\"1\" class=\"dataframe\">\n",
       "  <thead>\n",
       "    <tr style=\"text-align: right;\">\n",
       "      <th></th>\n",
       "      <th>Actual</th>\n",
       "      <th>Predicted</th>\n",
       "    </tr>\n",
       "    <tr>\n",
       "      <th>Date</th>\n",
       "      <th></th>\n",
       "      <th></th>\n",
       "    </tr>\n",
       "  </thead>\n",
       "  <tbody>\n",
       "    <tr>\n",
       "      <th>2021-06-29</th>\n",
       "      <td>216.79</td>\n",
       "      <td>191.874435</td>\n",
       "    </tr>\n",
       "    <tr>\n",
       "      <th>2021-06-30</th>\n",
       "      <td>215.95</td>\n",
       "      <td>191.592499</td>\n",
       "    </tr>\n",
       "    <tr>\n",
       "      <th>2021-07-01</th>\n",
       "      <td>219.35</td>\n",
       "      <td>191.343536</td>\n",
       "    </tr>\n",
       "    <tr>\n",
       "      <th>2021-07-02</th>\n",
       "      <td>220.62</td>\n",
       "      <td>191.156494</td>\n",
       "    </tr>\n",
       "    <tr>\n",
       "      <th>2021-07-06</th>\n",
       "      <td>221.32</td>\n",
       "      <td>191.041565</td>\n",
       "    </tr>\n",
       "  </tbody>\n",
       "</table>\n",
       "</div>"
      ],
      "text/plain": [
       "            Actual   Predicted\n",
       "Date                          \n",
       "2021-06-29  216.79  191.874435\n",
       "2021-06-30  215.95  191.592499\n",
       "2021-07-01  219.35  191.343536\n",
       "2021-07-02  220.62  191.156494\n",
       "2021-07-06  221.32  191.041565"
      ]
     },
     "execution_count": 23,
     "metadata": {},
     "output_type": "execute_result"
    }
   ],
   "source": [
    "hon_actual_predicted.tail()"
   ]
  },
  {
   "cell_type": "code",
   "execution_count": 24,
   "id": "5d83a4a5-50f5-4a25-9a0a-5463c59d4029",
   "metadata": {},
   "outputs": [
    {
     "data": {
      "image/png": "[encoded data removed]",
      "text/plain": [
       "<Figure size 1440x720 with 1 Axes>"
      ]
     },
     "metadata": {
      "needs_background": "light"
     },
     "output_type": "display_data"
    }
   ],
   "source": [
    "hon_actual_predicted.plot(figsize=(20,10))\n",
    "plt.title('$HON Stock Price Actual and Predicted (08/31/2017 - 07/06/2021)')\n",
    "plt.xlabel('Year')\n",
    "plt.ylabel('Stock Price per Share (in USD)')\n",
    "plt.legend(loc=\"best\")\n",
    "plt.show()"
   ]
  },
  {
   "cell_type": "code",
   "execution_count": null,
   "id": "2af1e5af-d7b5-4ab6-9de2-4a2009a41b94",
   "metadata": {},
   "outputs": [],
   "source": []
  }
 ],
 "metadata": {
  "kernelspec": {
   "display_name": "Python 3",
   "language": "python",
   "name": "python3"
  },
  "language_info": {
   "codemirror_mode": {
    "name": "ipython",
    "version": 3
   },
   "file_extension": ".py",
   "mimetype": "text/x-python",
   "name": "python",
   "nbconvert_exporter": "python",
   "pygments_lexer": "ipython3",
   "version": "3.8.10"
  }
 },
 "nbformat": 4,
 "nbformat_minor": 5
}
