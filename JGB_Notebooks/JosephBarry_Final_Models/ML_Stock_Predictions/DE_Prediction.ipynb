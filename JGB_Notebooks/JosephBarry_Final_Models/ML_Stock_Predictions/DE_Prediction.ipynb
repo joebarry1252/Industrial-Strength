{
 "cells": [
  {
   "cell_type": "markdown",
   "id": "cd01d776-f399-42c8-9844-71c9d636b4a3",
   "metadata": {},
   "source": [
    "DE ML Model\n",
    "\n",
    " window = 100\n",
    " epoch = 20\n",
    " batch = 100\n",
    " dropout = .02"
   ]
  },
  {
   "cell_type": "code",
   "execution_count": 1,
   "id": "f98bcc59-2bc8-4c96-a7ac-11a02ef9ee2a",
   "metadata": {},
   "outputs": [],
   "source": [
    "import os\n",
    "import numpy as np\n",
    "import pandas as pd\n",
    "import matplotlib.pyplot as plt\n",
    "import alpaca_trade_api as tradeapi\n",
    "from pathlib import Path\n",
    "import requests\n",
    "\n",
    "%matplotlib inline"
   ]
  },
  {
   "cell_type": "code",
   "execution_count": 2,
   "id": "244bd929-47b5-4c63-8b7f-7b55bd08fb61",
   "metadata": {},
   "outputs": [
    {
     "name": "stdout",
     "output_type": "stream",
     "text": [
      "/Users/josephbarry/Desktop/FinTech_Class/Project_2/supreme-broccoli/notebooks/JB_scratchwork/Final_Models/ML_Stock_Predictions\n"
     ]
    }
   ],
   "source": [
    "!pwd"
   ]
  },
  {
   "cell_type": "code",
   "execution_count": 3,
   "id": "8b415734-bf70-47fd-8799-6ec44b664b62",
   "metadata": {},
   "outputs": [],
   "source": [
    "csvpath = Path(\"DE_nasdaqdata.csv\")\n",
    "\n",
    "de_df = pd.read_csv(csvpath, index_col='Date', infer_datetime_format=True, parse_dates=True)"
   ]
  },
  {
   "cell_type": "code",
   "execution_count": 4,
   "id": "4280ce75-4c7a-456d-93aa-dcb89a8cbff0",
   "metadata": {},
   "outputs": [
    {
     "data": {
      "text/html": [
       "<div>\n",
       "<style scoped>\n",
       "    .dataframe tbody tr th:only-of-type {\n",
       "        vertical-align: middle;\n",
       "    }\n",
       "\n",
       "    .dataframe tbody tr th {\n",
       "        vertical-align: top;\n",
       "    }\n",
       "\n",
       "    .dataframe thead th {\n",
       "        text-align: right;\n",
       "    }\n",
       "</style>\n",
       "<table border=\"1\" class=\"dataframe\">\n",
       "  <thead>\n",
       "    <tr style=\"text-align: right;\">\n",
       "      <th></th>\n",
       "      <th>Close/Last</th>\n",
       "      <th>Volume</th>\n",
       "      <th>Open</th>\n",
       "      <th>High</th>\n",
       "      <th>Low</th>\n",
       "    </tr>\n",
       "    <tr>\n",
       "      <th>Date</th>\n",
       "      <th></th>\n",
       "      <th></th>\n",
       "      <th></th>\n",
       "      <th></th>\n",
       "      <th></th>\n",
       "    </tr>\n",
       "  </thead>\n",
       "  <tbody>\n",
       "    <tr>\n",
       "      <th>2021-07-06</th>\n",
       "      <td>$349.45</td>\n",
       "      <td>1924037</td>\n",
       "      <td>$352.50</td>\n",
       "      <td>$353.00</td>\n",
       "      <td>$344.26</td>\n",
       "    </tr>\n",
       "    <tr>\n",
       "      <th>2021-07-02</th>\n",
       "      <td>$352.50</td>\n",
       "      <td>1132353</td>\n",
       "      <td>$354.57</td>\n",
       "      <td>$355.91</td>\n",
       "      <td>$351.21</td>\n",
       "    </tr>\n",
       "    <tr>\n",
       "      <th>2021-07-01</th>\n",
       "      <td>$354.29</td>\n",
       "      <td>1467982</td>\n",
       "      <td>$355.66</td>\n",
       "      <td>$356.19</td>\n",
       "      <td>$351.92</td>\n",
       "    </tr>\n",
       "    <tr>\n",
       "      <th>2021-06-30</th>\n",
       "      <td>$352.71</td>\n",
       "      <td>1643594</td>\n",
       "      <td>$348.17</td>\n",
       "      <td>$353.39</td>\n",
       "      <td>$348.17</td>\n",
       "    </tr>\n",
       "    <tr>\n",
       "      <th>2021-06-29</th>\n",
       "      <td>$348.93</td>\n",
       "      <td>1213477</td>\n",
       "      <td>$350.80</td>\n",
       "      <td>$352.70</td>\n",
       "      <td>$348.09</td>\n",
       "    </tr>\n",
       "  </tbody>\n",
       "</table>\n",
       "</div>"
      ],
      "text/plain": [
       "           Close/Last   Volume     Open     High      Low\n",
       "Date                                                     \n",
       "2021-07-06    $349.45  1924037  $352.50  $353.00  $344.26\n",
       "2021-07-02    $352.50  1132353  $354.57  $355.91  $351.21\n",
       "2021-07-01    $354.29  1467982  $355.66  $356.19  $351.92\n",
       "2021-06-30    $352.71  1643594  $348.17  $353.39  $348.17\n",
       "2021-06-29    $348.93  1213477  $350.80  $352.70  $348.09"
      ]
     },
     "execution_count": 4,
     "metadata": {},
     "output_type": "execute_result"
    }
   ],
   "source": [
    "de_df.head()"
   ]
  },
  {
   "cell_type": "code",
   "execution_count": 5,
   "id": "854fdb40-3847-49b1-bb7c-de6d7bb0350e",
   "metadata": {},
   "outputs": [],
   "source": [
    "de_df.sort_index(ascending=True, inplace=True)"
   ]
  },
  {
   "cell_type": "code",
   "execution_count": 6,
   "id": "7996c986-0c5d-404a-9779-98790c78eea6",
   "metadata": {},
   "outputs": [],
   "source": [
    "de_df = de_df.rename(columns={\"Close/Last\": \"Close\"})"
   ]
  },
  {
   "cell_type": "code",
   "execution_count": 7,
   "id": "00f41bc3-4ebb-4910-bc33-fd10f45f5ef9",
   "metadata": {},
   "outputs": [
    {
     "data": {
      "text/html": [
       "<div>\n",
       "<style scoped>\n",
       "    .dataframe tbody tr th:only-of-type {\n",
       "        vertical-align: middle;\n",
       "    }\n",
       "\n",
       "    .dataframe tbody tr th {\n",
       "        vertical-align: top;\n",
       "    }\n",
       "\n",
       "    .dataframe thead th {\n",
       "        text-align: right;\n",
       "    }\n",
       "</style>\n",
       "<table border=\"1\" class=\"dataframe\">\n",
       "  <thead>\n",
       "    <tr style=\"text-align: right;\">\n",
       "      <th></th>\n",
       "      <th>Close</th>\n",
       "    </tr>\n",
       "    <tr>\n",
       "      <th>Date</th>\n",
       "      <th></th>\n",
       "    </tr>\n",
       "  </thead>\n",
       "  <tbody>\n",
       "    <tr>\n",
       "      <th>2011-07-06</th>\n",
       "      <td>$84.59</td>\n",
       "    </tr>\n",
       "    <tr>\n",
       "      <th>2011-07-07</th>\n",
       "      <td>$86.44</td>\n",
       "    </tr>\n",
       "    <tr>\n",
       "      <th>2011-07-08</th>\n",
       "      <td>$86.11</td>\n",
       "    </tr>\n",
       "    <tr>\n",
       "      <th>2011-07-11</th>\n",
       "      <td>$83.49</td>\n",
       "    </tr>\n",
       "    <tr>\n",
       "      <th>2011-07-12</th>\n",
       "      <td>$81.65</td>\n",
       "    </tr>\n",
       "    <tr>\n",
       "      <th>...</th>\n",
       "      <td>...</td>\n",
       "    </tr>\n",
       "    <tr>\n",
       "      <th>2021-06-29</th>\n",
       "      <td>$348.93</td>\n",
       "    </tr>\n",
       "    <tr>\n",
       "      <th>2021-06-30</th>\n",
       "      <td>$352.71</td>\n",
       "    </tr>\n",
       "    <tr>\n",
       "      <th>2021-07-01</th>\n",
       "      <td>$354.29</td>\n",
       "    </tr>\n",
       "    <tr>\n",
       "      <th>2021-07-02</th>\n",
       "      <td>$352.50</td>\n",
       "    </tr>\n",
       "    <tr>\n",
       "      <th>2021-07-06</th>\n",
       "      <td>$349.45</td>\n",
       "    </tr>\n",
       "  </tbody>\n",
       "</table>\n",
       "<p>2517 rows × 1 columns</p>\n",
       "</div>"
      ],
      "text/plain": [
       "              Close\n",
       "Date               \n",
       "2011-07-06   $84.59\n",
       "2011-07-07   $86.44\n",
       "2011-07-08   $86.11\n",
       "2011-07-11   $83.49\n",
       "2011-07-12   $81.65\n",
       "...             ...\n",
       "2021-06-29  $348.93\n",
       "2021-06-30  $352.71\n",
       "2021-07-01  $354.29\n",
       "2021-07-02  $352.50\n",
       "2021-07-06  $349.45\n",
       "\n",
       "[2517 rows x 1 columns]"
      ]
     },
     "execution_count": 7,
     "metadata": {},
     "output_type": "execute_result"
    }
   ],
   "source": [
    "de_df = de_df[['Close']]\n",
    "de_df"
   ]
  },
  {
   "cell_type": "code",
   "execution_count": 8,
   "id": "c02bf92b-6d58-4ed4-a432-9fcf97c4a58b",
   "metadata": {},
   "outputs": [
    {
     "name": "stderr",
     "output_type": "stream",
     "text": [
      "<ipython-input-8-aa40f58bac61>:1: FutureWarning: The default value of regex will change from True to False in a future version. In addition, single character regular expressions will*not* be treated as literal strings when regex=True.\n",
      "  de_df['Close'] = de_df['Close'].str.replace('$', '').astype(float)\n"
     ]
    }
   ],
   "source": [
    "de_df['Close'] = de_df['Close'].str.replace('$', '').astype(float)"
   ]
  },
  {
   "cell_type": "code",
   "execution_count": 9,
   "id": "5b4c25e2-6e4a-4dfb-b9bc-db9f914b2f1e",
   "metadata": {},
   "outputs": [
    {
     "data": {
      "text/html": [
       "<div>\n",
       "<style scoped>\n",
       "    .dataframe tbody tr th:only-of-type {\n",
       "        vertical-align: middle;\n",
       "    }\n",
       "\n",
       "    .dataframe tbody tr th {\n",
       "        vertical-align: top;\n",
       "    }\n",
       "\n",
       "    .dataframe thead th {\n",
       "        text-align: right;\n",
       "    }\n",
       "</style>\n",
       "<table border=\"1\" class=\"dataframe\">\n",
       "  <thead>\n",
       "    <tr style=\"text-align: right;\">\n",
       "      <th></th>\n",
       "      <th>Close</th>\n",
       "    </tr>\n",
       "    <tr>\n",
       "      <th>Date</th>\n",
       "      <th></th>\n",
       "    </tr>\n",
       "  </thead>\n",
       "  <tbody>\n",
       "    <tr>\n",
       "      <th>2011-07-06</th>\n",
       "      <td>84.59</td>\n",
       "    </tr>\n",
       "    <tr>\n",
       "      <th>2011-07-07</th>\n",
       "      <td>86.44</td>\n",
       "    </tr>\n",
       "    <tr>\n",
       "      <th>2011-07-08</th>\n",
       "      <td>86.11</td>\n",
       "    </tr>\n",
       "    <tr>\n",
       "      <th>2011-07-11</th>\n",
       "      <td>83.49</td>\n",
       "    </tr>\n",
       "    <tr>\n",
       "      <th>2011-07-12</th>\n",
       "      <td>81.65</td>\n",
       "    </tr>\n",
       "    <tr>\n",
       "      <th>...</th>\n",
       "      <td>...</td>\n",
       "    </tr>\n",
       "    <tr>\n",
       "      <th>2021-06-29</th>\n",
       "      <td>348.93</td>\n",
       "    </tr>\n",
       "    <tr>\n",
       "      <th>2021-06-30</th>\n",
       "      <td>352.71</td>\n",
       "    </tr>\n",
       "    <tr>\n",
       "      <th>2021-07-01</th>\n",
       "      <td>354.29</td>\n",
       "    </tr>\n",
       "    <tr>\n",
       "      <th>2021-07-02</th>\n",
       "      <td>352.50</td>\n",
       "    </tr>\n",
       "    <tr>\n",
       "      <th>2021-07-06</th>\n",
       "      <td>349.45</td>\n",
       "    </tr>\n",
       "  </tbody>\n",
       "</table>\n",
       "<p>2517 rows × 1 columns</p>\n",
       "</div>"
      ],
      "text/plain": [
       "             Close\n",
       "Date              \n",
       "2011-07-06   84.59\n",
       "2011-07-07   86.44\n",
       "2011-07-08   86.11\n",
       "2011-07-11   83.49\n",
       "2011-07-12   81.65\n",
       "...            ...\n",
       "2021-06-29  348.93\n",
       "2021-06-30  352.71\n",
       "2021-07-01  354.29\n",
       "2021-07-02  352.50\n",
       "2021-07-06  349.45\n",
       "\n",
       "[2517 rows x 1 columns]"
      ]
     },
     "execution_count": 9,
     "metadata": {},
     "output_type": "execute_result"
    }
   ],
   "source": [
    "de_df"
   ]
  },
  {
   "cell_type": "code",
   "execution_count": 10,
   "id": "29b5ac16-43ae-45ce-9286-c1eb6977f199",
   "metadata": {},
   "outputs": [],
   "source": [
    "def window_data(df, window, feature_col_number, target_col_number):\n",
    "    X = []\n",
    "    y = []\n",
    "    for i in range(len(df) - window- 1):\n",
    "        features = df.iloc[i : (i + window), feature_col_number]\n",
    "        target = df.iloc[(i + window), target_col_number]\n",
    "        X.append(features)\n",
    "        y.append(target)\n",
    "    return np.array(X), np.array(y).reshape(-1, 1)"
   ]
  },
  {
   "cell_type": "code",
   "execution_count": 11,
   "id": "42ec1ac7-42f6-48db-8ab2-c716610d77cd",
   "metadata": {},
   "outputs": [
    {
     "name": "stdout",
     "output_type": "stream",
     "text": [
      "X sample values:\n",
      "[[84.59 86.44 86.11 83.49 81.65 81.89 81.43 81.69 79.8  80.88 80.48 82.3\n",
      "  81.24 81.89 80.9  79.42 79.39 78.51 78.72 76.82 77.07 72.41 72.66 67.05\n",
      "  70.93 67.99 73.48 74.97 76.5  75.16 74.26 70.15 69.01 70.   72.66 75.1\n",
      "  73.06 76.03 78.91 80.11 80.82 79.89 78.03 77.14 79.35 77.26 75.26 75.04\n",
      "  76.56 77.29 78.64 78.02 77.19 75.98 72.82 68.59 67.47 68.44 69.48 67.42\n",
      "  68.04 64.57 61.72 63.48 66.16 66.57 65.7  69.38 71.68 71.05 69.8  71.39\n",
      "  69.57 70.13 69.11 69.25 72.23 74.55 73.12 73.93 77.74 78.67 75.9  73.7\n",
      "  74.07 75.73 75.39 75.15 75.63 72.78 73.58 75.79 74.7  76.33 76.43 75.02\n",
      "  74.27 72.68 71.92 74.72]\n",
      " [86.44 86.11 83.49 81.65 81.89 81.43 81.69 79.8  80.88 80.48 82.3  81.24\n",
      "  81.89 80.9  79.42 79.39 78.51 78.72 76.82 77.07 72.41 72.66 67.05 70.93\n",
      "  67.99 73.48 74.97 76.5  75.16 74.26 70.15 69.01 70.   72.66 75.1  73.06\n",
      "  76.03 78.91 80.11 80.82 79.89 78.03 77.14 79.35 77.26 75.26 75.04 76.56\n",
      "  77.29 78.64 78.02 77.19 75.98 72.82 68.59 67.47 68.44 69.48 67.42 68.04\n",
      "  64.57 61.72 63.48 66.16 66.57 65.7  69.38 71.68 71.05 69.8  71.39 69.57\n",
      "  70.13 69.11 69.25 72.23 74.55 73.12 73.93 77.74 78.67 75.9  73.7  74.07\n",
      "  75.73 75.39 75.15 75.63 72.78 73.58 75.79 74.7  76.33 76.43 75.02 74.27\n",
      "  72.68 71.92 74.72 73.64]\n",
      " [86.11 83.49 81.65 81.89 81.43 81.69 79.8  80.88 80.48 82.3  81.24 81.89\n",
      "  80.9  79.42 79.39 78.51 78.72 76.82 77.07 72.41 72.66 67.05 70.93 67.99\n",
      "  73.48 74.97 76.5  75.16 74.26 70.15 69.01 70.   72.66 75.1  73.06 76.03\n",
      "  78.91 80.11 80.82 79.89 78.03 77.14 79.35 77.26 75.26 75.04 76.56 77.29\n",
      "  78.64 78.02 77.19 75.98 72.82 68.59 67.47 68.44 69.48 67.42 68.04 64.57\n",
      "  61.72 63.48 66.16 66.57 65.7  69.38 71.68 71.05 69.8  71.39 69.57 70.13\n",
      "  69.11 69.25 72.23 74.55 73.12 73.93 77.74 78.67 75.9  73.7  74.07 75.73\n",
      "  75.39 75.15 75.63 72.78 73.58 75.79 74.7  76.33 76.43 75.02 74.27 72.68\n",
      "  71.92 74.72 73.64 76.5 ]] \n",
      "\n",
      "y sample values:\n",
      "[[73.64]\n",
      " [76.5 ]\n",
      " [75.84]]\n"
     ]
    }
   ],
   "source": [
    "window_size = 100\n",
    "feature_column = 0 # why 0?\n",
    "target_column = 0 # Why 0?\n",
    "\n",
    "X, y = window_data(de_df, window_size, feature_column, target_column)\n",
    "\n",
    "print (f\"X sample values:\\n{X[:3]} \\n\")\n",
    "print (f\"y sample values:\\n{y[:3]}\")"
   ]
  },
  {
   "cell_type": "code",
   "execution_count": 12,
   "id": "8af5689b-1d4c-431b-9098-0ec75dfc0a3b",
   "metadata": {},
   "outputs": [],
   "source": [
    "split = int(0.6 * len(X))\n",
    "\n",
    "X_train = X[: split]\n",
    "X_test = X[split:]\n",
    "\n",
    "y_train = y[: split]\n",
    "y_test = y[split:]"
   ]
  },
  {
   "cell_type": "code",
   "execution_count": 13,
   "id": "4e42d8e6-0ad8-42ba-9005-02a6d911ca79",
   "metadata": {},
   "outputs": [],
   "source": [
    "# Importing the MinMaxScaler from sklearn\n",
    "from sklearn.preprocessing import MinMaxScaler\n",
    "\n",
    "x_train_scaler = MinMaxScaler()\n",
    "#x_test_scaler = MinMaxScaler()\n",
    "y_train_scaler = MinMaxScaler()\n",
    "#y_test_scaler = MinMaxScaler()\n",
    "\n",
    "# Fit the scaler for the training Data\n",
    "x_train_scaler.fit(X_train)\n",
    "y_train_scaler.fit(y_train)\n",
    "\n",
    "# Scale the training data\n",
    "X_train = x_train_scaler.transform(X_train)\n",
    "y_train = y_train_scaler.transform(y_train)\n",
    "\n",
    "# Fit the scaler for the testing Data\n",
    "#x_test_scaler.fit(X_test)\n",
    "#y_test_scaler.fit(y_test)\n",
    "\n",
    "# Scale the y_test data\n",
    "X_test = x_train_scaler.transform(X_test)\n",
    "y_test = y_train_scaler.transform(y_test)"
   ]
  },
  {
   "cell_type": "code",
   "execution_count": 14,
   "id": "1dc536f0-ebf0-429f-9bda-7a0434956978",
   "metadata": {},
   "outputs": [],
   "source": [
    "# Reshape the features data\n",
    "X_train = X_train.reshape((X_train.shape[0], X_train.shape[1], 1))\n",
    "X_test = X_test.reshape((X_test.shape[0], X_test.shape[1], 1))"
   ]
  },
  {
   "cell_type": "code",
   "execution_count": 15,
   "id": "7209aa1f-e6dc-49ad-ae6a-0a2406b19a46",
   "metadata": {},
   "outputs": [],
   "source": [
    "# Importing required Keras modules\n",
    "from tensorflow.keras.models import Sequential\n",
    "from tensorflow.keras.layers import LSTM, Dense, Dropout"
   ]
  },
  {
   "cell_type": "code",
   "execution_count": 16,
   "id": "7e38cc99-72cc-41c3-a82c-b8ae86d69dd7",
   "metadata": {},
   "outputs": [],
   "source": [
    "# Define the LSTM RNN model.\n",
    "model = Sequential()\n",
    "\n",
    "# Initial model setup\n",
    "number_units = window_size\n",
    "# 20% of neurons to be dropped out\n",
    "dropout_fraction = 0.2\n",
    "\n",
    "# Layer 1\n",
    "model.add(LSTM(\n",
    "    units=number_units,\n",
    "    return_sequences=True,\n",
    "    input_shape=(X_train.shape[1], 1))\n",
    "    )\n",
    "model.add(Dropout(dropout_fraction))\n",
    "\n",
    "# Layer 2\n",
    "model.add(LSTM(units=number_units, return_sequences=True))\n",
    "model.add(Dropout(dropout_fraction))\n",
    "\n",
    "# Layer 3\n",
    "model.add(LSTM(units=number_units))\n",
    "model.add(Dropout(dropout_fraction))\n",
    "\n",
    "# Output layer\n",
    "model.add(Dense(1))"
   ]
  },
  {
   "cell_type": "code",
   "execution_count": 17,
   "id": "b7bb2880-37e5-4429-b69d-28cef0ea64d9",
   "metadata": {},
   "outputs": [
    {
     "name": "stdout",
     "output_type": "stream",
     "text": [
      "Model: \"sequential\"\n",
      "_________________________________________________________________\n",
      "Layer (type)                 Output Shape              Param #   \n",
      "=================================================================\n",
      "lstm (LSTM)                  (None, 100, 100)          40800     \n",
      "_________________________________________________________________\n",
      "dropout (Dropout)            (None, 100, 100)          0         \n",
      "_________________________________________________________________\n",
      "lstm_1 (LSTM)                (None, 100, 100)          80400     \n",
      "_________________________________________________________________\n",
      "dropout_1 (Dropout)          (None, 100, 100)          0         \n",
      "_________________________________________________________________\n",
      "lstm_2 (LSTM)                (None, 100)               80400     \n",
      "_________________________________________________________________\n",
      "dropout_2 (Dropout)          (None, 100)               0         \n",
      "_________________________________________________________________\n",
      "dense (Dense)                (None, 1)                 101       \n",
      "=================================================================\n",
      "Total params: 201,701\n",
      "Trainable params: 201,701\n",
      "Non-trainable params: 0\n",
      "_________________________________________________________________\n"
     ]
    }
   ],
   "source": [
    "model.compile(optimizer=\"adam\", loss=\"mean_squared_error\")\n",
    "model.summary()"
   ]
  },
  {
   "cell_type": "code",
   "execution_count": 18,
   "id": "6b467f56-6708-426d-bf64-45ba6759502b",
   "metadata": {},
   "outputs": [
    {
     "name": "stdout",
     "output_type": "stream",
     "text": [
      "Epoch 1/20\n",
      "15/15 [==============================] - 2s 91ms/step - loss: 0.0143\n",
      "Epoch 2/20\n",
      "15/15 [==============================] - 1s 85ms/step - loss: 0.0330\n",
      "Epoch 3/20\n",
      "15/15 [==============================] - 1s 78ms/step - loss: 0.0131\n",
      "Epoch 4/20\n",
      "15/15 [==============================] - 1s 76ms/step - loss: 0.0073\n",
      "Epoch 5/20\n",
      "15/15 [==============================] - 1s 79ms/step - loss: 0.0079\n",
      "Epoch 6/20\n",
      "15/15 [==============================] - 1s 98ms/step - loss: 0.0042\n",
      "Epoch 7/20\n",
      "15/15 [==============================] - 1s 87ms/step - loss: 0.0103\n",
      "Epoch 8/20\n",
      "15/15 [==============================] - 1s 78ms/step - loss: 0.0039\n",
      "Epoch 9/20\n",
      "15/15 [==============================] - 1s 76ms/step - loss: 0.0121\n",
      "Epoch 10/20\n",
      "15/15 [==============================] - 1s 76ms/step - loss: 0.0093\n",
      "Epoch 11/20\n",
      "15/15 [==============================] - 1s 80ms/step - loss: 0.0022\n",
      "Epoch 12/20\n",
      "15/15 [==============================] - 1s 82ms/step - loss: 0.0028\n",
      "Epoch 13/20\n",
      "15/15 [==============================] - 1s 81ms/step - loss: 0.0039\n",
      "Epoch 14/20\n",
      "15/15 [==============================] - 1s 98ms/step - loss: 0.0021\n",
      "Epoch 15/20\n",
      "15/15 [==============================] - 1s 92ms/step - loss: 0.0021\n",
      "Epoch 16/20\n",
      "15/15 [==============================] - 1s 82ms/step - loss: 0.0035\n",
      "Epoch 17/20\n",
      "15/15 [==============================] - 1s 78ms/step - loss: 0.0025\n",
      "Epoch 18/20\n",
      "15/15 [==============================] - 1s 80ms/step - loss: 0.0019\n",
      "Epoch 19/20\n",
      "15/15 [==============================] - 1s 81ms/step - loss: 0.0020\n",
      "Epoch 20/20\n",
      "15/15 [==============================] - 1s 87ms/step - loss: 0.0018\n"
     ]
    },
    {
     "data": {
      "text/plain": [
       "<tensorflow.python.keras.callbacks.History at 0x157d6c5e0>"
      ]
     },
     "execution_count": 18,
     "metadata": {},
     "output_type": "execute_result"
    }
   ],
   "source": [
    "model.fit(X_train, y_train, epochs=20, shuffle=False, batch_size=100, verbose=1)"
   ]
  },
  {
   "cell_type": "code",
   "execution_count": 19,
   "id": "8842da5c-15e4-49df-a28c-dfe2361fa9cd",
   "metadata": {},
   "outputs": [
    {
     "data": {
      "text/plain": [
       "0.452831894159317"
      ]
     },
     "execution_count": 19,
     "metadata": {},
     "output_type": "execute_result"
    }
   ],
   "source": [
    "model.evaluate(X_test, y_test, verbose=0)"
   ]
  },
  {
   "cell_type": "code",
   "execution_count": 20,
   "id": "6421c53c-4f3d-4341-a09d-8286fa84a45f",
   "metadata": {},
   "outputs": [],
   "source": [
    "predicted = model.predict(X_test)"
   ]
  },
  {
   "cell_type": "code",
   "execution_count": 21,
   "id": "d7f309fb-1fed-4104-a16d-1bc551ef280e",
   "metadata": {},
   "outputs": [],
   "source": [
    "predicted_prices = y_train_scaler.inverse_transform(predicted)"
   ]
  },
  {
   "cell_type": "code",
   "execution_count": 22,
   "id": "244cfe88-aaf6-4a9c-8e4b-4b3b3ec04b51",
   "metadata": {},
   "outputs": [],
   "source": [
    "real_prices = y_train_scaler.inverse_transform(y_test.reshape(-1,1))"
   ]
  },
  {
   "cell_type": "code",
   "execution_count": 23,
   "id": "80049964-0409-401b-b231-5b2607f1c72c",
   "metadata": {},
   "outputs": [
    {
     "data": {
      "text/html": [
       "<div>\n",
       "<style scoped>\n",
       "    .dataframe tbody tr th:only-of-type {\n",
       "        vertical-align: middle;\n",
       "    }\n",
       "\n",
       "    .dataframe tbody tr th {\n",
       "        vertical-align: top;\n",
       "    }\n",
       "\n",
       "    .dataframe thead th {\n",
       "        text-align: right;\n",
       "    }\n",
       "</style>\n",
       "<table border=\"1\" class=\"dataframe\">\n",
       "  <thead>\n",
       "    <tr style=\"text-align: right;\">\n",
       "      <th></th>\n",
       "      <th>Actual</th>\n",
       "      <th>Predicted</th>\n",
       "    </tr>\n",
       "    <tr>\n",
       "      <th>Date</th>\n",
       "      <th></th>\n",
       "      <th></th>\n",
       "    </tr>\n",
       "  </thead>\n",
       "  <tbody>\n",
       "    <tr>\n",
       "      <th>2017-08-31</th>\n",
       "      <td>115.49</td>\n",
       "      <td>119.112625</td>\n",
       "    </tr>\n",
       "    <tr>\n",
       "      <th>2017-09-01</th>\n",
       "      <td>115.93</td>\n",
       "      <td>118.179077</td>\n",
       "    </tr>\n",
       "    <tr>\n",
       "      <th>2017-09-05</th>\n",
       "      <td>116.14</td>\n",
       "      <td>117.421127</td>\n",
       "    </tr>\n",
       "    <tr>\n",
       "      <th>2017-09-06</th>\n",
       "      <td>115.53</td>\n",
       "      <td>116.839241</td>\n",
       "    </tr>\n",
       "    <tr>\n",
       "      <th>2017-09-07</th>\n",
       "      <td>116.22</td>\n",
       "      <td>116.396217</td>\n",
       "    </tr>\n",
       "  </tbody>\n",
       "</table>\n",
       "</div>"
      ],
      "text/plain": [
       "            Actual   Predicted\n",
       "Date                          \n",
       "2017-08-31  115.49  119.112625\n",
       "2017-09-01  115.93  118.179077\n",
       "2017-09-05  116.14  117.421127\n",
       "2017-09-06  115.53  116.839241\n",
       "2017-09-07  116.22  116.396217"
      ]
     },
     "execution_count": 23,
     "metadata": {},
     "output_type": "execute_result"
    }
   ],
   "source": [
    "de_actual_predicted = pd.DataFrame({\n",
    "    \"Actual\": real_prices.ravel(),\n",
    "    \"Predicted\": predicted_prices.ravel()\n",
    "}, index = de_df.index[-len(real_prices): ]) \n",
    "\n",
    "# Show the DataFrame's head\n",
    "de_actual_predicted.head()"
   ]
  },
  {
   "cell_type": "code",
   "execution_count": 24,
   "id": "8fc4f3f4-3887-4cb8-a118-20fc270f7d01",
   "metadata": {},
   "outputs": [
    {
     "data": {
      "text/html": [
       "<div>\n",
       "<style scoped>\n",
       "    .dataframe tbody tr th:only-of-type {\n",
       "        vertical-align: middle;\n",
       "    }\n",
       "\n",
       "    .dataframe tbody tr th {\n",
       "        vertical-align: top;\n",
       "    }\n",
       "\n",
       "    .dataframe thead th {\n",
       "        text-align: right;\n",
       "    }\n",
       "</style>\n",
       "<table border=\"1\" class=\"dataframe\">\n",
       "  <thead>\n",
       "    <tr style=\"text-align: right;\">\n",
       "      <th></th>\n",
       "      <th>Actual</th>\n",
       "      <th>Predicted</th>\n",
       "    </tr>\n",
       "    <tr>\n",
       "      <th>Date</th>\n",
       "      <th></th>\n",
       "      <th></th>\n",
       "    </tr>\n",
       "  </thead>\n",
       "  <tbody>\n",
       "    <tr>\n",
       "      <th>2021-06-29</th>\n",
       "      <td>349.89</td>\n",
       "      <td>240.620346</td>\n",
       "    </tr>\n",
       "    <tr>\n",
       "      <th>2021-06-30</th>\n",
       "      <td>348.93</td>\n",
       "      <td>240.813248</td>\n",
       "    </tr>\n",
       "    <tr>\n",
       "      <th>2021-07-01</th>\n",
       "      <td>352.71</td>\n",
       "      <td>241.009186</td>\n",
       "    </tr>\n",
       "    <tr>\n",
       "      <th>2021-07-02</th>\n",
       "      <td>354.29</td>\n",
       "      <td>241.235504</td>\n",
       "    </tr>\n",
       "    <tr>\n",
       "      <th>2021-07-06</th>\n",
       "      <td>352.50</td>\n",
       "      <td>241.479446</td>\n",
       "    </tr>\n",
       "  </tbody>\n",
       "</table>\n",
       "</div>"
      ],
      "text/plain": [
       "            Actual   Predicted\n",
       "Date                          \n",
       "2021-06-29  349.89  240.620346\n",
       "2021-06-30  348.93  240.813248\n",
       "2021-07-01  352.71  241.009186\n",
       "2021-07-02  354.29  241.235504\n",
       "2021-07-06  352.50  241.479446"
      ]
     },
     "execution_count": 24,
     "metadata": {},
     "output_type": "execute_result"
    }
   ],
   "source": [
    "de_actual_predicted.tail()"
   ]
  },
  {
   "cell_type": "code",
   "execution_count": 26,
   "id": "f4027ca1-2ae0-4581-81d7-6f799d35df0d",
   "metadata": {},
   "outputs": [
    {
     "data": {
      "image/png": "[encoded data removed]",
      "text/plain": [
       "<Figure size 1440x720 with 1 Axes>"
      ]
     },
     "metadata": {
      "needs_background": "light"
     },
     "output_type": "display_data"
    }
   ],
   "source": [
    "de_actual_predicted.plot(figsize=(20,10))\n",
    "plt.title('$DE Stock Price Actual and Predicted (08/31/2017 - 07/06/2021)')\n",
    "plt.xlabel('Year')\n",
    "plt.ylabel('Stock Price per Share (in USD)')\n",
    "plt.legend(loc=\"best\")\n",
    "plt.show()"
   ]
  },
  {
   "cell_type": "code",
   "execution_count": null,
   "id": "deea64cb-0412-499e-8e4e-418e1af36353",
   "metadata": {},
   "outputs": [],
   "source": []
  }
 ],
 "metadata": {
  "kernelspec": {
   "display_name": "Python 3",
   "language": "python",
   "name": "python3"
  },
  "language_info": {
   "codemirror_mode": {
    "name": "ipython",
    "version": 3
   },
   "file_extension": ".py",
   "mimetype": "text/x-python",
   "name": "python",
   "nbconvert_exporter": "python",
   "pygments_lexer": "ipython3",
   "version": "3.8.10"
  }
 },
 "nbformat": 4,
 "nbformat_minor": 5
}
