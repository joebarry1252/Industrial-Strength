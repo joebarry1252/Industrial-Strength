{
 "cells": [
  {
   "cell_type": "code",
   "execution_count": 1,
   "metadata": {},
   "outputs": [],
   "source": [
    "# Initial imports\n",
    "import os\n",
    "import numpy as np\n",
    "import pandas as pd\n",
    "import matplotlib.pyplot as plt\n",
    "import alpaca_trade_api as tradeapi\n",
    "from pathlib import Path\n",
    "import requests\n",
    "\n",
    "%matplotlib inline"
   ]
  },
  {
   "cell_type": "code",
   "execution_count": 3,
   "metadata": {},
   "outputs": [],
   "source": [
    "LMT_csv = Path(\"../ASD_Data/LMT_DATA.csv\")"
   ]
  },
  {
   "cell_type": "code",
   "execution_count": 4,
   "metadata": {},
   "outputs": [],
   "source": [
    "LMT_df = pd.read_csv(LMT_csv, index_col='Date', infer_datetime_format=True, parse_dates=True)"
   ]
  },
  {
   "cell_type": "code",
   "execution_count": 5,
   "metadata": {},
   "outputs": [
    {
     "data": {
      "text/html": [
       "<div>\n",
       "<style scoped>\n",
       "    .dataframe tbody tr th:only-of-type {\n",
       "        vertical-align: middle;\n",
       "    }\n",
       "\n",
       "    .dataframe tbody tr th {\n",
       "        vertical-align: top;\n",
       "    }\n",
       "\n",
       "    .dataframe thead th {\n",
       "        text-align: right;\n",
       "    }\n",
       "</style>\n",
       "<table border=\"1\" class=\"dataframe\">\n",
       "  <thead>\n",
       "    <tr style=\"text-align: right;\">\n",
       "      <th></th>\n",
       "      <th>Open</th>\n",
       "      <th>High</th>\n",
       "      <th>Low</th>\n",
       "      <th>Close</th>\n",
       "      <th>Adj Close</th>\n",
       "      <th>Volume</th>\n",
       "    </tr>\n",
       "    <tr>\n",
       "      <th>Date</th>\n",
       "      <th></th>\n",
       "      <th></th>\n",
       "      <th></th>\n",
       "      <th></th>\n",
       "      <th></th>\n",
       "      <th></th>\n",
       "    </tr>\n",
       "  </thead>\n",
       "  <tbody>\n",
       "    <tr>\n",
       "      <th>2011-06-30</th>\n",
       "      <td>80.400002</td>\n",
       "      <td>81.269997</td>\n",
       "      <td>80.089996</td>\n",
       "      <td>80.970001</td>\n",
       "      <td>58.887226</td>\n",
       "      <td>1487100</td>\n",
       "    </tr>\n",
       "    <tr>\n",
       "      <th>2011-07-01</th>\n",
       "      <td>80.870003</td>\n",
       "      <td>82.010002</td>\n",
       "      <td>80.690002</td>\n",
       "      <td>81.970001</td>\n",
       "      <td>59.614498</td>\n",
       "      <td>1200900</td>\n",
       "    </tr>\n",
       "    <tr>\n",
       "      <th>2011-07-05</th>\n",
       "      <td>81.629997</td>\n",
       "      <td>81.629997</td>\n",
       "      <td>80.639999</td>\n",
       "      <td>80.970001</td>\n",
       "      <td>58.887226</td>\n",
       "      <td>1310400</td>\n",
       "    </tr>\n",
       "    <tr>\n",
       "      <th>2011-07-06</th>\n",
       "      <td>80.970001</td>\n",
       "      <td>81.930000</td>\n",
       "      <td>80.930000</td>\n",
       "      <td>81.620003</td>\n",
       "      <td>59.359955</td>\n",
       "      <td>2339400</td>\n",
       "    </tr>\n",
       "    <tr>\n",
       "      <th>2011-07-07</th>\n",
       "      <td>82.230003</td>\n",
       "      <td>82.230003</td>\n",
       "      <td>81.239998</td>\n",
       "      <td>81.360001</td>\n",
       "      <td>59.170860</td>\n",
       "      <td>1950500</td>\n",
       "    </tr>\n",
       "  </tbody>\n",
       "</table>\n",
       "</div>"
      ],
      "text/plain": [
       "                 Open       High        Low      Close  Adj Close   Volume\n",
       "Date                                                                      \n",
       "2011-06-30  80.400002  81.269997  80.089996  80.970001  58.887226  1487100\n",
       "2011-07-01  80.870003  82.010002  80.690002  81.970001  59.614498  1200900\n",
       "2011-07-05  81.629997  81.629997  80.639999  80.970001  58.887226  1310400\n",
       "2011-07-06  80.970001  81.930000  80.930000  81.620003  59.359955  2339400\n",
       "2011-07-07  82.230003  82.230003  81.239998  81.360001  59.170860  1950500"
      ]
     },
     "execution_count": 5,
     "metadata": {},
     "output_type": "execute_result"
    }
   ],
   "source": [
    "LMT_df.head()"
   ]
  },
  {
   "cell_type": "code",
   "execution_count": 6,
   "metadata": {},
   "outputs": [],
   "source": [
    "LMT_df.sort_index(ascending=True, inplace=True)"
   ]
  },
  {
   "cell_type": "code",
   "execution_count": 8,
   "metadata": {},
   "outputs": [
    {
     "data": {
      "text/html": [
       "<div>\n",
       "<style scoped>\n",
       "    .dataframe tbody tr th:only-of-type {\n",
       "        vertical-align: middle;\n",
       "    }\n",
       "\n",
       "    .dataframe tbody tr th {\n",
       "        vertical-align: top;\n",
       "    }\n",
       "\n",
       "    .dataframe thead th {\n",
       "        text-align: right;\n",
       "    }\n",
       "</style>\n",
       "<table border=\"1\" class=\"dataframe\">\n",
       "  <thead>\n",
       "    <tr style=\"text-align: right;\">\n",
       "      <th></th>\n",
       "      <th>Close</th>\n",
       "    </tr>\n",
       "    <tr>\n",
       "      <th>Date</th>\n",
       "      <th></th>\n",
       "    </tr>\n",
       "  </thead>\n",
       "  <tbody>\n",
       "    <tr>\n",
       "      <th>2011-06-30</th>\n",
       "      <td>80.970001</td>\n",
       "    </tr>\n",
       "    <tr>\n",
       "      <th>2011-07-01</th>\n",
       "      <td>81.970001</td>\n",
       "    </tr>\n",
       "    <tr>\n",
       "      <th>2011-07-05</th>\n",
       "      <td>80.970001</td>\n",
       "    </tr>\n",
       "    <tr>\n",
       "      <th>2011-07-06</th>\n",
       "      <td>81.620003</td>\n",
       "    </tr>\n",
       "    <tr>\n",
       "      <th>2011-07-07</th>\n",
       "      <td>81.360001</td>\n",
       "    </tr>\n",
       "    <tr>\n",
       "      <th>...</th>\n",
       "      <td>...</td>\n",
       "    </tr>\n",
       "    <tr>\n",
       "      <th>2021-06-24</th>\n",
       "      <td>377.730011</td>\n",
       "    </tr>\n",
       "    <tr>\n",
       "      <th>2021-06-25</th>\n",
       "      <td>382.010010</td>\n",
       "    </tr>\n",
       "    <tr>\n",
       "      <th>2021-06-28</th>\n",
       "      <td>380.070007</td>\n",
       "    </tr>\n",
       "    <tr>\n",
       "      <th>2021-06-29</th>\n",
       "      <td>373.420013</td>\n",
       "    </tr>\n",
       "    <tr>\n",
       "      <th>2021-06-30</th>\n",
       "      <td>378.350006</td>\n",
       "    </tr>\n",
       "  </tbody>\n",
       "</table>\n",
       "<p>2517 rows × 1 columns</p>\n",
       "</div>"
      ],
      "text/plain": [
       "                 Close\n",
       "Date                  \n",
       "2011-06-30   80.970001\n",
       "2011-07-01   81.970001\n",
       "2011-07-05   80.970001\n",
       "2011-07-06   81.620003\n",
       "2011-07-07   81.360001\n",
       "...                ...\n",
       "2021-06-24  377.730011\n",
       "2021-06-25  382.010010\n",
       "2021-06-28  380.070007\n",
       "2021-06-29  373.420013\n",
       "2021-06-30  378.350006\n",
       "\n",
       "[2517 rows x 1 columns]"
      ]
     },
     "execution_count": 8,
     "metadata": {},
     "output_type": "execute_result"
    }
   ],
   "source": [
    "LMT_df = LMT_df.rename(columns={'Close': 'Close'})\n",
    "LMT_df = LMT_df[['Close']]\n",
    "LMT_df"
   ]
  },
  {
   "cell_type": "code",
   "execution_count": 9,
   "metadata": {},
   "outputs": [],
   "source": [
    "def window_data(df, window, feature_col_number, target_col_number):\n",
    "    X = []\n",
    "    y = []\n",
    "    for i in range(len(df) - window-1):\n",
    "        features = df.iloc[i : (i+window), feature_col_number]\n",
    "        target = df.iloc[(i + window), target_col_number]\n",
    "        X.append(features)\n",
    "        y.append(target)\n",
    "    return np.array(X), np.array(y).reshape(-1, 1)"
   ]
  },
  {
   "cell_type": "code",
   "execution_count": 10,
   "metadata": {},
   "outputs": [
    {
     "name": "stdout",
     "output_type": "stream",
     "text": [
      "X sample values:\n",
      "[[80.970001 81.970001 80.970001 81.620003 81.360001 80.510002 79.980003\n",
      "  79.709999 79.669998 79.199997 78.370003 77.440002 78.400002 78.32\n",
      "  80.160004 79.599998 79.300003 80.82     77.459999 75.290001 75.730003\n",
      "  74.459999 73.68     73.559998 71.32     72.82     68.900002 70.879997\n",
      "  66.870003 68.839996 69.120003 70.260002 70.690002 71.190002 69.379997\n",
      "  69.389999 69.919998 71.879997 73.260002 72.040001 73.25     74.07\n",
      "  74.099998 74.190002 73.050003 71.370003 71.220001 72.940002 71.940002\n",
      "  71.57     72.239998 72.709999 73.580002 75.440002 76.029999 76.690002\n",
      "  75.440002 72.650002 73.139999 72.089996 73.779999 74.269997 73.32\n",
      "  72.489998 72.639999 71.160004 72.699997 72.489998 73.129997 74.\n",
      "  75.75     76.32     76.129997 76.410004 75.989998 74.720001 75.980003\n",
      "  75.470001 75.699997 77.400002 78.730003 78.889999 76.349998 75.650002\n",
      "  75.43     75.900002 73.989998 74.519997 76.089996 76.519997 78.260002\n",
      "  78.389999 76.949997 76.129997 77.419998 77.349998 77.849998 75.93\n",
      "  75.160004 75.099998]\n",
      " [81.970001 80.970001 81.620003 81.360001 80.510002 79.980003 79.709999\n",
      "  79.669998 79.199997 78.370003 77.440002 78.400002 78.32     80.160004\n",
      "  79.599998 79.300003 80.82     77.459999 75.290001 75.730003 74.459999\n",
      "  73.68     73.559998 71.32     72.82     68.900002 70.879997 66.870003\n",
      "  68.839996 69.120003 70.260002 70.690002 71.190002 69.379997 69.389999\n",
      "  69.919998 71.879997 73.260002 72.040001 73.25     74.07     74.099998\n",
      "  74.190002 73.050003 71.370003 71.220001 72.940002 71.940002 71.57\n",
      "  72.239998 72.709999 73.580002 75.440002 76.029999 76.690002 75.440002\n",
      "  72.650002 73.139999 72.089996 73.779999 74.269997 73.32     72.489998\n",
      "  72.639999 71.160004 72.699997 72.489998 73.129997 74.       75.75\n",
      "  76.32     76.129997 76.410004 75.989998 74.720001 75.980003 75.470001\n",
      "  75.699997 77.400002 78.730003 78.889999 76.349998 75.650002 75.43\n",
      "  75.900002 73.989998 74.519997 76.089996 76.519997 78.260002 78.389999\n",
      "  76.949997 76.129997 77.419998 77.349998 77.849998 75.93     75.160004\n",
      "  75.099998 74.489998]\n",
      " [80.970001 81.620003 81.360001 80.510002 79.980003 79.709999 79.669998\n",
      "  79.199997 78.370003 77.440002 78.400002 78.32     80.160004 79.599998\n",
      "  79.300003 80.82     77.459999 75.290001 75.730003 74.459999 73.68\n",
      "  73.559998 71.32     72.82     68.900002 70.879997 66.870003 68.839996\n",
      "  69.120003 70.260002 70.690002 71.190002 69.379997 69.389999 69.919998\n",
      "  71.879997 73.260002 72.040001 73.25     74.07     74.099998 74.190002\n",
      "  73.050003 71.370003 71.220001 72.940002 71.940002 71.57     72.239998\n",
      "  72.709999 73.580002 75.440002 76.029999 76.690002 75.440002 72.650002\n",
      "  73.139999 72.089996 73.779999 74.269997 73.32     72.489998 72.639999\n",
      "  71.160004 72.699997 72.489998 73.129997 74.       75.75     76.32\n",
      "  76.129997 76.410004 75.989998 74.720001 75.980003 75.470001 75.699997\n",
      "  77.400002 78.730003 78.889999 76.349998 75.650002 75.43     75.900002\n",
      "  73.989998 74.519997 76.089996 76.519997 78.260002 78.389999 76.949997\n",
      "  76.129997 77.419998 77.349998 77.849998 75.93     75.160004 75.099998\n",
      "  74.489998 74.470001]] \n",
      "\n",
      "y sample values:\n",
      "[[74.489998]\n",
      " [74.470001]\n",
      " [73.949997]]\n"
     ]
    }
   ],
   "source": [
    "window_size = 100\n",
    "feature_column = 0\n",
    "target_column = 0\n",
    "\n",
    "X, y = window_data(LMT_df, window_size, feature_column, target_column)\n",
    "\n",
    "print(f\"X sample values:\\n{X[:3]} \\n\")\n",
    "print(f\"y sample values:\\n{y[:3]}\")"
   ]
  },
  {
   "cell_type": "code",
   "execution_count": 11,
   "metadata": {},
   "outputs": [],
   "source": [
    "split = int(0.6 * len(X))\n",
    "\n",
    "X_train = X[: split]\n",
    "X_test = X[split:]\n",
    "\n",
    "y_train = y[: split]\n",
    "y_test = y[split:]"
   ]
  },
  {
   "cell_type": "code",
   "execution_count": 12,
   "metadata": {},
   "outputs": [
    {
     "data": {
      "text/plain": [
       "array([[ 74.489998],\n",
       "       [ 74.470001],\n",
       "       [ 73.949997],\n",
       "       ...,\n",
       "       [304.799988],\n",
       "       [302.839996],\n",
       "       [302.600006]])"
      ]
     },
     "execution_count": 12,
     "metadata": {},
     "output_type": "execute_result"
    }
   ],
   "source": [
    "y_train"
   ]
  },
  {
   "cell_type": "code",
   "execution_count": 13,
   "metadata": {},
   "outputs": [],
   "source": [
    "# Import MinMaxScaler from sklearn\n",
    "from sklearn.preprocessing import MinMaxScaler\n",
    "\n",
    "x_train_scaler = MinMaxScaler()\n",
    "y_train_scaler = MinMaxScaler()\n",
    "\n",
    "x_train_scaler.fit(X_train)\n",
    "y_train_scaler.fit(y_train)\n",
    "\n",
    "X_train = x_train_scaler.transform(X_train)\n",
    "y_train = y_train_scaler.transform(y_train)\n",
    "\n",
    "X_test = x_train_scaler.transform(X_test)\n",
    "y_test = y_train_scaler.transform(y_test)"
   ]
  },
  {
   "cell_type": "code",
   "execution_count": 14,
   "metadata": {},
   "outputs": [],
   "source": [
    "X_train = X_train.reshape((X_train.shape[0], X_train.shape[1], 1))\n",
    "X_test = X_test.reshape((X_test.shape[0], X_test.shape[1], 1))"
   ]
  },
  {
   "cell_type": "code",
   "execution_count": 15,
   "metadata": {},
   "outputs": [],
   "source": [
    "from tensorflow.keras.models import Sequential\n",
    "from tensorflow.keras.layers import LSTM, Dense, Dropout"
   ]
  },
  {
   "cell_type": "code",
   "execution_count": 16,
   "metadata": {},
   "outputs": [],
   "source": [
    "model = Sequential()\n",
    "\n",
    "number_units = window_size\n",
    "dropout_fraction = 0.2\n",
    "\n",
    "# Layer 1\n",
    "model.add(LSTM(\n",
    "    units = number_units,\n",
    "    return_sequences = True,\n",
    "    input_shape= (X_train.shape[1], 1))\n",
    "    )\n",
    "model.add(Dropout(dropout_fraction))\n",
    "\n",
    "# Layer 2\n",
    "model.add(LSTM(\n",
    "    units = number_units,\n",
    "    return_sequences = True\n",
    "    ))\n",
    "model.add(Dropout(dropout_fraction))\n",
    "\n",
    "# Layer 3\n",
    "model.add(LSTM(\n",
    "    units = number_units\n",
    "    ))\n",
    "model.add(Dropout(dropout_fraction))\n",
    "\n",
    "# Output Layer\n",
    "model.add(Dense(1))"
   ]
  },
  {
   "cell_type": "code",
   "execution_count": 17,
   "metadata": {},
   "outputs": [
    {
     "name": "stdout",
     "output_type": "stream",
     "text": [
      "Model: \"sequential\"\n",
      "_________________________________________________________________\n",
      "Layer (type)                 Output Shape              Param #   \n",
      "=================================================================\n",
      "lstm (LSTM)                  (None, 100, 100)          40800     \n",
      "_________________________________________________________________\n",
      "dropout (Dropout)            (None, 100, 100)          0         \n",
      "_________________________________________________________________\n",
      "lstm_1 (LSTM)                (None, 100, 100)          80400     \n",
      "_________________________________________________________________\n",
      "dropout_1 (Dropout)          (None, 100, 100)          0         \n",
      "_________________________________________________________________\n",
      "lstm_2 (LSTM)                (None, 100)               80400     \n",
      "_________________________________________________________________\n",
      "dropout_2 (Dropout)          (None, 100)               0         \n",
      "_________________________________________________________________\n",
      "dense (Dense)                (None, 1)                 101       \n",
      "=================================================================\n",
      "Total params: 201,701\n",
      "Trainable params: 201,701\n",
      "Non-trainable params: 0\n",
      "_________________________________________________________________\n"
     ]
    }
   ],
   "source": [
    "model.compile(optimizer='adam', loss='mean_squared_error')\n",
    "model.summary()"
   ]
  },
  {
   "cell_type": "code",
   "execution_count": 18,
   "metadata": {},
   "outputs": [
    {
     "name": "stdout",
     "output_type": "stream",
     "text": [
      "Epoch 1/20\n",
      "15/15 [==============================] - 10s 304ms/step - loss: 0.0037\n",
      "Epoch 2/20\n",
      "15/15 [==============================] - 5s 318ms/step - loss: 0.0181\n",
      "Epoch 3/20\n",
      "15/15 [==============================] - 5s 325ms/step - loss: 0.0138\n",
      "Epoch 4/20\n",
      "15/15 [==============================] - 5s 328ms/step - loss: 0.0045\n",
      "Epoch 5/20\n",
      "15/15 [==============================] - 6s 369ms/step - loss: 0.0061\n",
      "Epoch 6/20\n",
      "15/15 [==============================] - 10s 700ms/step - loss: 0.0039\n",
      "Epoch 7/20\n",
      "15/15 [==============================] - 12s 813ms/step - loss: 0.0162\n",
      "Epoch 8/20\n",
      "15/15 [==============================] - 13s 865ms/step - loss: 0.0465\n",
      "Epoch 9/20\n",
      "15/15 [==============================] - 14s 909ms/step - loss: 0.0547\n",
      "Epoch 10/20\n",
      "15/15 [==============================] - 16s 1s/step - loss: 0.0289\n",
      "Epoch 11/20\n",
      "15/15 [==============================] - 14s 919ms/step - loss: 0.0076\n",
      "Epoch 12/20\n",
      "15/15 [==============================] - 14s 902ms/step - loss: 0.0139\n",
      "Epoch 13/20\n",
      "15/15 [==============================] - 14s 957ms/step - loss: 0.0133\n",
      "Epoch 14/20\n",
      "15/15 [==============================] - 15s 968ms/step - loss: 0.0116\n",
      "Epoch 15/20\n",
      "15/15 [==============================] - 15s 972ms/step - loss: 0.0094\n",
      "Epoch 16/20\n",
      "15/15 [==============================] - 15s 1s/step - loss: 0.0171\n",
      "Epoch 17/20\n",
      "15/15 [==============================] - 18s 1s/step - loss: 0.0152\n",
      "Epoch 18/20\n",
      "15/15 [==============================] - 17s 1s/step - loss: 0.0180\n",
      "Epoch 19/20\n",
      "15/15 [==============================] - 17s 1s/step - loss: 0.0151\n",
      "Epoch 20/20\n",
      "15/15 [==============================] - 16s 1s/step - loss: 0.0124\n"
     ]
    },
    {
     "data": {
      "text/plain": [
       "<tensorflow.python.keras.callbacks.History at 0x2a5b6e76a30>"
      ]
     },
     "execution_count": 18,
     "metadata": {},
     "output_type": "execute_result"
    }
   ],
   "source": [
    "model.fit(X_train, y_train, epochs=20, shuffle=False, batch_size=100, verbose=1)"
   ]
  },
  {
   "cell_type": "code",
   "execution_count": 19,
   "metadata": {},
   "outputs": [
    {
     "data": {
      "text/plain": [
       "0.00807915348559618"
      ]
     },
     "execution_count": 19,
     "metadata": {},
     "output_type": "execute_result"
    }
   ],
   "source": [
    "model.evaluate(X_test, y_test, verbose=0)"
   ]
  },
  {
   "cell_type": "code",
   "execution_count": 20,
   "metadata": {},
   "outputs": [],
   "source": [
    "predicted = model.predict(X_test)"
   ]
  },
  {
   "cell_type": "code",
   "execution_count": 21,
   "metadata": {},
   "outputs": [],
   "source": [
    "predicted_prices = y_train_scaler.inverse_transform(predicted)"
   ]
  },
  {
   "cell_type": "code",
   "execution_count": 22,
   "metadata": {},
   "outputs": [],
   "source": [
    "real_prices = y_train_scaler.inverse_transform(y_test.reshape(-1,1))"
   ]
  },
  {
   "cell_type": "code",
   "execution_count": 23,
   "metadata": {},
   "outputs": [
    {
     "data": {
      "text/html": [
       "<div>\n",
       "<style scoped>\n",
       "    .dataframe tbody tr th:only-of-type {\n",
       "        vertical-align: middle;\n",
       "    }\n",
       "\n",
       "    .dataframe tbody tr th {\n",
       "        vertical-align: top;\n",
       "    }\n",
       "\n",
       "    .dataframe thead th {\n",
       "        text-align: right;\n",
       "    }\n",
       "</style>\n",
       "<table border=\"1\" class=\"dataframe\">\n",
       "  <thead>\n",
       "    <tr style=\"text-align: right;\">\n",
       "      <th></th>\n",
       "      <th>Actual</th>\n",
       "      <th>Predicted</th>\n",
       "    </tr>\n",
       "    <tr>\n",
       "      <th>Date</th>\n",
       "      <th></th>\n",
       "      <th></th>\n",
       "    </tr>\n",
       "  </thead>\n",
       "  <tbody>\n",
       "    <tr>\n",
       "      <th>2017-08-28</th>\n",
       "      <td>302.799988</td>\n",
       "      <td>317.079498</td>\n",
       "    </tr>\n",
       "    <tr>\n",
       "      <th>2017-08-29</th>\n",
       "      <td>303.609985</td>\n",
       "      <td>317.288116</td>\n",
       "    </tr>\n",
       "    <tr>\n",
       "      <th>2017-08-30</th>\n",
       "      <td>308.140015</td>\n",
       "      <td>317.469086</td>\n",
       "    </tr>\n",
       "    <tr>\n",
       "      <th>2017-08-31</th>\n",
       "      <td>306.299988</td>\n",
       "      <td>317.768188</td>\n",
       "    </tr>\n",
       "    <tr>\n",
       "      <th>2017-09-01</th>\n",
       "      <td>305.390015</td>\n",
       "      <td>318.136658</td>\n",
       "    </tr>\n",
       "  </tbody>\n",
       "</table>\n",
       "</div>"
      ],
      "text/plain": [
       "                Actual   Predicted\n",
       "Date                              \n",
       "2017-08-28  302.799988  317.079498\n",
       "2017-08-29  303.609985  317.288116\n",
       "2017-08-30  308.140015  317.469086\n",
       "2017-08-31  306.299988  317.768188\n",
       "2017-09-01  305.390015  318.136658"
      ]
     },
     "execution_count": 23,
     "metadata": {},
     "output_type": "execute_result"
    }
   ],
   "source": [
    "LMT_actual_predicted = pd.DataFrame({\n",
    "    \"Actual\": real_prices.ravel(),\n",
    "    \"Predicted\": predicted_prices.ravel()\n",
    "}, index = LMT_df.index[-len(real_prices): ])\n",
    "\n",
    "LMT_actual_predicted.head()"
   ]
  },
  {
   "cell_type": "code",
   "execution_count": 24,
   "metadata": {},
   "outputs": [
    {
     "data": {
      "text/html": [
       "<div>\n",
       "<style scoped>\n",
       "    .dataframe tbody tr th:only-of-type {\n",
       "        vertical-align: middle;\n",
       "    }\n",
       "\n",
       "    .dataframe tbody tr th {\n",
       "        vertical-align: top;\n",
       "    }\n",
       "\n",
       "    .dataframe thead th {\n",
       "        text-align: right;\n",
       "    }\n",
       "</style>\n",
       "<table border=\"1\" class=\"dataframe\">\n",
       "  <thead>\n",
       "    <tr style=\"text-align: right;\">\n",
       "      <th></th>\n",
       "      <th>Actual</th>\n",
       "      <th>Predicted</th>\n",
       "    </tr>\n",
       "    <tr>\n",
       "      <th>Date</th>\n",
       "      <th></th>\n",
       "      <th></th>\n",
       "    </tr>\n",
       "  </thead>\n",
       "  <tbody>\n",
       "    <tr>\n",
       "      <th>2021-06-24</th>\n",
       "      <td>377.329987</td>\n",
       "      <td>404.134369</td>\n",
       "    </tr>\n",
       "    <tr>\n",
       "      <th>2021-06-25</th>\n",
       "      <td>377.730011</td>\n",
       "      <td>403.547455</td>\n",
       "    </tr>\n",
       "    <tr>\n",
       "      <th>2021-06-28</th>\n",
       "      <td>382.010010</td>\n",
       "      <td>402.873199</td>\n",
       "    </tr>\n",
       "    <tr>\n",
       "      <th>2021-06-29</th>\n",
       "      <td>380.070007</td>\n",
       "      <td>402.260864</td>\n",
       "    </tr>\n",
       "    <tr>\n",
       "      <th>2021-06-30</th>\n",
       "      <td>373.420013</td>\n",
       "      <td>401.695709</td>\n",
       "    </tr>\n",
       "  </tbody>\n",
       "</table>\n",
       "</div>"
      ],
      "text/plain": [
       "                Actual   Predicted\n",
       "Date                              \n",
       "2021-06-24  377.329987  404.134369\n",
       "2021-06-25  377.730011  403.547455\n",
       "2021-06-28  382.010010  402.873199\n",
       "2021-06-29  380.070007  402.260864\n",
       "2021-06-30  373.420013  401.695709"
      ]
     },
     "execution_count": 24,
     "metadata": {},
     "output_type": "execute_result"
    }
   ],
   "source": [
    "LMT_actual_predicted.tail()"
   ]
  },
  {
   "cell_type": "code",
   "execution_count": 27,
   "metadata": {},
   "outputs": [
    {
     "data": {
      "text/plain": [
       "<matplotlib.axes._subplots.AxesSubplot at 0x2a5c33da2e0>"
      ]
     },
     "execution_count": 27,
     "metadata": {},
     "output_type": "execute_result"
    },
    {
     "data": {
      "image/png": "[encoded data removed]",
      "text/plain": [
       "<Figure size 1440x720 with 1 Axes>"
      ]
     },
     "metadata": {
      "needs_background": "light"
     },
     "output_type": "display_data"
    }
   ],
   "source": [
    "LMT_actual_predicted.plot(figsize=(20,10), title = \"Lockheed-Martin Price Prediction\")"
   ]
  },
  {
   "cell_type": "code",
   "execution_count": null,
   "metadata": {},
   "outputs": [],
   "source": []
  }
 ],
 "metadata": {
  "interpreter": {
   "hash": "4dba3cd8cacc6caf095be8f13e45c7df4062fd9036a4f6c7ca2cd1452bed8f3f"
  },
  "kernelspec": {
   "display_name": "Python 3",
   "language": "python",
   "name": "python3"
  },
  "language_info": {
   "codemirror_mode": {
    "name": "ipython",
    "version": 3
   },
   "file_extension": ".py",
   "mimetype": "text/x-python",
   "name": "python",
   "nbconvert_exporter": "python",
   "pygments_lexer": "ipython3",
   "version": "3.8.5"
  }
 },
 "nbformat": 4,
 "nbformat_minor": 4
}
