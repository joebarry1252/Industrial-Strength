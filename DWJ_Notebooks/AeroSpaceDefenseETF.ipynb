{
 "cells": [
  {
   "cell_type": "code",
   "execution_count": 1,
   "metadata": {},
   "outputs": [],
   "source": [
    "# Initial imports\n",
    "import os\n",
    "import numpy as np\n",
    "import pandas as pd\n",
    "import matplotlib.pyplot as plt\n",
    "import alpaca_trade_api as tradeapi\n",
    "from pathlib import Path\n",
    "import requests\n",
    "\n",
    "%matplotlib inline"
   ]
  },
  {
   "cell_type": "code",
   "execution_count": 2,
   "metadata": {},
   "outputs": [],
   "source": [
    "XAR_csv = Path(\"ASD_Data/XAR_DATA.csv\")"
   ]
  },
  {
   "cell_type": "code",
   "execution_count": 3,
   "metadata": {},
   "outputs": [],
   "source": [
    "XAR_df = pd.read_csv(XAR_csv, index_col='Date', infer_datetime_format=True, parse_dates=True)"
   ]
  },
  {
   "cell_type": "code",
   "execution_count": 4,
   "metadata": {},
   "outputs": [
    {
     "data": {
      "text/html": [
       "<div>\n",
       "<style scoped>\n",
       "    .dataframe tbody tr th:only-of-type {\n",
       "        vertical-align: middle;\n",
       "    }\n",
       "\n",
       "    .dataframe tbody tr th {\n",
       "        vertical-align: top;\n",
       "    }\n",
       "\n",
       "    .dataframe thead th {\n",
       "        text-align: right;\n",
       "    }\n",
       "</style>\n",
       "<table border=\"1\" class=\"dataframe\">\n",
       "  <thead>\n",
       "    <tr style=\"text-align: right;\">\n",
       "      <th></th>\n",
       "      <th>Open</th>\n",
       "      <th>High</th>\n",
       "      <th>Low</th>\n",
       "      <th>Close</th>\n",
       "      <th>Adj Close</th>\n",
       "      <th>Volume</th>\n",
       "    </tr>\n",
       "    <tr>\n",
       "      <th>Date</th>\n",
       "      <th></th>\n",
       "      <th></th>\n",
       "      <th></th>\n",
       "      <th></th>\n",
       "      <th></th>\n",
       "      <th></th>\n",
       "    </tr>\n",
       "  </thead>\n",
       "  <tbody>\n",
       "    <tr>\n",
       "      <th>2011-10-03</th>\n",
       "      <td>24.850000</td>\n",
       "      <td>24.850000</td>\n",
       "      <td>24.850000</td>\n",
       "      <td>24.850000</td>\n",
       "      <td>21.693798</td>\n",
       "      <td>0</td>\n",
       "    </tr>\n",
       "    <tr>\n",
       "      <th>2011-10-04</th>\n",
       "      <td>23.480000</td>\n",
       "      <td>24.415001</td>\n",
       "      <td>23.480000</td>\n",
       "      <td>24.415001</td>\n",
       "      <td>21.314049</td>\n",
       "      <td>23000</td>\n",
       "    </tr>\n",
       "    <tr>\n",
       "      <th>2011-10-05</th>\n",
       "      <td>24.735001</td>\n",
       "      <td>24.754999</td>\n",
       "      <td>24.549999</td>\n",
       "      <td>24.754999</td>\n",
       "      <td>21.610859</td>\n",
       "      <td>21200</td>\n",
       "    </tr>\n",
       "    <tr>\n",
       "      <th>2011-10-06</th>\n",
       "      <td>24.969999</td>\n",
       "      <td>25.260000</td>\n",
       "      <td>24.969999</td>\n",
       "      <td>25.260000</td>\n",
       "      <td>22.051729</td>\n",
       "      <td>55800</td>\n",
       "    </tr>\n",
       "    <tr>\n",
       "      <th>2011-10-07</th>\n",
       "      <td>25.690001</td>\n",
       "      <td>25.690001</td>\n",
       "      <td>25.280001</td>\n",
       "      <td>25.320000</td>\n",
       "      <td>22.104103</td>\n",
       "      <td>30600</td>\n",
       "    </tr>\n",
       "  </tbody>\n",
       "</table>\n",
       "</div>"
      ],
      "text/plain": [
       "                 Open       High        Low      Close  Adj Close  Volume\n",
       "Date                                                                     \n",
       "2011-10-03  24.850000  24.850000  24.850000  24.850000  21.693798       0\n",
       "2011-10-04  23.480000  24.415001  23.480000  24.415001  21.314049   23000\n",
       "2011-10-05  24.735001  24.754999  24.549999  24.754999  21.610859   21200\n",
       "2011-10-06  24.969999  25.260000  24.969999  25.260000  22.051729   55800\n",
       "2011-10-07  25.690001  25.690001  25.280001  25.320000  22.104103   30600"
      ]
     },
     "execution_count": 4,
     "metadata": {},
     "output_type": "execute_result"
    }
   ],
   "source": [
    "XAR_df.head()"
   ]
  },
  {
   "cell_type": "code",
   "execution_count": 5,
   "metadata": {},
   "outputs": [],
   "source": [
    "XAR_df.sort_index(ascending=True, inplace=True)"
   ]
  },
  {
   "cell_type": "code",
   "execution_count": 6,
   "metadata": {},
   "outputs": [
    {
     "data": {
      "text/html": [
       "<div>\n",
       "<style scoped>\n",
       "    .dataframe tbody tr th:only-of-type {\n",
       "        vertical-align: middle;\n",
       "    }\n",
       "\n",
       "    .dataframe tbody tr th {\n",
       "        vertical-align: top;\n",
       "    }\n",
       "\n",
       "    .dataframe thead th {\n",
       "        text-align: right;\n",
       "    }\n",
       "</style>\n",
       "<table border=\"1\" class=\"dataframe\">\n",
       "  <thead>\n",
       "    <tr style=\"text-align: right;\">\n",
       "      <th></th>\n",
       "      <th>Close</th>\n",
       "    </tr>\n",
       "    <tr>\n",
       "      <th>Date</th>\n",
       "      <th></th>\n",
       "    </tr>\n",
       "  </thead>\n",
       "  <tbody>\n",
       "    <tr>\n",
       "      <th>2011-10-03</th>\n",
       "      <td>24.850000</td>\n",
       "    </tr>\n",
       "    <tr>\n",
       "      <th>2011-10-04</th>\n",
       "      <td>24.415001</td>\n",
       "    </tr>\n",
       "    <tr>\n",
       "      <th>2011-10-05</th>\n",
       "      <td>24.754999</td>\n",
       "    </tr>\n",
       "    <tr>\n",
       "      <th>2011-10-06</th>\n",
       "      <td>25.260000</td>\n",
       "    </tr>\n",
       "    <tr>\n",
       "      <th>2011-10-07</th>\n",
       "      <td>25.320000</td>\n",
       "    </tr>\n",
       "    <tr>\n",
       "      <th>...</th>\n",
       "      <td>...</td>\n",
       "    </tr>\n",
       "    <tr>\n",
       "      <th>2021-06-24</th>\n",
       "      <td>133.850006</td>\n",
       "    </tr>\n",
       "    <tr>\n",
       "      <th>2021-06-25</th>\n",
       "      <td>136.440002</td>\n",
       "    </tr>\n",
       "    <tr>\n",
       "      <th>2021-06-28</th>\n",
       "      <td>134.210007</td>\n",
       "    </tr>\n",
       "    <tr>\n",
       "      <th>2021-06-29</th>\n",
       "      <td>132.119995</td>\n",
       "    </tr>\n",
       "    <tr>\n",
       "      <th>2021-06-30</th>\n",
       "      <td>132.300003</td>\n",
       "    </tr>\n",
       "  </tbody>\n",
       "</table>\n",
       "<p>2452 rows × 1 columns</p>\n",
       "</div>"
      ],
      "text/plain": [
       "                 Close\n",
       "Date                  \n",
       "2011-10-03   24.850000\n",
       "2011-10-04   24.415001\n",
       "2011-10-05   24.754999\n",
       "2011-10-06   25.260000\n",
       "2011-10-07   25.320000\n",
       "...                ...\n",
       "2021-06-24  133.850006\n",
       "2021-06-25  136.440002\n",
       "2021-06-28  134.210007\n",
       "2021-06-29  132.119995\n",
       "2021-06-30  132.300003\n",
       "\n",
       "[2452 rows x 1 columns]"
      ]
     },
     "execution_count": 6,
     "metadata": {},
     "output_type": "execute_result"
    }
   ],
   "source": [
    "XAR_df = XAR_df.rename(columns={'Close': 'Close'})\n",
    "XAR_df = XAR_df[['Close']]\n",
    "XAR_df"
   ]
  },
  {
   "cell_type": "code",
   "execution_count": 7,
   "metadata": {},
   "outputs": [],
   "source": [
    "def window_data(df, window, feature_col_number, target_col_number):\n",
    "    X = []\n",
    "    y = []\n",
    "    for i in range(len(df) - window-1):\n",
    "        features = df.iloc[i : (i+window), feature_col_number]\n",
    "        target = df.iloc[(i + window), target_col_number]\n",
    "        X.append(features)\n",
    "        y.append(target)\n",
    "    return np.array(X), np.array(y).reshape(-1, 1)"
   ]
  },
  {
   "cell_type": "code",
   "execution_count": 9,
   "metadata": {},
   "outputs": [
    {
     "name": "stdout",
     "output_type": "stream",
     "text": [
      "X sample values:\n",
      "[[24.85     24.415001 24.754999 25.26     25.32     25.32     25.32\n",
      "  25.32     25.32     25.32     25.91     26.41     26.129999 26.129999\n",
      "  26.129999 26.129999 27.379999 27.120001 28.105    28.030001 27.85\n",
      "  26.309999 26.905001 27.725    27.67     27.790001 27.965    27.18\n",
      "  27.205    27.790001 27.780001 27.780001 27.59     26.945    26.945\n",
      "  26.35     26.344999 25.719999 25.719999 26.41     26.504999 27.51\n",
      "  27.705    27.594999 27.594999 27.594999 27.594999 26.764999 26.764999\n",
      "  26.764999 27.155001 26.51     26.51     26.915001 26.915001 27.475\n",
      "  27.58     28.       28.055    28.055    28.055    27.995001 27.995001\n",
      "  28.245001 28.245001 27.799999 27.799999 27.799999 27.799999 28.975\n",
      "  29.115    28.76     28.959999 29.139999 29.51     29.42     29.334999\n",
      "  29.334999 29.629999 29.465    29.465    29.125    29.290001 30.065001\n",
      "  29.969999 30.475    30.4      30.504999 30.66     30.775    30.58\n",
      "  30.889999 30.575001 30.434999 30.76     30.76     30.76     30.674999\n",
      "  30.620001 30.85    ]\n",
      " [24.415001 24.754999 25.26     25.32     25.32     25.32     25.32\n",
      "  25.32     25.32     25.91     26.41     26.129999 26.129999 26.129999\n",
      "  26.129999 27.379999 27.120001 28.105    28.030001 27.85     26.309999\n",
      "  26.905001 27.725    27.67     27.790001 27.965    27.18     27.205\n",
      "  27.790001 27.780001 27.780001 27.59     26.945    26.945    26.35\n",
      "  26.344999 25.719999 25.719999 26.41     26.504999 27.51     27.705\n",
      "  27.594999 27.594999 27.594999 27.594999 26.764999 26.764999 26.764999\n",
      "  27.155001 26.51     26.51     26.915001 26.915001 27.475    27.58\n",
      "  28.       28.055    28.055    28.055    27.995001 27.995001 28.245001\n",
      "  28.245001 27.799999 27.799999 27.799999 27.799999 28.975    29.115\n",
      "  28.76     28.959999 29.139999 29.51     29.42     29.334999 29.334999\n",
      "  29.629999 29.465    29.465    29.125    29.290001 30.065001 29.969999\n",
      "  30.475    30.4      30.504999 30.66     30.775    30.58     30.889999\n",
      "  30.575001 30.434999 30.76     30.76     30.76     30.674999 30.620001\n",
      "  30.85     30.805   ]\n",
      " [24.754999 25.26     25.32     25.32     25.32     25.32     25.32\n",
      "  25.32     25.91     26.41     26.129999 26.129999 26.129999 26.129999\n",
      "  27.379999 27.120001 28.105    28.030001 27.85     26.309999 26.905001\n",
      "  27.725    27.67     27.790001 27.965    27.18     27.205    27.790001\n",
      "  27.780001 27.780001 27.59     26.945    26.945    26.35     26.344999\n",
      "  25.719999 25.719999 26.41     26.504999 27.51     27.705    27.594999\n",
      "  27.594999 27.594999 27.594999 26.764999 26.764999 26.764999 27.155001\n",
      "  26.51     26.51     26.915001 26.915001 27.475    27.58     28.\n",
      "  28.055    28.055    28.055    27.995001 27.995001 28.245001 28.245001\n",
      "  27.799999 27.799999 27.799999 27.799999 28.975    29.115    28.76\n",
      "  28.959999 29.139999 29.51     29.42     29.334999 29.334999 29.629999\n",
      "  29.465    29.465    29.125    29.290001 30.065001 29.969999 30.475\n",
      "  30.4      30.504999 30.66     30.775    30.58     30.889999 30.575001\n",
      "  30.434999 30.76     30.76     30.76     30.674999 30.620001 30.85\n",
      "  30.805    30.575001]] \n",
      "\n",
      "y sample values:\n",
      "[[30.805   ]\n",
      " [30.575001]\n",
      " [30.73    ]]\n"
     ]
    }
   ],
   "source": [
    "window_size = 100\n",
    "feature_column = 0\n",
    "target_column = 0\n",
    "\n",
    "X, y = window_data(XAR_df, window_size, feature_column, target_column)\n",
    "\n",
    "print(f\"X sample values:\\n{X[:3]} \\n\")\n",
    "print(f\"y sample values:\\n{y[:3]}\")"
   ]
  },
  {
   "cell_type": "code",
   "execution_count": 10,
   "metadata": {},
   "outputs": [],
   "source": [
    "split = int(0.6 * len(X))\n",
    "\n",
    "X_train = X[: split]\n",
    "X_test = X[split:]\n",
    "\n",
    "y_train = y[: split]\n",
    "y_test = y[split:]"
   ]
  },
  {
   "cell_type": "code",
   "execution_count": 11,
   "metadata": {},
   "outputs": [
    {
     "data": {
      "text/plain": [
       "array([[30.805   ],\n",
       "       [30.575001],\n",
       "       [30.73    ],\n",
       "       ...,\n",
       "       [79.720001],\n",
       "       [79.800003],\n",
       "       [81.089996]])"
      ]
     },
     "execution_count": 11,
     "metadata": {},
     "output_type": "execute_result"
    }
   ],
   "source": [
    "y_train"
   ]
  },
  {
   "cell_type": "code",
   "execution_count": 12,
   "metadata": {},
   "outputs": [],
   "source": [
    "# Import MinMaxScaler from sklearn\n",
    "from sklearn.preprocessing import MinMaxScaler\n",
    "\n",
    "x_train_scaler = MinMaxScaler()\n",
    "y_train_scaler = MinMaxScaler()\n",
    "\n",
    "x_train_scaler.fit(X_train)\n",
    "y_train_scaler.fit(y_train)\n",
    "\n",
    "X_train = x_train_scaler.transform(X_train)\n",
    "y_train = y_train_scaler.transform(y_train)\n",
    "\n",
    "X_test = x_train_scaler.transform(X_test)\n",
    "y_test = y_train_scaler.transform(y_test)"
   ]
  },
  {
   "cell_type": "code",
   "execution_count": 13,
   "metadata": {},
   "outputs": [],
   "source": [
    "X_train = X_train.reshape((X_train.shape[0], X_train.shape[1], 1))\n",
    "X_test = X_test.reshape((X_test.shape[0], X_test.shape[1], 1))"
   ]
  },
  {
   "cell_type": "code",
   "execution_count": 14,
   "metadata": {},
   "outputs": [],
   "source": [
    "from tensorflow.keras.models import Sequential\n",
    "from tensorflow.keras.layers import LSTM, Dense, Dropout"
   ]
  },
  {
   "cell_type": "code",
   "execution_count": 15,
   "metadata": {},
   "outputs": [],
   "source": [
    "model = Sequential()\n",
    "\n",
    "number_units = window_size\n",
    "dropout_fraction = 0.2\n",
    "\n",
    "# Layer 1\n",
    "model.add(LSTM(units = number_units, return_sequences = True, input_shape= (X_train.shape[1], 1)))\n",
    "model.add(Dropout(dropout_fraction))\n",
    "\n",
    "# Layer 2\n",
    "model.add(LSTM(units = number_units, return_sequences = True))\n",
    "model.add(Dropout(dropout_fraction))\n",
    "\n",
    "# Layer 3\n",
    "model.add(LSTM(units = number_units))\n",
    "model.add(Dropout(dropout_fraction))\n",
    "\n",
    "# Output Layer\n",
    "model.add(Dense(1))"
   ]
  },
  {
   "cell_type": "code",
   "execution_count": 16,
   "metadata": {},
   "outputs": [
    {
     "name": "stdout",
     "output_type": "stream",
     "text": [
      "Model: \"sequential\"\n",
      "_________________________________________________________________\n",
      "Layer (type)                 Output Shape              Param #   \n",
      "=================================================================\n",
      "lstm (LSTM)                  (None, 100, 100)          40800     \n",
      "_________________________________________________________________\n",
      "dropout (Dropout)            (None, 100, 100)          0         \n",
      "_________________________________________________________________\n",
      "lstm_1 (LSTM)                (None, 100, 100)          80400     \n",
      "_________________________________________________________________\n",
      "dropout_1 (Dropout)          (None, 100, 100)          0         \n",
      "_________________________________________________________________\n",
      "lstm_2 (LSTM)                (None, 100)               80400     \n",
      "_________________________________________________________________\n",
      "dropout_2 (Dropout)          (None, 100)               0         \n",
      "_________________________________________________________________\n",
      "dense (Dense)                (None, 1)                 101       \n",
      "=================================================================\n",
      "Total params: 201,701\n",
      "Trainable params: 201,701\n",
      "Non-trainable params: 0\n",
      "_________________________________________________________________\n"
     ]
    }
   ],
   "source": [
    "model.compile(optimizer='adam', loss='mean_squared_error')\n",
    "model.summary()"
   ]
  },
  {
   "cell_type": "code",
   "execution_count": 17,
   "metadata": {},
   "outputs": [
    {
     "name": "stdout",
     "output_type": "stream",
     "text": [
      "Epoch 1/20\n",
      "15/15 [==============================] - 10s 311ms/step - loss: 0.0102\n",
      "Epoch 2/20\n",
      "15/15 [==============================] - 5s 365ms/step - loss: 0.0081\n",
      "Epoch 3/20\n",
      "15/15 [==============================] - 6s 354ms/step - loss: 0.0123\n",
      "Epoch 4/20\n",
      "15/15 [==============================] - 5s 327ms/step - loss: 0.0049\n",
      "Epoch 5/20\n",
      "15/15 [==============================] - 5s 353ms/step - loss: 0.0176\n",
      "Epoch 6/20\n",
      "15/15 [==============================] - 5s 340ms/step - loss: 0.0503\n",
      "Epoch 7/20\n",
      "15/15 [==============================] - 7s 476ms/step - loss: 0.0694\n",
      "Epoch 8/20\n",
      "15/15 [==============================] - 10s 645ms/step - loss: 0.0322\n",
      "Epoch 9/20\n",
      "15/15 [==============================] - 14s 965ms/step - loss: 0.0069\n",
      "Epoch 10/20\n",
      "15/15 [==============================] - 12s 803ms/step - loss: 0.0036\n",
      "Epoch 11/20\n",
      "15/15 [==============================] - 13s 854ms/step - loss: 0.0046\n",
      "Epoch 12/20\n",
      "15/15 [==============================] - 12s 816ms/step - loss: 0.0018\n",
      "Epoch 13/20\n",
      "15/15 [==============================] - 13s 853ms/step - loss: 0.0018\n",
      "Epoch 14/20\n",
      "15/15 [==============================] - 17s 1s/step - loss: 0.0016\n",
      "Epoch 15/20\n",
      "15/15 [==============================] - 14s 914ms/step - loss: 0.0016\n",
      "Epoch 16/20\n",
      "15/15 [==============================] - 11s 762ms/step - loss: 0.0019\n",
      "Epoch 17/20\n",
      "15/15 [==============================] - 11s 736ms/step - loss: 0.0017\n",
      "Epoch 18/20\n",
      "15/15 [==============================] - 14s 910ms/step - loss: 0.0018\n",
      "Epoch 19/20\n",
      "15/15 [==============================] - 14s 972ms/step - loss: 0.0019\n",
      "Epoch 20/20\n",
      "15/15 [==============================] - 16s 1s/step - loss: 0.0017\n"
     ]
    },
    {
     "data": {
      "text/plain": [
       "<tensorflow.python.keras.callbacks.History at 0x2a93a215c40>"
      ]
     },
     "execution_count": 17,
     "metadata": {},
     "output_type": "execute_result"
    }
   ],
   "source": [
    "model.fit(X_train, y_train, epochs=20, shuffle=False, batch_size=100, verbose=1)"
   ]
  },
  {
   "cell_type": "code",
   "execution_count": 18,
   "metadata": {},
   "outputs": [
    {
     "data": {
      "text/plain": [
       "0.008289593271911144"
      ]
     },
     "execution_count": 18,
     "metadata": {},
     "output_type": "execute_result"
    }
   ],
   "source": [
    "model.evaluate(X_test, y_test, verbose=0)"
   ]
  },
  {
   "cell_type": "code",
   "execution_count": 19,
   "metadata": {},
   "outputs": [],
   "source": [
    "predicted = model.predict(X_test)"
   ]
  },
  {
   "cell_type": "code",
   "execution_count": 20,
   "metadata": {},
   "outputs": [],
   "source": [
    "predicted_prices = y_train_scaler.inverse_transform(predicted)"
   ]
  },
  {
   "cell_type": "code",
   "execution_count": 21,
   "metadata": {},
   "outputs": [],
   "source": [
    "real_prices = y_train_scaler.inverse_transform(y_test.reshape(-1,1))"
   ]
  },
  {
   "cell_type": "code",
   "execution_count": 22,
   "metadata": {},
   "outputs": [
    {
     "data": {
      "text/html": [
       "<div>\n",
       "<style scoped>\n",
       "    .dataframe tbody tr th:only-of-type {\n",
       "        vertical-align: middle;\n",
       "    }\n",
       "\n",
       "    .dataframe tbody tr th {\n",
       "        vertical-align: top;\n",
       "    }\n",
       "\n",
       "    .dataframe thead th {\n",
       "        text-align: right;\n",
       "    }\n",
       "</style>\n",
       "<table border=\"1\" class=\"dataframe\">\n",
       "  <thead>\n",
       "    <tr style=\"text-align: right;\">\n",
       "      <th></th>\n",
       "      <th>Actual</th>\n",
       "      <th>Predicted</th>\n",
       "    </tr>\n",
       "    <tr>\n",
       "      <th>Date</th>\n",
       "      <th></th>\n",
       "      <th></th>\n",
       "    </tr>\n",
       "  </thead>\n",
       "  <tbody>\n",
       "    <tr>\n",
       "      <th>2017-10-04</th>\n",
       "      <td>81.099998</td>\n",
       "      <td>78.560959</td>\n",
       "    </tr>\n",
       "    <tr>\n",
       "      <th>2017-10-05</th>\n",
       "      <td>81.449997</td>\n",
       "      <td>78.913551</td>\n",
       "    </tr>\n",
       "    <tr>\n",
       "      <th>2017-10-06</th>\n",
       "      <td>81.919998</td>\n",
       "      <td>79.264542</td>\n",
       "    </tr>\n",
       "    <tr>\n",
       "      <th>2017-10-09</th>\n",
       "      <td>81.970001</td>\n",
       "      <td>79.618462</td>\n",
       "    </tr>\n",
       "    <tr>\n",
       "      <th>2017-10-10</th>\n",
       "      <td>82.209999</td>\n",
       "      <td>79.968201</td>\n",
       "    </tr>\n",
       "  </tbody>\n",
       "</table>\n",
       "</div>"
      ],
      "text/plain": [
       "               Actual  Predicted\n",
       "Date                            \n",
       "2017-10-04  81.099998  78.560959\n",
       "2017-10-05  81.449997  78.913551\n",
       "2017-10-06  81.919998  79.264542\n",
       "2017-10-09  81.970001  79.618462\n",
       "2017-10-10  82.209999  79.968201"
      ]
     },
     "execution_count": 22,
     "metadata": {},
     "output_type": "execute_result"
    }
   ],
   "source": [
    "XAR_actual_predicted = pd.DataFrame({\n",
    "    \"Actual\": real_prices.ravel(),\n",
    "    \"Predicted\": predicted_prices.ravel()\n",
    "}, index = XAR_df.index[-len(real_prices): ])\n",
    "\n",
    "XAR_actual_predicted.head()"
   ]
  },
  {
   "cell_type": "code",
   "execution_count": 23,
   "metadata": {},
   "outputs": [
    {
     "data": {
      "text/html": [
       "<div>\n",
       "<style scoped>\n",
       "    .dataframe tbody tr th:only-of-type {\n",
       "        vertical-align: middle;\n",
       "    }\n",
       "\n",
       "    .dataframe tbody tr th {\n",
       "        vertical-align: top;\n",
       "    }\n",
       "\n",
       "    .dataframe thead th {\n",
       "        text-align: right;\n",
       "    }\n",
       "</style>\n",
       "<table border=\"1\" class=\"dataframe\">\n",
       "  <thead>\n",
       "    <tr style=\"text-align: right;\">\n",
       "      <th></th>\n",
       "      <th>Actual</th>\n",
       "      <th>Predicted</th>\n",
       "    </tr>\n",
       "    <tr>\n",
       "      <th>Date</th>\n",
       "      <th></th>\n",
       "      <th></th>\n",
       "    </tr>\n",
       "  </thead>\n",
       "  <tbody>\n",
       "    <tr>\n",
       "      <th>2021-06-24</th>\n",
       "      <td>132.559998</td>\n",
       "      <td>123.837517</td>\n",
       "    </tr>\n",
       "    <tr>\n",
       "      <th>2021-06-25</th>\n",
       "      <td>133.850006</td>\n",
       "      <td>123.882217</td>\n",
       "    </tr>\n",
       "    <tr>\n",
       "      <th>2021-06-28</th>\n",
       "      <td>136.440002</td>\n",
       "      <td>123.940125</td>\n",
       "    </tr>\n",
       "    <tr>\n",
       "      <th>2021-06-29</th>\n",
       "      <td>134.210007</td>\n",
       "      <td>124.047287</td>\n",
       "    </tr>\n",
       "    <tr>\n",
       "      <th>2021-06-30</th>\n",
       "      <td>132.119995</td>\n",
       "      <td>124.166008</td>\n",
       "    </tr>\n",
       "  </tbody>\n",
       "</table>\n",
       "</div>"
      ],
      "text/plain": [
       "                Actual   Predicted\n",
       "Date                              \n",
       "2021-06-24  132.559998  123.837517\n",
       "2021-06-25  133.850006  123.882217\n",
       "2021-06-28  136.440002  123.940125\n",
       "2021-06-29  134.210007  124.047287\n",
       "2021-06-30  132.119995  124.166008"
      ]
     },
     "execution_count": 23,
     "metadata": {},
     "output_type": "execute_result"
    }
   ],
   "source": [
    "XAR_actual_predicted.tail()"
   ]
  },
  {
   "cell_type": "code",
   "execution_count": 31,
   "metadata": {},
   "outputs": [
    {
     "data": {
      "image/png": "[encoded data removed]",
      "text/plain": [
       "<Figure size 1440x720 with 1 Axes>"
      ]
     },
     "metadata": {
      "needs_background": "light"
     },
     "output_type": "display_data"
    }
   ],
   "source": [
    "XAR_actual_predicted.plot(figsize=(20,10))\n",
    "#plt.plot(BA_actual_predicted['Actual'], label='Boeing_Actual')\n",
    "#plt.plot(BA_actual_predicted['Predicted'], label='Boeing_Predictions')\n",
    "plt.title('Aero-Space Defense ETF Stock Price Actual and Predicted')\n",
    "plt.xlabel('Year')\n",
    "plt.ylabel('Stock Price per Share (in USD)')\n",
    "plt.legend(loc='best')\n",
    "plt.show()"
   ]
  },
  {
   "cell_type": "code",
   "execution_count": 28,
   "metadata": {},
   "outputs": [
    {
     "data": {
      "image/png": "[encoded data removed]",
      "text/plain": [
       "<Figure size 432x288 with 1 Axes>"
      ]
     },
     "metadata": {
      "needs_background": "light"
     },
     "output_type": "display_data"
    }
   ],
   "source": [
    "plt.scatter(XAR_actual_predicted['Actual'], XAR_actual_predicted['Predicted'], color= 'Darkblue')\n",
    "plt.title('Aero-Space Defense ETF Stock Price Actual and Predicted')\n",
    "plt.xlabel('Actual price')\n",
    "plt.ylabel('Predicted Price')\n",
    "plt.show()"
   ]
  },
  {
   "cell_type": "code",
   "execution_count": 29,
   "metadata": {},
   "outputs": [
    {
     "data": {
      "text/html": [
       "<div>\n",
       "<style scoped>\n",
       "    .dataframe tbody tr th:only-of-type {\n",
       "        vertical-align: middle;\n",
       "    }\n",
       "\n",
       "    .dataframe tbody tr th {\n",
       "        vertical-align: top;\n",
       "    }\n",
       "\n",
       "    .dataframe thead th {\n",
       "        text-align: right;\n",
       "    }\n",
       "</style>\n",
       "<table border=\"1\" class=\"dataframe\">\n",
       "  <thead>\n",
       "    <tr style=\"text-align: right;\">\n",
       "      <th></th>\n",
       "      <th>Actual</th>\n",
       "      <th>Predicted</th>\n",
       "    </tr>\n",
       "  </thead>\n",
       "  <tbody>\n",
       "    <tr>\n",
       "      <th>count</th>\n",
       "      <td>941.000000</td>\n",
       "      <td>941.000000</td>\n",
       "    </tr>\n",
       "    <tr>\n",
       "      <th>mean</th>\n",
       "      <td>97.692965</td>\n",
       "      <td>96.637688</td>\n",
       "    </tr>\n",
       "    <tr>\n",
       "      <th>std</th>\n",
       "      <td>14.687080</td>\n",
       "      <td>12.420221</td>\n",
       "    </tr>\n",
       "    <tr>\n",
       "      <th>min</th>\n",
       "      <td>63.480000</td>\n",
       "      <td>73.892342</td>\n",
       "    </tr>\n",
       "    <tr>\n",
       "      <th>25%</th>\n",
       "      <td>87.129997</td>\n",
       "      <td>87.740562</td>\n",
       "    </tr>\n",
       "    <tr>\n",
       "      <th>50%</th>\n",
       "      <td>92.800003</td>\n",
       "      <td>92.758545</td>\n",
       "    </tr>\n",
       "    <tr>\n",
       "      <th>75%</th>\n",
       "      <td>107.739998</td>\n",
       "      <td>106.261208</td>\n",
       "    </tr>\n",
       "    <tr>\n",
       "      <th>max</th>\n",
       "      <td>136.440002</td>\n",
       "      <td>124.166008</td>\n",
       "    </tr>\n",
       "  </tbody>\n",
       "</table>\n",
       "</div>"
      ],
      "text/plain": [
       "           Actual   Predicted\n",
       "count  941.000000  941.000000\n",
       "mean    97.692965   96.637688\n",
       "std     14.687080   12.420221\n",
       "min     63.480000   73.892342\n",
       "25%     87.129997   87.740562\n",
       "50%     92.800003   92.758545\n",
       "75%    107.739998  106.261208\n",
       "max    136.440002  124.166008"
      ]
     },
     "execution_count": 29,
     "metadata": {},
     "output_type": "execute_result"
    }
   ],
   "source": [
    "XAR_actual_predicted.describe()"
   ]
  },
  {
   "cell_type": "code",
   "execution_count": 32,
   "metadata": {},
   "outputs": [
    {
     "name": "stdout",
     "output_type": "stream",
     "text": [
      "The accuracy of the model is 101.09199347686607\n"
     ]
    }
   ],
   "source": [
    "x2 = XAR_actual_predicted['Actual'].mean()\n",
    "y2 = XAR_actual_predicted['Predicted'].mean()\n",
    "Accuracy = x2/y2*100\n",
    "print('The accuracy of the model is', Accuracy)"
   ]
  },
  {
   "cell_type": "code",
   "execution_count": 41,
   "metadata": {},
   "outputs": [
    {
     "name": "stdout",
     "output_type": "stream",
     "text": [
      "4.867383541701208\n"
     ]
    }
   ],
   "source": [
    "from sklearn.metrics import mean_squared_error\n",
    "from math import sqrt\n",
    "rmse = sqrt(mean_squared_error(XAR_actual_predicted['Actual'], XAR_actual_predicted['Predicted']))\n",
    "print(rmse)"
   ]
  },
  {
   "cell_type": "code",
   "execution_count": null,
   "metadata": {},
   "outputs": [],
   "source": []
  }
 ],
 "metadata": {
  "interpreter": {
   "hash": "4dba3cd8cacc6caf095be8f13e45c7df4062fd9036a4f6c7ca2cd1452bed8f3f"
  },
  "kernelspec": {
   "display_name": "Python 3",
   "language": "python",
   "name": "python3"
  },
  "language_info": {
   "codemirror_mode": {
    "name": "ipython",
    "version": 3
   },
   "file_extension": ".py",
   "mimetype": "text/x-python",
   "name": "python",
   "nbconvert_exporter": "python",
   "pygments_lexer": "ipython3",
   "version": "3.8.5"
  }
 },
 "nbformat": 4,
 "nbformat_minor": 4
}
