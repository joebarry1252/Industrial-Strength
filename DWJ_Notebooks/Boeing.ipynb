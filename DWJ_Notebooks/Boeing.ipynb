{
 "cells": [
  {
   "cell_type": "code",
   "execution_count": 1,
   "metadata": {},
   "outputs": [],
   "source": [
    "# Initial imports\n",
    "import os\n",
    "import numpy as np\n",
    "import pandas as pd\n",
    "import matplotlib.pyplot as plt\n",
    "import alpaca_trade_api as tradeapi\n",
    "from pathlib import Path\n",
    "import requests\n",
    "\n",
    "%matplotlib inline"
   ]
  },
  {
   "cell_type": "code",
   "execution_count": 2,
   "metadata": {},
   "outputs": [],
   "source": [
    "BA_csv = Path(\"ASD_Data/BA_DATA.csv\")"
   ]
  },
  {
   "cell_type": "code",
   "execution_count": 3,
   "metadata": {},
   "outputs": [],
   "source": [
    "BA_df = pd.read_csv(BA_csv, index_col='Date', infer_datetime_format=True, parse_dates=True)"
   ]
  },
  {
   "cell_type": "code",
   "execution_count": 4,
   "metadata": {},
   "outputs": [
    {
     "data": {
      "text/html": [
       "<div>\n",
       "<style scoped>\n",
       "    .dataframe tbody tr th:only-of-type {\n",
       "        vertical-align: middle;\n",
       "    }\n",
       "\n",
       "    .dataframe tbody tr th {\n",
       "        vertical-align: top;\n",
       "    }\n",
       "\n",
       "    .dataframe thead th {\n",
       "        text-align: right;\n",
       "    }\n",
       "</style>\n",
       "<table border=\"1\" class=\"dataframe\">\n",
       "  <thead>\n",
       "    <tr style=\"text-align: right;\">\n",
       "      <th></th>\n",
       "      <th>Open</th>\n",
       "      <th>High</th>\n",
       "      <th>Low</th>\n",
       "      <th>Close</th>\n",
       "      <th>Adj Close</th>\n",
       "      <th>Volume</th>\n",
       "    </tr>\n",
       "    <tr>\n",
       "      <th>Date</th>\n",
       "      <th></th>\n",
       "      <th></th>\n",
       "      <th></th>\n",
       "      <th></th>\n",
       "      <th></th>\n",
       "      <th></th>\n",
       "    </tr>\n",
       "  </thead>\n",
       "  <tbody>\n",
       "    <tr>\n",
       "      <th>2011-06-30</th>\n",
       "      <td>73.000000</td>\n",
       "      <td>74.099998</td>\n",
       "      <td>72.900002</td>\n",
       "      <td>73.930000</td>\n",
       "      <td>59.705540</td>\n",
       "      <td>4245300</td>\n",
       "    </tr>\n",
       "    <tr>\n",
       "      <th>2011-07-01</th>\n",
       "      <td>73.809998</td>\n",
       "      <td>74.730003</td>\n",
       "      <td>73.800003</td>\n",
       "      <td>74.269997</td>\n",
       "      <td>59.980122</td>\n",
       "      <td>3647800</td>\n",
       "    </tr>\n",
       "    <tr>\n",
       "      <th>2011-07-05</th>\n",
       "      <td>74.169998</td>\n",
       "      <td>74.730003</td>\n",
       "      <td>73.849998</td>\n",
       "      <td>74.150002</td>\n",
       "      <td>59.883221</td>\n",
       "      <td>3130300</td>\n",
       "    </tr>\n",
       "    <tr>\n",
       "      <th>2011-07-06</th>\n",
       "      <td>74.129997</td>\n",
       "      <td>75.160004</td>\n",
       "      <td>74.010002</td>\n",
       "      <td>74.739998</td>\n",
       "      <td>60.359699</td>\n",
       "      <td>3757800</td>\n",
       "    </tr>\n",
       "    <tr>\n",
       "      <th>2011-07-07</th>\n",
       "      <td>75.330002</td>\n",
       "      <td>76.199997</td>\n",
       "      <td>74.849998</td>\n",
       "      <td>75.989998</td>\n",
       "      <td>61.369186</td>\n",
       "      <td>4976900</td>\n",
       "    </tr>\n",
       "  </tbody>\n",
       "</table>\n",
       "</div>"
      ],
      "text/plain": [
       "                 Open       High        Low      Close  Adj Close   Volume\n",
       "Date                                                                      \n",
       "2011-06-30  73.000000  74.099998  72.900002  73.930000  59.705540  4245300\n",
       "2011-07-01  73.809998  74.730003  73.800003  74.269997  59.980122  3647800\n",
       "2011-07-05  74.169998  74.730003  73.849998  74.150002  59.883221  3130300\n",
       "2011-07-06  74.129997  75.160004  74.010002  74.739998  60.359699  3757800\n",
       "2011-07-07  75.330002  76.199997  74.849998  75.989998  61.369186  4976900"
      ]
     },
     "execution_count": 4,
     "metadata": {},
     "output_type": "execute_result"
    }
   ],
   "source": [
    "BA_df.head()"
   ]
  },
  {
   "cell_type": "code",
   "execution_count": 5,
   "metadata": {},
   "outputs": [],
   "source": [
    "BA_df.sort_index(ascending=True, inplace=True)"
   ]
  },
  {
   "cell_type": "code",
   "execution_count": 6,
   "metadata": {},
   "outputs": [
    {
     "data": {
      "text/html": [
       "<div>\n",
       "<style scoped>\n",
       "    .dataframe tbody tr th:only-of-type {\n",
       "        vertical-align: middle;\n",
       "    }\n",
       "\n",
       "    .dataframe tbody tr th {\n",
       "        vertical-align: top;\n",
       "    }\n",
       "\n",
       "    .dataframe thead th {\n",
       "        text-align: right;\n",
       "    }\n",
       "</style>\n",
       "<table border=\"1\" class=\"dataframe\">\n",
       "  <thead>\n",
       "    <tr style=\"text-align: right;\">\n",
       "      <th></th>\n",
       "      <th>Close</th>\n",
       "    </tr>\n",
       "    <tr>\n",
       "      <th>Date</th>\n",
       "      <th></th>\n",
       "    </tr>\n",
       "  </thead>\n",
       "  <tbody>\n",
       "    <tr>\n",
       "      <th>2011-06-30</th>\n",
       "      <td>73.930000</td>\n",
       "    </tr>\n",
       "    <tr>\n",
       "      <th>2011-07-01</th>\n",
       "      <td>74.269997</td>\n",
       "    </tr>\n",
       "    <tr>\n",
       "      <th>2011-07-05</th>\n",
       "      <td>74.150002</td>\n",
       "    </tr>\n",
       "    <tr>\n",
       "      <th>2011-07-06</th>\n",
       "      <td>74.739998</td>\n",
       "    </tr>\n",
       "    <tr>\n",
       "      <th>2011-07-07</th>\n",
       "      <td>75.989998</td>\n",
       "    </tr>\n",
       "    <tr>\n",
       "      <th>...</th>\n",
       "      <td>...</td>\n",
       "    </tr>\n",
       "    <tr>\n",
       "      <th>2021-06-24</th>\n",
       "      <td>250.570007</td>\n",
       "    </tr>\n",
       "    <tr>\n",
       "      <th>2021-06-25</th>\n",
       "      <td>248.380005</td>\n",
       "    </tr>\n",
       "    <tr>\n",
       "      <th>2021-06-28</th>\n",
       "      <td>239.960007</td>\n",
       "    </tr>\n",
       "    <tr>\n",
       "      <th>2021-06-29</th>\n",
       "      <td>235.759995</td>\n",
       "    </tr>\n",
       "    <tr>\n",
       "      <th>2021-06-30</th>\n",
       "      <td>239.559998</td>\n",
       "    </tr>\n",
       "  </tbody>\n",
       "</table>\n",
       "<p>2517 rows × 1 columns</p>\n",
       "</div>"
      ],
      "text/plain": [
       "                 Close\n",
       "Date                  \n",
       "2011-06-30   73.930000\n",
       "2011-07-01   74.269997\n",
       "2011-07-05   74.150002\n",
       "2011-07-06   74.739998\n",
       "2011-07-07   75.989998\n",
       "...                ...\n",
       "2021-06-24  250.570007\n",
       "2021-06-25  248.380005\n",
       "2021-06-28  239.960007\n",
       "2021-06-29  235.759995\n",
       "2021-06-30  239.559998\n",
       "\n",
       "[2517 rows x 1 columns]"
      ]
     },
     "execution_count": 6,
     "metadata": {},
     "output_type": "execute_result"
    }
   ],
   "source": [
    "BA_df = BA_df.rename(columns={'Close': 'Close'})\n",
    "BA_df = BA_df[['Close']]\n",
    "BA_df"
   ]
  },
  {
   "cell_type": "code",
   "execution_count": 7,
   "metadata": {},
   "outputs": [],
   "source": [
    "def window_data(df, window, feature_col_number, target_col_number):\n",
    "    X = []\n",
    "    y = []\n",
    "    for i in range(len(df) - window-1):\n",
    "        features = df.iloc[i : (i+window), feature_col_number]\n",
    "        target = df.iloc[(i + window), target_col_number]\n",
    "        X.append(features)\n",
    "        y.append(target)\n",
    "    return np.array(X), np.array(y).reshape(-1, 1)"
   ]
  },
  {
   "cell_type": "code",
   "execution_count": 8,
   "metadata": {},
   "outputs": [
    {
     "name": "stdout",
     "output_type": "stream",
     "text": [
      "X sample values:\n",
      "[[73.93     74.269997 74.150002 74.739998 75.989998 75.07     73.349998\n",
      "  71.93     72.169998 71.190002 71.279999 69.550003 70.529999 72.07\n",
      "  72.889999 72.669998 71.309998 70.160004 70.629997 70.660004 70.470001\n",
      "  70.330002 67.699997 67.339996 63.09     62.75     58.709999 62.34\n",
      "  57.41     58.849998 61.75     62.700001 62.23     62.18     58.93\n",
      "  57.540001 58.380001 60.77     61.689999 61.099998 62.799999 64.599998\n",
      "  66.029999 66.860001 66.050003 64.029999 62.77     64.900002 62.810001\n",
      "  61.790001 62.389999 62.849998 63.029999 64.32     65.379997 64.150002\n",
      "  63.560001 61.02     58.720001 59.509998 62.009998 62.779999 61.919998\n",
      "  62.369999 60.509998 58.25     59.139999 59.959999 61.48     61.810001\n",
      "  64.029999 63.970001 64.32     63.529999 63.889999 61.779999 63.470001\n",
      "  63.110001 62.490002 64.589996 64.75     63.720001 66.559998 67.489998\n",
      "  68.169998 65.790001 63.169998 64.400002 66.190002 65.800003 66.290001\n",
      "  66.650002 64.550003 64.830002 66.919998 67.940002 67.940002 66.339996\n",
      "  66.089996 67.459999]\n",
      " [74.269997 74.150002 74.739998 75.989998 75.07     73.349998 71.93\n",
      "  72.169998 71.190002 71.279999 69.550003 70.529999 72.07     72.889999\n",
      "  72.669998 71.309998 70.160004 70.629997 70.660004 70.470001 70.330002\n",
      "  67.699997 67.339996 63.09     62.75     58.709999 62.34     57.41\n",
      "  58.849998 61.75     62.700001 62.23     62.18     58.93     57.540001\n",
      "  58.380001 60.77     61.689999 61.099998 62.799999 64.599998 66.029999\n",
      "  66.860001 66.050003 64.029999 62.77     64.900002 62.810001 61.790001\n",
      "  62.389999 62.849998 63.029999 64.32     65.379997 64.150002 63.560001\n",
      "  61.02     58.720001 59.509998 62.009998 62.779999 61.919998 62.369999\n",
      "  60.509998 58.25     59.139999 59.959999 61.48     61.810001 64.029999\n",
      "  63.970001 64.32     63.529999 63.889999 61.779999 63.470001 63.110001\n",
      "  62.490002 64.589996 64.75     63.720001 66.559998 67.489998 68.169998\n",
      "  65.790001 63.169998 64.400002 66.190002 65.800003 66.290001 66.650002\n",
      "  64.550003 64.830002 66.919998 67.940002 67.940002 66.339996 66.089996\n",
      "  67.459999 65.559998]\n",
      " [74.150002 74.739998 75.989998 75.07     73.349998 71.93     72.169998\n",
      "  71.190002 71.279999 69.550003 70.529999 72.07     72.889999 72.669998\n",
      "  71.309998 70.160004 70.629997 70.660004 70.470001 70.330002 67.699997\n",
      "  67.339996 63.09     62.75     58.709999 62.34     57.41     58.849998\n",
      "  61.75     62.700001 62.23     62.18     58.93     57.540001 58.380001\n",
      "  60.77     61.689999 61.099998 62.799999 64.599998 66.029999 66.860001\n",
      "  66.050003 64.029999 62.77     64.900002 62.810001 61.790001 62.389999\n",
      "  62.849998 63.029999 64.32     65.379997 64.150002 63.560001 61.02\n",
      "  58.720001 59.509998 62.009998 62.779999 61.919998 62.369999 60.509998\n",
      "  58.25     59.139999 59.959999 61.48     61.810001 64.029999 63.970001\n",
      "  64.32     63.529999 63.889999 61.779999 63.470001 63.110001 62.490002\n",
      "  64.589996 64.75     63.720001 66.559998 67.489998 68.169998 65.790001\n",
      "  63.169998 64.400002 66.190002 65.800003 66.290001 66.650002 64.550003\n",
      "  64.830002 66.919998 67.940002 67.940002 66.339996 66.089996 67.459999\n",
      "  65.559998 64.349998]] \n",
      "\n",
      "y sample values:\n",
      "[[65.559998]\n",
      " [64.349998]\n",
      " [62.360001]]\n"
     ]
    }
   ],
   "source": [
    "window_size = 100\n",
    "feature_column = 0\n",
    "target_column = 0\n",
    "\n",
    "X, y = window_data(BA_df, window_size, feature_column, target_column)\n",
    "\n",
    "print(f\"X sample values:\\n{X[:3]} \\n\")\n",
    "print(f\"y sample values:\\n{y[:3]}\")"
   ]
  },
  {
   "cell_type": "code",
   "execution_count": 9,
   "metadata": {},
   "outputs": [],
   "source": [
    "split = int(0.6 * len(X))\n",
    "\n",
    "X_train = X[: split]\n",
    "X_test = X[split:]\n",
    "\n",
    "y_train = y[: split]\n",
    "y_test = y[split:]"
   ]
  },
  {
   "cell_type": "code",
   "execution_count": 10,
   "metadata": {},
   "outputs": [
    {
     "data": {
      "text/plain": [
       "array([[ 65.559998],\n",
       "       [ 64.349998],\n",
       "       [ 62.360001],\n",
       "       ...,\n",
       "       [239.75    ],\n",
       "       [238.089996],\n",
       "       [238.740005]])"
      ]
     },
     "execution_count": 10,
     "metadata": {},
     "output_type": "execute_result"
    }
   ],
   "source": [
    "y_train"
   ]
  },
  {
   "cell_type": "code",
   "execution_count": 11,
   "metadata": {},
   "outputs": [],
   "source": [
    "# Import MinMaxScaler from sklearn\n",
    "from sklearn.preprocessing import MinMaxScaler\n",
    "\n",
    "x_train_scaler = MinMaxScaler()\n",
    "y_train_scaler = MinMaxScaler()\n",
    "\n",
    "x_train_scaler.fit(X_train)\n",
    "y_train_scaler.fit(y_train)\n",
    "\n",
    "X_train = x_train_scaler.transform(X_train)\n",
    "y_train = y_train_scaler.transform(y_train)\n",
    "\n",
    "X_test = x_train_scaler.transform(X_test)\n",
    "y_test = y_train_scaler.transform(y_test)"
   ]
  },
  {
   "cell_type": "code",
   "execution_count": 12,
   "metadata": {},
   "outputs": [],
   "source": [
    "X_train = X_train.reshape((X_train.shape[0], X_train.shape[1], 1))\n",
    "X_test = X_test.reshape((X_test.shape[0], X_test.shape[1], 1))"
   ]
  },
  {
   "cell_type": "code",
   "execution_count": 13,
   "metadata": {},
   "outputs": [],
   "source": [
    "from tensorflow.keras.models import Sequential\n",
    "from tensorflow.keras.layers import LSTM, Dense, Dropout"
   ]
  },
  {
   "cell_type": "code",
   "execution_count": 14,
   "metadata": {},
   "outputs": [],
   "source": [
    "model = Sequential()\n",
    "\n",
    "number_units = window_size\n",
    "dropout_fraction = 0.2\n",
    "\n",
    "# Layer 1\n",
    "model.add(LSTM(\n",
    "    units = number_units,\n",
    "    return_sequences = True,\n",
    "    input_shape= (X_train.shape[1], 1))\n",
    "    )\n",
    "model.add(Dropout(dropout_fraction))\n",
    "\n",
    "# Layer 2\n",
    "model.add(LSTM(\n",
    "    units = number_units,\n",
    "    return_sequences = True\n",
    "    ))\n",
    "model.add(Dropout(dropout_fraction))\n",
    "\n",
    "# Layer 3\n",
    "model.add(LSTM(\n",
    "    units = number_units\n",
    "    ))\n",
    "model.add(Dropout(dropout_fraction))\n",
    "\n",
    "# Output Layer\n",
    "model.add(Dense(1))"
   ]
  },
  {
   "cell_type": "code",
   "execution_count": 15,
   "metadata": {},
   "outputs": [
    {
     "name": "stdout",
     "output_type": "stream",
     "text": [
      "Model: \"sequential\"\n",
      "_________________________________________________________________\n",
      "Layer (type)                 Output Shape              Param #   \n",
      "=================================================================\n",
      "lstm (LSTM)                  (None, 100, 100)          40800     \n",
      "_________________________________________________________________\n",
      "dropout (Dropout)            (None, 100, 100)          0         \n",
      "_________________________________________________________________\n",
      "lstm_1 (LSTM)                (None, 100, 100)          80400     \n",
      "_________________________________________________________________\n",
      "dropout_1 (Dropout)          (None, 100, 100)          0         \n",
      "_________________________________________________________________\n",
      "lstm_2 (LSTM)                (None, 100)               80400     \n",
      "_________________________________________________________________\n",
      "dropout_2 (Dropout)          (None, 100)               0         \n",
      "_________________________________________________________________\n",
      "dense (Dense)                (None, 1)                 101       \n",
      "=================================================================\n",
      "Total params: 201,701\n",
      "Trainable params: 201,701\n",
      "Non-trainable params: 0\n",
      "_________________________________________________________________\n"
     ]
    }
   ],
   "source": [
    "model.compile(optimizer='adam', loss='mean_squared_error')\n",
    "model.summary()"
   ]
  },
  {
   "cell_type": "code",
   "execution_count": 16,
   "metadata": {},
   "outputs": [
    {
     "name": "stdout",
     "output_type": "stream",
     "text": [
      "Epoch 1/20\n",
      "15/15 [==============================] - 9s 328ms/step - loss: 0.0065\n",
      "Epoch 2/20\n",
      "15/15 [==============================] - 5s 356ms/step - loss: 0.0256\n",
      "Epoch 3/20\n",
      "15/15 [==============================] - 5s 336ms/step - loss: 0.0056\n",
      "Epoch 4/20\n",
      "15/15 [==============================] - 5s 328ms/step - loss: 0.0093\n",
      "Epoch 5/20\n",
      "15/15 [==============================] - 5s 336ms/step - loss: 0.0217\n",
      "Epoch 6/20\n",
      "15/15 [==============================] - 5s 340ms/step - loss: 0.0087\n",
      "Epoch 7/20\n",
      "15/15 [==============================] - 6s 426ms/step - loss: 0.0094\n",
      "Epoch 8/20\n",
      "15/15 [==============================] - 8s 518ms/step - loss: 0.0031\n",
      "Epoch 9/20\n",
      "15/15 [==============================] - 9s 583ms/step - loss: 0.0028\n",
      "Epoch 10/20\n",
      "15/15 [==============================] - 8s 553ms/step - loss: 0.0017\n",
      "Epoch 11/20\n",
      "15/15 [==============================] - 9s 620ms/step - loss: 0.0018\n",
      "Epoch 12/20\n",
      "15/15 [==============================] - 9s 594ms/step - loss: 0.0015\n",
      "Epoch 13/20\n",
      "15/15 [==============================] - 8s 557ms/step - loss: 0.0015\n",
      "Epoch 14/20\n",
      "15/15 [==============================] - 9s 588ms/step - loss: 0.0013\n",
      "Epoch 15/20\n",
      "15/15 [==============================] - 8s 554ms/step - loss: 0.0014\n",
      "Epoch 16/20\n",
      "15/15 [==============================] - 9s 577ms/step - loss: 0.0014\n",
      "Epoch 17/20\n",
      "15/15 [==============================] - 9s 621ms/step - loss: 0.0012\n",
      "Epoch 18/20\n",
      "15/15 [==============================] - 9s 613ms/step - loss: 0.0012\n",
      "Epoch 19/20\n",
      "15/15 [==============================] - 9s 608ms/step - loss: 0.0013\n",
      "Epoch 20/20\n",
      "15/15 [==============================] - 9s 601ms/step - loss: 0.0013\n"
     ]
    },
    {
     "data": {
      "text/plain": [
       "<tensorflow.python.keras.callbacks.History at 0x2287e62db20>"
      ]
     },
     "execution_count": 16,
     "metadata": {},
     "output_type": "execute_result"
    }
   ],
   "source": [
    "model.fit(X_train, y_train, epochs=20, shuffle=False, batch_size=100, verbose=1)"
   ]
  },
  {
   "cell_type": "code",
   "execution_count": 17,
   "metadata": {},
   "outputs": [
    {
     "data": {
      "text/plain": [
       "0.022812895476818085"
      ]
     },
     "execution_count": 17,
     "metadata": {},
     "output_type": "execute_result"
    }
   ],
   "source": [
    "model.evaluate(X_test, y_test, verbose=0)"
   ]
  },
  {
   "cell_type": "code",
   "execution_count": 18,
   "metadata": {},
   "outputs": [],
   "source": [
    "predicted = model.predict(X_test)"
   ]
  },
  {
   "cell_type": "code",
   "execution_count": 19,
   "metadata": {},
   "outputs": [],
   "source": [
    "predicted_prices = y_train_scaler.inverse_transform(predicted)"
   ]
  },
  {
   "cell_type": "code",
   "execution_count": 20,
   "metadata": {},
   "outputs": [],
   "source": [
    "real_prices = y_train_scaler.inverse_transform(y_test.reshape(-1,1))"
   ]
  },
  {
   "cell_type": "code",
   "execution_count": 21,
   "metadata": {},
   "outputs": [
    {
     "data": {
      "text/html": [
       "<div>\n",
       "<style scoped>\n",
       "    .dataframe tbody tr th:only-of-type {\n",
       "        vertical-align: middle;\n",
       "    }\n",
       "\n",
       "    .dataframe tbody tr th {\n",
       "        vertical-align: top;\n",
       "    }\n",
       "\n",
       "    .dataframe thead th {\n",
       "        text-align: right;\n",
       "    }\n",
       "</style>\n",
       "<table border=\"1\" class=\"dataframe\">\n",
       "  <thead>\n",
       "    <tr style=\"text-align: right;\">\n",
       "      <th></th>\n",
       "      <th>Actual</th>\n",
       "      <th>Predicted</th>\n",
       "    </tr>\n",
       "    <tr>\n",
       "      <th>Date</th>\n",
       "      <th></th>\n",
       "      <th></th>\n",
       "    </tr>\n",
       "  </thead>\n",
       "  <tbody>\n",
       "    <tr>\n",
       "      <th>2017-08-28</th>\n",
       "      <td>235.889999</td>\n",
       "      <td>246.267410</td>\n",
       "    </tr>\n",
       "    <tr>\n",
       "      <th>2017-08-29</th>\n",
       "      <td>237.179993</td>\n",
       "      <td>246.362732</td>\n",
       "    </tr>\n",
       "    <tr>\n",
       "      <th>2017-08-30</th>\n",
       "      <td>240.490005</td>\n",
       "      <td>246.429871</td>\n",
       "    </tr>\n",
       "    <tr>\n",
       "      <th>2017-08-31</th>\n",
       "      <td>240.460007</td>\n",
       "      <td>246.558945</td>\n",
       "    </tr>\n",
       "    <tr>\n",
       "      <th>2017-09-01</th>\n",
       "      <td>239.660004</td>\n",
       "      <td>246.767136</td>\n",
       "    </tr>\n",
       "  </tbody>\n",
       "</table>\n",
       "</div>"
      ],
      "text/plain": [
       "                Actual   Predicted\n",
       "Date                              \n",
       "2017-08-28  235.889999  246.267410\n",
       "2017-08-29  237.179993  246.362732\n",
       "2017-08-30  240.490005  246.429871\n",
       "2017-08-31  240.460007  246.558945\n",
       "2017-09-01  239.660004  246.767136"
      ]
     },
     "execution_count": 21,
     "metadata": {},
     "output_type": "execute_result"
    }
   ],
   "source": [
    "BA_actual_predicted = pd.DataFrame({\n",
    "    \"Actual\": real_prices.ravel(),\n",
    "    \"Predicted\": predicted_prices.ravel()\n",
    "}, index = BA_df.index[-len(real_prices): ])\n",
    "\n",
    "BA_actual_predicted.head()"
   ]
  },
  {
   "cell_type": "code",
   "execution_count": 22,
   "metadata": {},
   "outputs": [
    {
     "data": {
      "text/html": [
       "<div>\n",
       "<style scoped>\n",
       "    .dataframe tbody tr th:only-of-type {\n",
       "        vertical-align: middle;\n",
       "    }\n",
       "\n",
       "    .dataframe tbody tr th {\n",
       "        vertical-align: top;\n",
       "    }\n",
       "\n",
       "    .dataframe thead th {\n",
       "        text-align: right;\n",
       "    }\n",
       "</style>\n",
       "<table border=\"1\" class=\"dataframe\">\n",
       "  <thead>\n",
       "    <tr style=\"text-align: right;\">\n",
       "      <th></th>\n",
       "      <th>Actual</th>\n",
       "      <th>Predicted</th>\n",
       "    </tr>\n",
       "    <tr>\n",
       "      <th>Date</th>\n",
       "      <th></th>\n",
       "      <th></th>\n",
       "    </tr>\n",
       "  </thead>\n",
       "  <tbody>\n",
       "    <tr>\n",
       "      <th>2021-06-24</th>\n",
       "      <td>243.570007</td>\n",
       "      <td>256.629211</td>\n",
       "    </tr>\n",
       "    <tr>\n",
       "      <th>2021-06-25</th>\n",
       "      <td>250.570007</td>\n",
       "      <td>255.909119</td>\n",
       "    </tr>\n",
       "    <tr>\n",
       "      <th>2021-06-28</th>\n",
       "      <td>248.380005</td>\n",
       "      <td>255.489288</td>\n",
       "    </tr>\n",
       "    <tr>\n",
       "      <th>2021-06-29</th>\n",
       "      <td>239.960007</td>\n",
       "      <td>255.344498</td>\n",
       "    </tr>\n",
       "    <tr>\n",
       "      <th>2021-06-30</th>\n",
       "      <td>235.759995</td>\n",
       "      <td>255.206146</td>\n",
       "    </tr>\n",
       "  </tbody>\n",
       "</table>\n",
       "</div>"
      ],
      "text/plain": [
       "                Actual   Predicted\n",
       "Date                              \n",
       "2021-06-24  243.570007  256.629211\n",
       "2021-06-25  250.570007  255.909119\n",
       "2021-06-28  248.380005  255.489288\n",
       "2021-06-29  239.960007  255.344498\n",
       "2021-06-30  235.759995  255.206146"
      ]
     },
     "execution_count": 22,
     "metadata": {},
     "output_type": "execute_result"
    }
   ],
   "source": [
    "BA_actual_predicted.tail()"
   ]
  },
  {
   "cell_type": "code",
   "execution_count": 26,
   "metadata": {},
   "outputs": [
    {
     "data": {
      "image/png": "[encoded data removed]",
      "text/plain": [
       "<Figure size 1440x720 with 1 Axes>"
      ]
     },
     "metadata": {
      "needs_background": "light"
     },
     "output_type": "display_data"
    }
   ],
   "source": [
    "BA_actual_predicted.plot(figsize=(20,10))\n",
    "#plt.plot(BA_actual_predicted['Actual'], label='Boeing_Actual')\n",
    "#plt.plot(BA_actual_predicted['Predicted'], label='Boeing_Predictions')\n",
    "plt.title('Boeing Stock Price Actual and Predicted')\n",
    "plt.xlabel('Year')\n",
    "plt.ylabel('Stock Price per Share (in USD)')\n",
    "plt.legend(loc='best')\n",
    "plt.show()"
   ]
  },
  {
   "cell_type": "code",
   "execution_count": 64,
   "metadata": {},
   "outputs": [
    {
     "data": {
      "image/png": "[encoded data removed]",
      "text/plain": [
       "<Figure size 432x288 with 1 Axes>"
      ]
     },
     "metadata": {
      "needs_background": "light"
     },
     "output_type": "display_data"
    }
   ],
   "source": [
    "plt.scatter(BA_actual_predicted['Actual'], BA_actual_predicted['Predicted'], color= 'Darkblue')\n",
    "plt.title('Boeing Stock Price Actual and Predicted')\n",
    "plt.xlabel('Actual price')\n",
    "plt.ylabel('Predicted Price')\n",
    "plt.show()"
   ]
  },
  {
   "cell_type": "code",
   "execution_count": 65,
   "metadata": {},
   "outputs": [
    {
     "data": {
      "text/html": [
       "<div>\n",
       "<style scoped>\n",
       "    .dataframe tbody tr th:only-of-type {\n",
       "        vertical-align: middle;\n",
       "    }\n",
       "\n",
       "    .dataframe tbody tr th {\n",
       "        vertical-align: top;\n",
       "    }\n",
       "\n",
       "    .dataframe thead th {\n",
       "        text-align: right;\n",
       "    }\n",
       "</style>\n",
       "<table border=\"1\" class=\"dataframe\">\n",
       "  <thead>\n",
       "    <tr style=\"text-align: right;\">\n",
       "      <th></th>\n",
       "      <th>Actual</th>\n",
       "      <th>Predicted</th>\n",
       "    </tr>\n",
       "  </thead>\n",
       "  <tbody>\n",
       "    <tr>\n",
       "      <th>count</th>\n",
       "      <td>967.000000</td>\n",
       "      <td>967.000000</td>\n",
       "    </tr>\n",
       "    <tr>\n",
       "      <th>mean</th>\n",
       "      <td>289.677694</td>\n",
       "      <td>305.917664</td>\n",
       "    </tr>\n",
       "    <tr>\n",
       "      <th>std</th>\n",
       "      <td>79.863941</td>\n",
       "      <td>88.790573</td>\n",
       "    </tr>\n",
       "    <tr>\n",
       "      <th>min</th>\n",
       "      <td>95.010002</td>\n",
       "      <td>125.546913</td>\n",
       "    </tr>\n",
       "    <tr>\n",
       "      <th>25%</th>\n",
       "      <td>227.360001</td>\n",
       "      <td>234.777107</td>\n",
       "    </tr>\n",
       "    <tr>\n",
       "      <th>50%</th>\n",
       "      <td>327.000000</td>\n",
       "      <td>351.638855</td>\n",
       "    </tr>\n",
       "    <tr>\n",
       "      <th>75%</th>\n",
       "      <td>354.175003</td>\n",
       "      <td>378.048126</td>\n",
       "    </tr>\n",
       "    <tr>\n",
       "      <th>max</th>\n",
       "      <td>440.619995</td>\n",
       "      <td>452.772766</td>\n",
       "    </tr>\n",
       "  </tbody>\n",
       "</table>\n",
       "</div>"
      ],
      "text/plain": [
       "           Actual   Predicted\n",
       "count  967.000000  967.000000\n",
       "mean   289.677694  305.917664\n",
       "std     79.863941   88.790573\n",
       "min     95.010002  125.546913\n",
       "25%    227.360001  234.777107\n",
       "50%    327.000000  351.638855\n",
       "75%    354.175003  378.048126\n",
       "max    440.619995  452.772766"
      ]
     },
     "execution_count": 65,
     "metadata": {},
     "output_type": "execute_result"
    }
   ],
   "source": [
    "BA_actual_predicted.describe()"
   ]
  },
  {
   "cell_type": "code",
   "execution_count": 73,
   "metadata": {},
   "outputs": [
    {
     "name": "stdout",
     "output_type": "stream",
     "text": [
      "The accuracy of the model is 94.69139193039784\n"
     ]
    }
   ],
   "source": [
    "x2 = BA_actual_predicted['Actual'].mean()\n",
    "y2 = BA_actual_predicted['Predicted'].mean()\n",
    "Accuracy = x2/y2*100\n",
    "print('The accuracy of the model is', Accuracy)"
   ]
  },
  {
   "cell_type": "code",
   "execution_count": 74,
   "metadata": {},
   "outputs": [
    {
     "name": "stdout",
     "output_type": "stream",
     "text": [
      "27.202188275784152\n"
     ]
    }
   ],
   "source": [
    "from sklearn.metrics import mean_squared_error\n",
    "from math import sqrt\n",
    "rmse = sqrt(mean_squared_error(BA_actual_predicted['Actual'], BA_actual_predicted['Predicted']))\n",
    "print(rmse)"
   ]
  },
  {
   "cell_type": "code",
   "execution_count": null,
   "metadata": {},
   "outputs": [],
   "source": []
  }
 ],
 "metadata": {
  "interpreter": {
   "hash": "4dba3cd8cacc6caf095be8f13e45c7df4062fd9036a4f6c7ca2cd1452bed8f3f"
  },
  "kernelspec": {
   "display_name": "Python 3",
   "language": "python",
   "name": "python3"
  },
  "language_info": {
   "codemirror_mode": {
    "name": "ipython",
    "version": 3
   },
   "file_extension": ".py",
   "mimetype": "text/x-python",
   "name": "python",
   "nbconvert_exporter": "python",
   "pygments_lexer": "ipython3",
   "version": "3.8.5"
  }
 },
 "nbformat": 4,
 "nbformat_minor": 4
}
