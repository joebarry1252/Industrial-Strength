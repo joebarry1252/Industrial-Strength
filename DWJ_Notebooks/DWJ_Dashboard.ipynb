{
 "cells": [
  {
   "cell_type": "code",
   "execution_count": 1,
   "id": "11bf3abc",
   "metadata": {},
   "outputs": [],
   "source": [
    "import dash\n",
    "import dash_core_components as dcc\n",
    "import dash_html_components as html\n",
    "from dash.dependencies import Input, Output, State\n",
    "from stockstats import StockDataFrame as Sdf\n",
    "import dash_bootstrap_components as dbc\n",
    "import dash_table as dt\n",
    "import yahoo_fin.stock_info as yf\n",
    "import plotly.graph_objs as go\n",
    "from datetime import datetime, timedelta\n",
    "#import pickle\n",
    "import random"
   ]
  },
  {
   "cell_type": "code",
   "execution_count": 2,
   "id": "149ddad6",
   "metadata": {},
   "outputs": [],
   "source": [
    "# defining style color\n",
    "colors = {\"background\": \"#000000\", \"text\": \"#ffFFFF\"}"
   ]
  },
  {
   "cell_type": "code",
   "execution_count": 4,
   "id": "74b75d59",
   "metadata": {},
   "outputs": [],
   "source": [
    "#with open(\"tickers.pickle\", \"rb\") as f:\n",
    "#    ticker_list = pickle.load(f)\n",
    "    \n",
    "#external_stylesheets = [dbc.theamse.SLATE]"
   ]
  },
  {
   "cell_type": "code",
   "execution_count": null,
   "id": "33729f57",
   "metadata": {},
   "outputs": [],
   "source": [
    "# adding css\n",
    "\n",
    "app = dash.Dash()\n",
    "server = app.server\n",
    "app.layout = html.Div(\n",
    "    style={\"backgroundColor\": colors[\"background\"]},\n",
    "    children=[\n",
    "        html.Div(\n",
    "        )\n",
    "    ]\n",
    "\n",
    ")"
   ]
  }
 ],
 "metadata": {
  "kernelspec": {
   "display_name": "Python 3",
   "language": "python",
   "name": "python3"
  },
  "language_info": {
   "codemirror_mode": {
    "name": "ipython",
    "version": 3
   },
   "file_extension": ".py",
   "mimetype": "text/x-python",
   "name": "python",
   "nbconvert_exporter": "python",
   "pygments_lexer": "ipython3",
   "version": "3.8.5"
  }
 },
 "nbformat": 4,
 "nbformat_minor": 5
}
