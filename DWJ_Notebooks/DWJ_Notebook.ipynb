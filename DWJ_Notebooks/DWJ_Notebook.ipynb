{
 "cells": [
  {
   "cell_type": "code",
   "execution_count": null,
   "metadata": {},
   "outputs": [],
   "source": [
    "# Initial imports\n",
    "import os\n",
    "import pandas as pd \n",
    "from dotenv import load_dotenv\n",
    "import nltk as nltk\n",
    "nltk.download('vader_lexicon')\n",
    "from nltk.sentiment.vader import SentimentIntensityAnalyzer\n",
    "analyzer = SentimentIntensityAnalyzer()\n",
    "\n",
    "%matplotlib inline"
   ]
  },
  {
   "cell_type": "code",
   "execution_count": null,
   "metadata": {},
   "outputs": [],
   "source": [
    "# Read in api keys\n",
    "\n",
    "# Alpaca API for stock data \n",
    "alpaca_api_key = os.getenv(\"ALPACA_API_KEY\")\n",
    "alpaca_secret_key = os.getenv(\"ALPACA_SECRET_KEY\")\n",
    "tradeapi = tradeapi.REST(alpaca_api_key, alpaca_secret_key,api_version=\"v2\")\n",
    "\n",
    "# News API for articles \n",
    "from newsapi import NewsApiClient\n",
    "#load_dotenv()\n",
    "api_key = os.getenv(\"news_api\")\n",
    "newsapi = NewsApiClient(api_key=news_key)"
   ]
  },
  {
   "cell_type": "code",
   "execution_count": 2,
   "metadata": {},
   "outputs": [],
   "source": [
    "\n",
    "\n",
    "# Select the stocks to include in the investment portfolio \n",
    "tickers = [\"\"]\n",
    "# Retrieve the historical stock data by utilizing the Alpaca API \n",
    "# Set start and end dates between 1/1/2018 and now\n",
    "start_date = pd.Timestamp(\"2018-01-01\", tz=\"America/New_York\").isoformat()\n",
    "end_date = pd.Timestamp(\"2021-06-30\", tz=\"America/New_York\").isoformat()\n",
    "\n",
    "hist_returns = api.get_barset(\n",
    "    tickers, \n",
    "    timeframe,\n",
    "    start=start_date,\n",
    "    end=end_date,\n",
    "    limit=1000,\n",
    ").df\n",
    "\n",
    "hist_close = \n",
    "\n",
    "hist_daily_returns = hist_close.pct_change().dropna()"
   ]
  },
  {
   "cell_type": "code",
   "execution_count": null,
   "metadata": {},
   "outputs": [],
   "source": [
    "# Fetch the Aero-Defense Industrial Company news articles and articles specific to top 3 companies (Raytheon, Boeing, Lockheed-Martin) \n",
    "\n",
    "# Aero-Defense \n",
    "aerod_articles = newsapi.get_everything(q=\"aero-defense\", language=\"en\", page_size=100, sort_by=\"relevancy\")\n",
    "\n",
    "# Raytheon \n",
    "RT_articles = newsapi.get_everything(q=\"raytheon\", language=\"en\", page_size=100, sort_by=\"relevancy\")\n",
    "\n",
    "# Boeing\n",
    "b_articles = newsapi.get_everything(q=\"boeing\", language=\"en\", page_size=100, sort_by=\"relevancy\")\n",
    "\n",
    "# Lockheed-Martin\n",
    "LHM_articles = newsapi.get_everything(q=\"lockheed-martin\", language=\"en\", page_size=100, sort_by=\"relevancy\")"
   ]
  },
  {
   "cell_type": "code",
   "execution_count": null,
   "metadata": {},
   "outputs": [],
   "source": []
  }
 ],
 "metadata": {
  "interpreter": {
   "hash": "4dba3cd8cacc6caf095be8f13e45c7df4062fd9036a4f6c7ca2cd1452bed8f3f"
  },
  "kernelspec": {
   "display_name": "Python 3",
   "language": "python",
   "name": "python3"
  },
  "language_info": {
   "codemirror_mode": {
    "name": "ipython",
    "version": 3
   },
   "file_extension": ".py",
   "mimetype": "text/x-python",
   "name": "python",
   "nbconvert_exporter": "python",
   "pygments_lexer": "ipython3",
   "version": "3.7.9"
  }
 },
 "nbformat": 4,
 "nbformat_minor": 4
}
