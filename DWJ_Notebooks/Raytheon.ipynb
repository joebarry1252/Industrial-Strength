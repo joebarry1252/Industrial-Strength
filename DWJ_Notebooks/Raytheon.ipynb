{
 "cells": [
  {
   "cell_type": "code",
   "execution_count": 1,
   "metadata": {},
   "outputs": [],
   "source": [
    "# Initial imports\n",
    "import os\n",
    "import numpy as np\n",
    "import pandas as pd\n",
    "import matplotlib.pyplot as plt\n",
    "import alpaca_trade_api as tradeapi\n",
    "from pathlib import Path\n",
    "import requests\n",
    "\n",
    "%matplotlib inline"
   ]
  },
  {
   "cell_type": "code",
   "execution_count": 2,
   "metadata": {},
   "outputs": [],
   "source": [
    "RTX_csv = Path(\"../ASD_Data/RTX_DATA.csv\")"
   ]
  },
  {
   "cell_type": "code",
   "execution_count": 3,
   "metadata": {},
   "outputs": [],
   "source": [
    "RTX_df = pd.read_csv(RTX_csv, index_col='Date', infer_datetime_format=True, parse_dates=True)"
   ]
  },
  {
   "cell_type": "code",
   "execution_count": 4,
   "metadata": {},
   "outputs": [
    {
     "data": {
      "text/html": [
       "<div>\n",
       "<style scoped>\n",
       "    .dataframe tbody tr th:only-of-type {\n",
       "        vertical-align: middle;\n",
       "    }\n",
       "\n",
       "    .dataframe tbody tr th {\n",
       "        vertical-align: top;\n",
       "    }\n",
       "\n",
       "    .dataframe thead th {\n",
       "        text-align: right;\n",
       "    }\n",
       "</style>\n",
       "<table border=\"1\" class=\"dataframe\">\n",
       "  <thead>\n",
       "    <tr style=\"text-align: right;\">\n",
       "      <th></th>\n",
       "      <th>Open</th>\n",
       "      <th>High</th>\n",
       "      <th>Low</th>\n",
       "      <th>Close</th>\n",
       "      <th>Adj Close</th>\n",
       "      <th>Volume</th>\n",
       "    </tr>\n",
       "    <tr>\n",
       "      <th>Date</th>\n",
       "      <th></th>\n",
       "      <th></th>\n",
       "      <th></th>\n",
       "      <th></th>\n",
       "      <th></th>\n",
       "      <th></th>\n",
       "    </tr>\n",
       "  </thead>\n",
       "  <tbody>\n",
       "    <tr>\n",
       "      <th>2011-06-30</th>\n",
       "      <td>54.568913</td>\n",
       "      <td>56.419132</td>\n",
       "      <td>54.518566</td>\n",
       "      <td>55.701698</td>\n",
       "      <td>43.800762</td>\n",
       "      <td>7308606</td>\n",
       "    </tr>\n",
       "    <tr>\n",
       "      <th>2011-07-01</th>\n",
       "      <td>55.833858</td>\n",
       "      <td>56.972939</td>\n",
       "      <td>55.607300</td>\n",
       "      <td>56.721207</td>\n",
       "      <td>44.602436</td>\n",
       "      <td>7124599</td>\n",
       "    </tr>\n",
       "    <tr>\n",
       "      <th>2011-07-05</th>\n",
       "      <td>56.551289</td>\n",
       "      <td>56.998112</td>\n",
       "      <td>56.148521</td>\n",
       "      <td>56.331024</td>\n",
       "      <td>44.295628</td>\n",
       "      <td>6430524</td>\n",
       "    </tr>\n",
       "    <tr>\n",
       "      <th>2011-07-06</th>\n",
       "      <td>56.406544</td>\n",
       "      <td>57.023285</td>\n",
       "      <td>56.230335</td>\n",
       "      <td>56.903713</td>\n",
       "      <td>44.745949</td>\n",
       "      <td>6882754</td>\n",
       "    </tr>\n",
       "    <tr>\n",
       "      <th>2011-07-07</th>\n",
       "      <td>57.275017</td>\n",
       "      <td>57.791065</td>\n",
       "      <td>57.117683</td>\n",
       "      <td>57.514160</td>\n",
       "      <td>45.225967</td>\n",
       "      <td>10032469</td>\n",
       "    </tr>\n",
       "  </tbody>\n",
       "</table>\n",
       "</div>"
      ],
      "text/plain": [
       "                 Open       High        Low      Close  Adj Close    Volume\n",
       "Date                                                                       \n",
       "2011-06-30  54.568913  56.419132  54.518566  55.701698  43.800762   7308606\n",
       "2011-07-01  55.833858  56.972939  55.607300  56.721207  44.602436   7124599\n",
       "2011-07-05  56.551289  56.998112  56.148521  56.331024  44.295628   6430524\n",
       "2011-07-06  56.406544  57.023285  56.230335  56.903713  44.745949   6882754\n",
       "2011-07-07  57.275017  57.791065  57.117683  57.514160  45.225967  10032469"
      ]
     },
     "execution_count": 4,
     "metadata": {},
     "output_type": "execute_result"
    }
   ],
   "source": [
    "RTX_df.head()"
   ]
  },
  {
   "cell_type": "code",
   "execution_count": 5,
   "metadata": {},
   "outputs": [],
   "source": [
    "RTX_df.sort_index(ascending=True, inplace=True)"
   ]
  },
  {
   "cell_type": "code",
   "execution_count": 6,
   "metadata": {},
   "outputs": [
    {
     "data": {
      "text/html": [
       "<div>\n",
       "<style scoped>\n",
       "    .dataframe tbody tr th:only-of-type {\n",
       "        vertical-align: middle;\n",
       "    }\n",
       "\n",
       "    .dataframe tbody tr th {\n",
       "        vertical-align: top;\n",
       "    }\n",
       "\n",
       "    .dataframe thead th {\n",
       "        text-align: right;\n",
       "    }\n",
       "</style>\n",
       "<table border=\"1\" class=\"dataframe\">\n",
       "  <thead>\n",
       "    <tr style=\"text-align: right;\">\n",
       "      <th></th>\n",
       "      <th>Close</th>\n",
       "    </tr>\n",
       "    <tr>\n",
       "      <th>Date</th>\n",
       "      <th></th>\n",
       "    </tr>\n",
       "  </thead>\n",
       "  <tbody>\n",
       "    <tr>\n",
       "      <th>2011-06-30</th>\n",
       "      <td>55.701698</td>\n",
       "    </tr>\n",
       "    <tr>\n",
       "      <th>2011-07-01</th>\n",
       "      <td>56.721207</td>\n",
       "    </tr>\n",
       "    <tr>\n",
       "      <th>2011-07-05</th>\n",
       "      <td>56.331024</td>\n",
       "    </tr>\n",
       "    <tr>\n",
       "      <th>2011-07-06</th>\n",
       "      <td>56.903713</td>\n",
       "    </tr>\n",
       "    <tr>\n",
       "      <th>2011-07-07</th>\n",
       "      <td>57.514160</td>\n",
       "    </tr>\n",
       "    <tr>\n",
       "      <th>...</th>\n",
       "      <td>...</td>\n",
       "    </tr>\n",
       "    <tr>\n",
       "      <th>2021-06-24</th>\n",
       "      <td>86.849998</td>\n",
       "    </tr>\n",
       "    <tr>\n",
       "      <th>2021-06-25</th>\n",
       "      <td>86.720001</td>\n",
       "    </tr>\n",
       "    <tr>\n",
       "      <th>2021-06-28</th>\n",
       "      <td>85.110001</td>\n",
       "    </tr>\n",
       "    <tr>\n",
       "      <th>2021-06-29</th>\n",
       "      <td>84.440002</td>\n",
       "    </tr>\n",
       "    <tr>\n",
       "      <th>2021-06-30</th>\n",
       "      <td>85.309998</td>\n",
       "    </tr>\n",
       "  </tbody>\n",
       "</table>\n",
       "<p>2517 rows × 1 columns</p>\n",
       "</div>"
      ],
      "text/plain": [
       "                Close\n",
       "Date                 \n",
       "2011-06-30  55.701698\n",
       "2011-07-01  56.721207\n",
       "2011-07-05  56.331024\n",
       "2011-07-06  56.903713\n",
       "2011-07-07  57.514160\n",
       "...               ...\n",
       "2021-06-24  86.849998\n",
       "2021-06-25  86.720001\n",
       "2021-06-28  85.110001\n",
       "2021-06-29  84.440002\n",
       "2021-06-30  85.309998\n",
       "\n",
       "[2517 rows x 1 columns]"
      ]
     },
     "execution_count": 6,
     "metadata": {},
     "output_type": "execute_result"
    }
   ],
   "source": [
    "RTX_df = RTX_df.rename(columns={'Close': 'Close'})\n",
    "RTX_df = RTX_df[['Close']]\n",
    "RTX_df"
   ]
  },
  {
   "cell_type": "code",
   "execution_count": 7,
   "metadata": {},
   "outputs": [],
   "source": [
    "def window_data(df, window, feature_col_number, target_col_number):\n",
    "    X = []\n",
    "    y = []\n",
    "    for i in range(len(df) - window-1):\n",
    "        features = df.iloc[i : (i+window), feature_col_number]\n",
    "        target = df.iloc[(i + window), target_col_number]\n",
    "        X.append(features)\n",
    "        y.append(target)\n",
    "    return np.array(X), np.array(y).reshape(-1, 1)"
   ]
  },
  {
   "cell_type": "code",
   "execution_count": 8,
   "metadata": {},
   "outputs": [
    {
     "name": "stdout",
     "output_type": "stream",
     "text": [
      "X sample values:\n",
      "[[55.701698 56.721207 56.331024 56.903713 57.51416  56.859661 56.091881\n",
      "  55.670235 55.487728 55.267464 55.582127 55.141598 55.89679  54.88987\n",
      "  55.512901 55.191944 54.952801 54.235367 52.69981  52.183762 52.133415\n",
      "  51.818752 49.672749 49.911896 46.80302  46.658276 43.88924  45.040905\n",
      "  42.441788 43.88924  45.594715 46.280682 45.657646 45.342983 42.869728\n",
      "  42.448082 42.592827 44.008812 44.940212 44.524857 45.034615 46.488358\n",
      "  46.419132 46.727501 45.972309 44.707363 44.367527 45.915668 45.707993\n",
      "  44.386406 44.764004 45.594715 46.368786 47.583385 47.51416  47.545628\n",
      "  47.835117 47.117683 42.9893   43.373192 45.02832  46.03524  45.217117\n",
      "  45.575832 44.279423 43.650093 43.763374 43.807426 44.669605 44.97168\n",
      "  46.412838 46.406544 46.721207 46.280682 46.972939 45.387035 46.645687\n",
      "  46.104469 46.727501 47.551918 48.237885 47.37571  47.866585 49.905602\n",
      "  50.037762 49.07489  47.319069 48.401508 49.36438  48.961613 49.301449\n",
      "  49.634991 48.105728 48.753933 50.239143 49.748268 49.92448  48.741348\n",
      "  47.633732 47.898048]\n",
      " [56.721207 56.331024 56.903713 57.51416  56.859661 56.091881 55.670235\n",
      "  55.487728 55.267464 55.582127 55.141598 55.89679  54.88987  55.512901\n",
      "  55.191944 54.952801 54.235367 52.69981  52.183762 52.133415 51.818752\n",
      "  49.672749 49.911896 46.80302  46.658276 43.88924  45.040905 42.441788\n",
      "  43.88924  45.594715 46.280682 45.657646 45.342983 42.869728 42.448082\n",
      "  42.592827 44.008812 44.940212 44.524857 45.034615 46.488358 46.419132\n",
      "  46.727501 45.972309 44.707363 44.367527 45.915668 45.707993 44.386406\n",
      "  44.764004 45.594715 46.368786 47.583385 47.51416  47.545628 47.835117\n",
      "  47.117683 42.9893   43.373192 45.02832  46.03524  45.217117 45.575832\n",
      "  44.279423 43.650093 43.763374 43.807426 44.669605 44.97168  46.412838\n",
      "  46.406544 46.721207 46.280682 46.972939 45.387035 46.645687 46.104469\n",
      "  46.727501 47.551918 48.237885 47.37571  47.866585 49.905602 50.037762\n",
      "  49.07489  47.319069 48.401508 49.36438  48.961613 49.301449 49.634991\n",
      "  48.105728 48.753933 50.239143 49.748268 49.92448  48.741348 47.633732\n",
      "  47.898048 46.614223]\n",
      " [56.331024 56.903713 57.51416  56.859661 56.091881 55.670235 55.487728\n",
      "  55.267464 55.582127 55.141598 55.89679  54.88987  55.512901 55.191944\n",
      "  54.952801 54.235367 52.69981  52.183762 52.133415 51.818752 49.672749\n",
      "  49.911896 46.80302  46.658276 43.88924  45.040905 42.441788 43.88924\n",
      "  45.594715 46.280682 45.657646 45.342983 42.869728 42.448082 42.592827\n",
      "  44.008812 44.940212 44.524857 45.034615 46.488358 46.419132 46.727501\n",
      "  45.972309 44.707363 44.367527 45.915668 45.707993 44.386406 44.764004\n",
      "  45.594715 46.368786 47.583385 47.51416  47.545628 47.835117 47.117683\n",
      "  42.9893   43.373192 45.02832  46.03524  45.217117 45.575832 44.279423\n",
      "  43.650093 43.763374 43.807426 44.669605 44.97168  46.412838 46.406544\n",
      "  46.721207 46.280682 46.972939 45.387035 46.645687 46.104469 46.727501\n",
      "  47.551918 48.237885 47.37571  47.866585 49.905602 50.037762 49.07489\n",
      "  47.319069 48.401508 49.36438  48.961613 49.301449 49.634991 48.105728\n",
      "  48.753933 50.239143 49.748268 49.92448  48.741348 47.633732 47.898048\n",
      "  46.614223 45.972309]] \n",
      "\n",
      "y sample values:\n",
      "[[46.614223]\n",
      " [45.972309]\n",
      " [44.663311]]\n"
     ]
    }
   ],
   "source": [
    "window_size = 100\n",
    "feature_column = 0\n",
    "target_column = 0\n",
    "\n",
    "X, y = window_data(RTX_df, window_size, feature_column, target_column)\n",
    "\n",
    "print(f\"X sample values:\\n{X[:3]} \\n\")\n",
    "print(f\"y sample values:\\n{y[:3]}\")"
   ]
  },
  {
   "cell_type": "code",
   "execution_count": 9,
   "metadata": {},
   "outputs": [],
   "source": [
    "split = int(0.6 * len(X))\n",
    "\n",
    "X_train = X[: split]\n",
    "X_test = X[split:]\n",
    "\n",
    "y_train = y[: split]\n",
    "y_test = y[split:]"
   ]
  },
  {
   "cell_type": "code",
   "execution_count": 10,
   "metadata": {},
   "outputs": [
    {
     "data": {
      "text/plain": [
       "array([[46.614223],\n",
       "       [45.972309],\n",
       "       [44.663311],\n",
       "       ...,\n",
       "       [72.806793],\n",
       "       [73.650093],\n",
       "       [72.561356]])"
      ]
     },
     "execution_count": 10,
     "metadata": {},
     "output_type": "execute_result"
    }
   ],
   "source": [
    "y_train"
   ]
  },
  {
   "cell_type": "code",
   "execution_count": 11,
   "metadata": {},
   "outputs": [],
   "source": [
    "# Import MinMaxScaler from sklearn\n",
    "from sklearn.preprocessing import MinMaxScaler\n",
    "\n",
    "x_train_scaler = MinMaxScaler()\n",
    "y_train_scaler = MinMaxScaler()\n",
    "\n",
    "x_train_scaler.fit(X_train)\n",
    "y_train_scaler.fit(y_train)\n",
    "\n",
    "X_train = x_train_scaler.transform(X_train)\n",
    "y_train = y_train_scaler.transform(y_train)\n",
    "\n",
    "X_test = x_train_scaler.transform(X_test)\n",
    "y_test = y_train_scaler.transform(y_test)"
   ]
  },
  {
   "cell_type": "code",
   "execution_count": 12,
   "metadata": {},
   "outputs": [],
   "source": [
    "X_train = X_train.reshape((X_train.shape[0], X_train.shape[1], 1))\n",
    "X_test = X_test.reshape((X_test.shape[0], X_test.shape[1], 1))"
   ]
  },
  {
   "cell_type": "code",
   "execution_count": 13,
   "metadata": {},
   "outputs": [],
   "source": [
    "from tensorflow.keras.models import Sequential\n",
    "from tensorflow.keras.layers import LSTM, Dense, Dropout"
   ]
  },
  {
   "cell_type": "code",
   "execution_count": 14,
   "metadata": {},
   "outputs": [],
   "source": [
    "model = Sequential()\n",
    "\n",
    "number_units = window_size\n",
    "dropout_fraction = 0.2\n",
    "\n",
    "# Layer 1\n",
    "model.add(LSTM(\n",
    "    units = number_units,\n",
    "    return_sequences = True,\n",
    "    input_shape= (X_train.shape[1], 1))\n",
    "    )\n",
    "model.add(Dropout(dropout_fraction))\n",
    "\n",
    "# Layer 2\n",
    "model.add(LSTM(\n",
    "    units = number_units,\n",
    "    return_sequences = True\n",
    "    ))\n",
    "model.add(Dropout(dropout_fraction))\n",
    "\n",
    "# Layer 3\n",
    "model.add(LSTM(\n",
    "    units = number_units\n",
    "    ))\n",
    "model.add(Dropout(dropout_fraction))\n",
    "\n",
    "# Output Layer\n",
    "model.add(Dense(1))"
   ]
  },
  {
   "cell_type": "code",
   "execution_count": 15,
   "metadata": {},
   "outputs": [
    {
     "name": "stdout",
     "output_type": "stream",
     "text": [
      "Model: \"sequential\"\n",
      "_________________________________________________________________\n",
      "Layer (type)                 Output Shape              Param #   \n",
      "=================================================================\n",
      "lstm (LSTM)                  (None, 100, 100)          40800     \n",
      "_________________________________________________________________\n",
      "dropout (Dropout)            (None, 100, 100)          0         \n",
      "_________________________________________________________________\n",
      "lstm_1 (LSTM)                (None, 100, 100)          80400     \n",
      "_________________________________________________________________\n",
      "dropout_1 (Dropout)          (None, 100, 100)          0         \n",
      "_________________________________________________________________\n",
      "lstm_2 (LSTM)                (None, 100)               80400     \n",
      "_________________________________________________________________\n",
      "dropout_2 (Dropout)          (None, 100)               0         \n",
      "_________________________________________________________________\n",
      "dense (Dense)                (None, 1)                 101       \n",
      "=================================================================\n",
      "Total params: 201,701\n",
      "Trainable params: 201,701\n",
      "Non-trainable params: 0\n",
      "_________________________________________________________________\n"
     ]
    }
   ],
   "source": [
    "model.compile(optimizer='adam', loss='mean_squared_error')\n",
    "model.summary()"
   ]
  },
  {
   "cell_type": "code",
   "execution_count": 16,
   "metadata": {},
   "outputs": [
    {
     "name": "stdout",
     "output_type": "stream",
     "text": [
      "Epoch 1/20\n",
      "15/15 [==============================] - 54s 1s/step - loss: 0.0210\n",
      "Epoch 2/20\n",
      "15/15 [==============================] - 15s 1s/step - loss: 0.0133\n",
      "Epoch 3/20\n",
      "15/15 [==============================] - 14s 935ms/step - loss: 0.0087\n",
      "Epoch 4/20\n",
      "15/15 [==============================] - 16s 1s/step - loss: 0.0081\n",
      "Epoch 5/20\n",
      "15/15 [==============================] - 14s 925ms/step - loss: 0.0054\n",
      "Epoch 6/20\n",
      "15/15 [==============================] - 14s 903ms/step - loss: 0.0064\n",
      "Epoch 7/20\n",
      "15/15 [==============================] - 13s 873ms/step - loss: 0.0051\n",
      "Epoch 8/20\n",
      "15/15 [==============================] - 14s 939ms/step - loss: 0.0083\n",
      "Epoch 9/20\n",
      "15/15 [==============================] - 14s 903ms/step - loss: 0.0098\n",
      "Epoch 10/20\n",
      "15/15 [==============================] - 14s 920ms/step - loss: 0.0066\n",
      "Epoch 11/20\n",
      "15/15 [==============================] - 14s 905ms/step - loss: 0.0049\n",
      "Epoch 12/20\n",
      "15/15 [==============================] - 14s 941ms/step - loss: 0.0047\n",
      "Epoch 13/20\n",
      "15/15 [==============================] - 14s 966ms/step - loss: 0.0043\n",
      "Epoch 14/20\n",
      "15/15 [==============================] - 15s 999ms/step - loss: 0.0043\n",
      "Epoch 15/20\n",
      "15/15 [==============================] - 17s 1s/step - loss: 0.0047\n",
      "Epoch 16/20\n",
      "15/15 [==============================] - 18s 1s/step - loss: 0.0044\n",
      "Epoch 17/20\n",
      "15/15 [==============================] - 14s 953ms/step - loss: 0.0061\n",
      "Epoch 18/20\n",
      "15/15 [==============================] - 14s 906ms/step - loss: 0.0108\n",
      "Epoch 19/20\n",
      "15/15 [==============================] - 15s 1s/step - loss: 0.0081\n",
      "Epoch 20/20\n",
      "15/15 [==============================] - 16s 1s/step - loss: 0.0037\n"
     ]
    },
    {
     "data": {
      "text/plain": [
       "<tensorflow.python.keras.callbacks.History at 0x2994593fd60>"
      ]
     },
     "execution_count": 16,
     "metadata": {},
     "output_type": "execute_result"
    }
   ],
   "source": [
    "model.fit(X_train, y_train, epochs=20, shuffle=False, batch_size=100, verbose=1)"
   ]
  },
  {
   "cell_type": "code",
   "execution_count": 17,
   "metadata": {},
   "outputs": [
    {
     "data": {
      "text/plain": [
       "0.011059409938752651"
      ]
     },
     "execution_count": 17,
     "metadata": {},
     "output_type": "execute_result"
    }
   ],
   "source": [
    "model.evaluate(X_test, y_test, verbose=0)"
   ]
  },
  {
   "cell_type": "code",
   "execution_count": 18,
   "metadata": {},
   "outputs": [],
   "source": [
    "predicted = model.predict(X_test)"
   ]
  },
  {
   "cell_type": "code",
   "execution_count": 19,
   "metadata": {},
   "outputs": [],
   "source": [
    "predicted_prices = y_train_scaler.inverse_transform(predicted)"
   ]
  },
  {
   "cell_type": "code",
   "execution_count": 20,
   "metadata": {},
   "outputs": [],
   "source": [
    "real_prices = y_train_scaler.inverse_transform(y_test.reshape(-1,1))"
   ]
  },
  {
   "cell_type": "code",
   "execution_count": 21,
   "metadata": {},
   "outputs": [
    {
     "data": {
      "text/html": [
       "<div>\n",
       "<style scoped>\n",
       "    .dataframe tbody tr th:only-of-type {\n",
       "        vertical-align: middle;\n",
       "    }\n",
       "\n",
       "    .dataframe tbody tr th {\n",
       "        vertical-align: top;\n",
       "    }\n",
       "\n",
       "    .dataframe thead th {\n",
       "        text-align: right;\n",
       "    }\n",
       "</style>\n",
       "<table border=\"1\" class=\"dataframe\">\n",
       "  <thead>\n",
       "    <tr style=\"text-align: right;\">\n",
       "      <th></th>\n",
       "      <th>Actual</th>\n",
       "      <th>Predicted</th>\n",
       "    </tr>\n",
       "    <tr>\n",
       "      <th>Date</th>\n",
       "      <th></th>\n",
       "      <th></th>\n",
       "    </tr>\n",
       "  </thead>\n",
       "  <tbody>\n",
       "    <tr>\n",
       "      <th>2017-08-28</th>\n",
       "      <td>72.416611</td>\n",
       "      <td>73.620537</td>\n",
       "    </tr>\n",
       "    <tr>\n",
       "      <th>2017-08-29</th>\n",
       "      <td>72.580238</td>\n",
       "      <td>73.510628</td>\n",
       "    </tr>\n",
       "    <tr>\n",
       "      <th>2017-08-30</th>\n",
       "      <td>74.701073</td>\n",
       "      <td>73.407761</td>\n",
       "    </tr>\n",
       "    <tr>\n",
       "      <th>2017-08-31</th>\n",
       "      <td>75.267464</td>\n",
       "      <td>73.371849</td>\n",
       "    </tr>\n",
       "    <tr>\n",
       "      <th>2017-09-01</th>\n",
       "      <td>75.342979</td>\n",
       "      <td>73.425941</td>\n",
       "    </tr>\n",
       "  </tbody>\n",
       "</table>\n",
       "</div>"
      ],
      "text/plain": [
       "               Actual  Predicted\n",
       "Date                            \n",
       "2017-08-28  72.416611  73.620537\n",
       "2017-08-29  72.580238  73.510628\n",
       "2017-08-30  74.701073  73.407761\n",
       "2017-08-31  75.267464  73.371849\n",
       "2017-09-01  75.342979  73.425941"
      ]
     },
     "execution_count": 21,
     "metadata": {},
     "output_type": "execute_result"
    }
   ],
   "source": [
    "RTX_actual_predicted = pd.DataFrame({\n",
    "    \"Actual\": real_prices.ravel(),\n",
    "    \"Predicted\": predicted_prices.ravel()\n",
    "}, index = RTX_df.index[-len(real_prices): ])\n",
    "\n",
    "RTX_actual_predicted.head()"
   ]
  },
  {
   "cell_type": "code",
   "execution_count": 22,
   "metadata": {},
   "outputs": [
    {
     "data": {
      "text/html": [
       "<div>\n",
       "<style scoped>\n",
       "    .dataframe tbody tr th:only-of-type {\n",
       "        vertical-align: middle;\n",
       "    }\n",
       "\n",
       "    .dataframe tbody tr th {\n",
       "        vertical-align: top;\n",
       "    }\n",
       "\n",
       "    .dataframe thead th {\n",
       "        text-align: right;\n",
       "    }\n",
       "</style>\n",
       "<table border=\"1\" class=\"dataframe\">\n",
       "  <thead>\n",
       "    <tr style=\"text-align: right;\">\n",
       "      <th></th>\n",
       "      <th>Actual</th>\n",
       "      <th>Predicted</th>\n",
       "    </tr>\n",
       "    <tr>\n",
       "      <th>Date</th>\n",
       "      <th></th>\n",
       "      <th></th>\n",
       "    </tr>\n",
       "  </thead>\n",
       "  <tbody>\n",
       "    <tr>\n",
       "      <th>2021-06-24</th>\n",
       "      <td>86.599998</td>\n",
       "      <td>85.977493</td>\n",
       "    </tr>\n",
       "    <tr>\n",
       "      <th>2021-06-25</th>\n",
       "      <td>86.849998</td>\n",
       "      <td>85.822861</td>\n",
       "    </tr>\n",
       "    <tr>\n",
       "      <th>2021-06-28</th>\n",
       "      <td>86.720001</td>\n",
       "      <td>85.667328</td>\n",
       "    </tr>\n",
       "    <tr>\n",
       "      <th>2021-06-29</th>\n",
       "      <td>85.110001</td>\n",
       "      <td>85.516769</td>\n",
       "    </tr>\n",
       "    <tr>\n",
       "      <th>2021-06-30</th>\n",
       "      <td>84.440002</td>\n",
       "      <td>85.334427</td>\n",
       "    </tr>\n",
       "  </tbody>\n",
       "</table>\n",
       "</div>"
      ],
      "text/plain": [
       "               Actual  Predicted\n",
       "Date                            \n",
       "2021-06-24  86.599998  85.977493\n",
       "2021-06-25  86.849998  85.822861\n",
       "2021-06-28  86.720001  85.667328\n",
       "2021-06-29  85.110001  85.516769\n",
       "2021-06-30  84.440002  85.334427"
      ]
     },
     "execution_count": 22,
     "metadata": {},
     "output_type": "execute_result"
    }
   ],
   "source": [
    "RTX_actual_predicted.tail()"
   ]
  },
  {
   "cell_type": "code",
   "execution_count": 29,
   "metadata": {},
   "outputs": [
    {
     "data": {
      "text/plain": [
       "<matplotlib.axes._subplots.AxesSubplot at 0x2995447ba60>"
      ]
     },
     "execution_count": 29,
     "metadata": {},
     "output_type": "execute_result"
    },
    {
     "data": {
      "image/png": "[encoded data removed]",
      "text/plain": [
       "<Figure size 1440x720 with 1 Axes>"
      ]
     },
     "metadata": {
      "needs_background": "light"
     },
     "output_type": "display_data"
    }
   ],
   "source": [
    "RTX_actual_predicted.plot(figsize=(20,10), title=\"Raytheon Technologies Price Predictions\")"
   ]
  },
  {
   "cell_type": "code",
   "execution_count": null,
   "metadata": {},
   "outputs": [],
   "source": []
  }
 ],
 "metadata": {
  "interpreter": {
   "hash": "4dba3cd8cacc6caf095be8f13e45c7df4062fd9036a4f6c7ca2cd1452bed8f3f"
  },
  "kernelspec": {
   "display_name": "Python 3",
   "language": "python",
   "name": "python3"
  },
  "language_info": {
   "codemirror_mode": {
    "name": "ipython",
    "version": 3
   },
   "file_extension": ".py",
   "mimetype": "text/x-python",
   "name": "python",
   "nbconvert_exporter": "python",
   "pygments_lexer": "ipython3",
   "version": "3.8.5"
  }
 },
 "nbformat": 4,
 "nbformat_minor": 4
}
