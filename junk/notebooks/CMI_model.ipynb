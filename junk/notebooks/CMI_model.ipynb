{
 "cells": [
  {
   "cell_type": "code",
   "execution_count": 1,
   "metadata": {},
   "outputs": [],
   "source": [
    "import os\n",
    "import numpy as np\n",
    "import pandas as pd\n",
    "import matplotlib.pyplot as plt\n",
    "from pathlib import Path\n",
    "import requests\n",
    "\n",
    "%matplotlib inline"
   ]
  },
  {
   "cell_type": "code",
   "execution_count": 2,
   "metadata": {},
   "outputs": [],
   "source": [
    "csvpath = Path(\"../Data/CMI.csv\")\n",
    "stock_title = \"Cummins Stock Price Prediction Model\""
   ]
  },
  {
   "cell_type": "code",
   "execution_count": 3,
   "metadata": {},
   "outputs": [],
   "source": [
    "stock_df = pd.read_csv(csvpath, index_col='Date', infer_datetime_format=True, parse_dates=True)"
   ]
  },
  {
   "cell_type": "code",
   "execution_count": 4,
   "metadata": {},
   "outputs": [
    {
     "data": {
      "text/html": [
       "<div>\n",
       "<style scoped>\n",
       "    .dataframe tbody tr th:only-of-type {\n",
       "        vertical-align: middle;\n",
       "    }\n",
       "\n",
       "    .dataframe tbody tr th {\n",
       "        vertical-align: top;\n",
       "    }\n",
       "\n",
       "    .dataframe thead th {\n",
       "        text-align: right;\n",
       "    }\n",
       "</style>\n",
       "<table border=\"1\" class=\"dataframe\">\n",
       "  <thead>\n",
       "    <tr style=\"text-align: right;\">\n",
       "      <th></th>\n",
       "      <th>Close/Last</th>\n",
       "      <th>Volume</th>\n",
       "      <th>Open</th>\n",
       "      <th>High</th>\n",
       "      <th>Low</th>\n",
       "    </tr>\n",
       "    <tr>\n",
       "      <th>Date</th>\n",
       "      <th></th>\n",
       "      <th></th>\n",
       "      <th></th>\n",
       "      <th></th>\n",
       "      <th></th>\n",
       "    </tr>\n",
       "  </thead>\n",
       "  <tbody>\n",
       "    <tr>\n",
       "      <th>2021-06-25</th>\n",
       "      <td>$240.85</td>\n",
       "      <td>1055529</td>\n",
       "      <td>$240.67</td>\n",
       "      <td>$242.72</td>\n",
       "      <td>$239.96</td>\n",
       "    </tr>\n",
       "    <tr>\n",
       "      <th>2021-06-24</th>\n",
       "      <td>$239.11</td>\n",
       "      <td>997412</td>\n",
       "      <td>$239</td>\n",
       "      <td>$240.9017</td>\n",
       "      <td>$237.52</td>\n",
       "    </tr>\n",
       "    <tr>\n",
       "      <th>2021-06-23</th>\n",
       "      <td>$238</td>\n",
       "      <td>855927</td>\n",
       "      <td>$237.6</td>\n",
       "      <td>$239.19</td>\n",
       "      <td>$235.241</td>\n",
       "    </tr>\n",
       "    <tr>\n",
       "      <th>2021-06-22</th>\n",
       "      <td>$237.01</td>\n",
       "      <td>899676</td>\n",
       "      <td>$237.29</td>\n",
       "      <td>$238.469</td>\n",
       "      <td>$235.48</td>\n",
       "    </tr>\n",
       "    <tr>\n",
       "      <th>2021-06-21</th>\n",
       "      <td>$235.89</td>\n",
       "      <td>991528</td>\n",
       "      <td>$235.56</td>\n",
       "      <td>$239.24</td>\n",
       "      <td>$235.46</td>\n",
       "    </tr>\n",
       "  </tbody>\n",
       "</table>\n",
       "</div>"
      ],
      "text/plain": [
       "           Close/Last   Volume     Open       High       Low\n",
       "Date                                                        \n",
       "2021-06-25    $240.85  1055529  $240.67    $242.72   $239.96\n",
       "2021-06-24    $239.11   997412     $239  $240.9017   $237.52\n",
       "2021-06-23       $238   855927   $237.6    $239.19  $235.241\n",
       "2021-06-22    $237.01   899676  $237.29   $238.469   $235.48\n",
       "2021-06-21    $235.89   991528  $235.56    $239.24   $235.46"
      ]
     },
     "execution_count": 4,
     "metadata": {},
     "output_type": "execute_result"
    }
   ],
   "source": [
    "stock_df.head()"
   ]
  },
  {
   "cell_type": "code",
   "execution_count": 5,
   "metadata": {},
   "outputs": [],
   "source": [
    "stock_df.sort_index(ascending=True, inplace=True)"
   ]
  },
  {
   "cell_type": "code",
   "execution_count": 6,
   "metadata": {},
   "outputs": [],
   "source": [
    "stock_df = stock_df.rename(columns={\"Close/Last\": \"Close\"})"
   ]
  },
  {
   "cell_type": "code",
   "execution_count": 7,
   "metadata": {},
   "outputs": [
    {
     "data": {
      "text/html": [
       "<div>\n",
       "<style scoped>\n",
       "    .dataframe tbody tr th:only-of-type {\n",
       "        vertical-align: middle;\n",
       "    }\n",
       "\n",
       "    .dataframe tbody tr th {\n",
       "        vertical-align: top;\n",
       "    }\n",
       "\n",
       "    .dataframe thead th {\n",
       "        text-align: right;\n",
       "    }\n",
       "</style>\n",
       "<table border=\"1\" class=\"dataframe\">\n",
       "  <thead>\n",
       "    <tr style=\"text-align: right;\">\n",
       "      <th></th>\n",
       "      <th>Close</th>\n",
       "    </tr>\n",
       "    <tr>\n",
       "      <th>Date</th>\n",
       "      <th></th>\n",
       "    </tr>\n",
       "  </thead>\n",
       "  <tbody>\n",
       "    <tr>\n",
       "      <th>2011-06-27</th>\n",
       "      <td>$97.39</td>\n",
       "    </tr>\n",
       "    <tr>\n",
       "      <th>2011-06-28</th>\n",
       "      <td>$100.7</td>\n",
       "    </tr>\n",
       "    <tr>\n",
       "      <th>2011-06-29</th>\n",
       "      <td>$101.04</td>\n",
       "    </tr>\n",
       "    <tr>\n",
       "      <th>2011-06-30</th>\n",
       "      <td>$103.49</td>\n",
       "    </tr>\n",
       "    <tr>\n",
       "      <th>2011-07-01</th>\n",
       "      <td>$107.42</td>\n",
       "    </tr>\n",
       "    <tr>\n",
       "      <th>...</th>\n",
       "      <td>...</td>\n",
       "    </tr>\n",
       "    <tr>\n",
       "      <th>2021-06-21</th>\n",
       "      <td>$235.89</td>\n",
       "    </tr>\n",
       "    <tr>\n",
       "      <th>2021-06-22</th>\n",
       "      <td>$237.01</td>\n",
       "    </tr>\n",
       "    <tr>\n",
       "      <th>2021-06-23</th>\n",
       "      <td>$238</td>\n",
       "    </tr>\n",
       "    <tr>\n",
       "      <th>2021-06-24</th>\n",
       "      <td>$239.11</td>\n",
       "    </tr>\n",
       "    <tr>\n",
       "      <th>2021-06-25</th>\n",
       "      <td>$240.85</td>\n",
       "    </tr>\n",
       "  </tbody>\n",
       "</table>\n",
       "<p>2517 rows × 1 columns</p>\n",
       "</div>"
      ],
      "text/plain": [
       "              Close\n",
       "Date               \n",
       "2011-06-27   $97.39\n",
       "2011-06-28   $100.7\n",
       "2011-06-29  $101.04\n",
       "2011-06-30  $103.49\n",
       "2011-07-01  $107.42\n",
       "...             ...\n",
       "2021-06-21  $235.89\n",
       "2021-06-22  $237.01\n",
       "2021-06-23     $238\n",
       "2021-06-24  $239.11\n",
       "2021-06-25  $240.85\n",
       "\n",
       "[2517 rows x 1 columns]"
      ]
     },
     "execution_count": 7,
     "metadata": {},
     "output_type": "execute_result"
    }
   ],
   "source": [
    "stock_df = stock_df[['Close']]\n",
    "stock_df"
   ]
  },
  {
   "cell_type": "code",
   "execution_count": 8,
   "metadata": {},
   "outputs": [],
   "source": [
    "stock_df['Close'] = stock_df['Close'].str.replace('$', '').astype(float)"
   ]
  },
  {
   "cell_type": "code",
   "execution_count": 9,
   "metadata": {},
   "outputs": [
    {
     "data": {
      "text/html": [
       "<div>\n",
       "<style scoped>\n",
       "    .dataframe tbody tr th:only-of-type {\n",
       "        vertical-align: middle;\n",
       "    }\n",
       "\n",
       "    .dataframe tbody tr th {\n",
       "        vertical-align: top;\n",
       "    }\n",
       "\n",
       "    .dataframe thead th {\n",
       "        text-align: right;\n",
       "    }\n",
       "</style>\n",
       "<table border=\"1\" class=\"dataframe\">\n",
       "  <thead>\n",
       "    <tr style=\"text-align: right;\">\n",
       "      <th></th>\n",
       "      <th>Close</th>\n",
       "    </tr>\n",
       "    <tr>\n",
       "      <th>Date</th>\n",
       "      <th></th>\n",
       "    </tr>\n",
       "  </thead>\n",
       "  <tbody>\n",
       "    <tr>\n",
       "      <th>2011-06-27</th>\n",
       "      <td>97.39</td>\n",
       "    </tr>\n",
       "    <tr>\n",
       "      <th>2011-06-28</th>\n",
       "      <td>100.70</td>\n",
       "    </tr>\n",
       "    <tr>\n",
       "      <th>2011-06-29</th>\n",
       "      <td>101.04</td>\n",
       "    </tr>\n",
       "    <tr>\n",
       "      <th>2011-06-30</th>\n",
       "      <td>103.49</td>\n",
       "    </tr>\n",
       "    <tr>\n",
       "      <th>2011-07-01</th>\n",
       "      <td>107.42</td>\n",
       "    </tr>\n",
       "    <tr>\n",
       "      <th>...</th>\n",
       "      <td>...</td>\n",
       "    </tr>\n",
       "    <tr>\n",
       "      <th>2021-06-21</th>\n",
       "      <td>235.89</td>\n",
       "    </tr>\n",
       "    <tr>\n",
       "      <th>2021-06-22</th>\n",
       "      <td>237.01</td>\n",
       "    </tr>\n",
       "    <tr>\n",
       "      <th>2021-06-23</th>\n",
       "      <td>238.00</td>\n",
       "    </tr>\n",
       "    <tr>\n",
       "      <th>2021-06-24</th>\n",
       "      <td>239.11</td>\n",
       "    </tr>\n",
       "    <tr>\n",
       "      <th>2021-06-25</th>\n",
       "      <td>240.85</td>\n",
       "    </tr>\n",
       "  </tbody>\n",
       "</table>\n",
       "<p>2517 rows × 1 columns</p>\n",
       "</div>"
      ],
      "text/plain": [
       "             Close\n",
       "Date              \n",
       "2011-06-27   97.39\n",
       "2011-06-28  100.70\n",
       "2011-06-29  101.04\n",
       "2011-06-30  103.49\n",
       "2011-07-01  107.42\n",
       "...            ...\n",
       "2021-06-21  235.89\n",
       "2021-06-22  237.01\n",
       "2021-06-23  238.00\n",
       "2021-06-24  239.11\n",
       "2021-06-25  240.85\n",
       "\n",
       "[2517 rows x 1 columns]"
      ]
     },
     "execution_count": 9,
     "metadata": {},
     "output_type": "execute_result"
    }
   ],
   "source": [
    "stock_df"
   ]
  },
  {
   "cell_type": "code",
   "execution_count": 10,
   "metadata": {},
   "outputs": [],
   "source": [
    "def window_data(df, window, feature_col_number, target_col_number):\n",
    "    X = []\n",
    "    y = []\n",
    "    for i in range(len(df) - window- 1):\n",
    "        features = df.iloc[i : (i + window), feature_col_number]\n",
    "        target = df.iloc[(i + window), target_col_number]\n",
    "        X.append(features)\n",
    "        y.append(target)\n",
    "    return np.array(X), np.array(y).reshape(-1, 1)"
   ]
  },
  {
   "cell_type": "code",
   "execution_count": 11,
   "metadata": {},
   "outputs": [
    {
     "name": "stdout",
     "output_type": "stream",
     "text": [
      "X sample values:\n",
      "[[ 97.39 100.7  101.04 103.49 107.42 105.65 106.78 108.82 106.77 103.65\n",
      "  103.32 105.71 104.49 104.68 103.5  106.58 106.75 107.57 106.78 106.66\n",
      "  110.82 106.49 105.74 104.88 103.79  99.15 101.54  93.16  92.26  83.67\n",
      "   91.11  86.25  91.87  94.47  96.18  93.68  91.93  83.34  79.91  79.95\n",
      "   84.15  86.58  85.13  87.47  90.46  90.98  92.92  90.76  86.82  85.54\n",
      "   90.5   90.01  88.16  87.06  92.2   94.17  97.86  97.84  97.03  94.25\n",
      "   91.61  85.26  86.26  89.48  91.91  86.95  86.45  81.66  81.01  85.12\n",
      "   88.32  90.02  90.17  94.08  95.75  95.71  95.48  97.6   92.37  93.76\n",
      "   90.49  91.84  94.22  98.82  93.81  94.88 101.71 102.75  99.43  96.03\n",
      "   98.77 103.24 103.39 101.   101.68  96.35  97.28  98.72  99.41  99.23]\n",
      " [100.7  101.04 103.49 107.42 105.65 106.78 108.82 106.77 103.65 103.32\n",
      "  105.71 104.49 104.68 103.5  106.58 106.75 107.57 106.78 106.66 110.82\n",
      "  106.49 105.74 104.88 103.79  99.15 101.54  93.16  92.26  83.67  91.11\n",
      "   86.25  91.87  94.47  96.18  93.68  91.93  83.34  79.91  79.95  84.15\n",
      "   86.58  85.13  87.47  90.46  90.98  92.92  90.76  86.82  85.54  90.5\n",
      "   90.01  88.16  87.06  92.2   94.17  97.86  97.84  97.03  94.25  91.61\n",
      "   85.26  86.26  89.48  91.91  86.95  86.45  81.66  81.01  85.12  88.32\n",
      "   90.02  90.17  94.08  95.75  95.71  95.48  97.6   92.37  93.76  90.49\n",
      "   91.84  94.22  98.82  93.81  94.88 101.71 102.75  99.43  96.03  98.77\n",
      "  103.24 103.39 101.   101.68  96.35  97.28  98.72  99.41  99.23  98.03]\n",
      " [101.04 103.49 107.42 105.65 106.78 108.82 106.77 103.65 103.32 105.71\n",
      "  104.49 104.68 103.5  106.58 106.75 107.57 106.78 106.66 110.82 106.49\n",
      "  105.74 104.88 103.79  99.15 101.54  93.16  92.26  83.67  91.11  86.25\n",
      "   91.87  94.47  96.18  93.68  91.93  83.34  79.91  79.95  84.15  86.58\n",
      "   85.13  87.47  90.46  90.98  92.92  90.76  86.82  85.54  90.5   90.01\n",
      "   88.16  87.06  92.2   94.17  97.86  97.84  97.03  94.25  91.61  85.26\n",
      "   86.26  89.48  91.91  86.95  86.45  81.66  81.01  85.12  88.32  90.02\n",
      "   90.17  94.08  95.75  95.71  95.48  97.6   92.37  93.76  90.49  91.84\n",
      "   94.22  98.82  93.81  94.88 101.71 102.75  99.43  96.03  98.77 103.24\n",
      "  103.39 101.   101.68  96.35  97.28  98.72  99.41  99.23  98.03  94.78]] \n",
      "\n",
      "y sample values:\n",
      "[[98.03]\n",
      " [94.78]\n",
      " [94.02]]\n"
     ]
    }
   ],
   "source": [
    "window_size = 100\n",
    "feature_column = 0 # why 0?\n",
    "target_column = 0 # Why 0?\n",
    "\n",
    "X, y = window_data(stock_df, window_size, feature_column, target_column)\n",
    "\n",
    "print (f\"X sample values:\\n{X[:3]} \\n\")\n",
    "print (f\"y sample values:\\n{y[:3]}\")"
   ]
  },
  {
   "cell_type": "code",
   "execution_count": 12,
   "metadata": {},
   "outputs": [],
   "source": [
    "split = int(0.6 * len(X))\n",
    "\n",
    "X_train = X[: split]\n",
    "X_test = X[split:]\n",
    "\n",
    "y_train = y[: split]\n",
    "y_test = y[split:]"
   ]
  },
  {
   "cell_type": "code",
   "execution_count": 13,
   "metadata": {},
   "outputs": [
    {
     "data": {
      "text/plain": [
       "array([[ 98.03],\n",
       "       [ 94.78],\n",
       "       [ 94.02],\n",
       "       ...,\n",
       "       [151.28],\n",
       "       [150.79],\n",
       "       [152.06]])"
      ]
     },
     "execution_count": 13,
     "metadata": {},
     "output_type": "execute_result"
    }
   ],
   "source": [
    "y_train"
   ]
  },
  {
   "cell_type": "code",
   "execution_count": 14,
   "metadata": {},
   "outputs": [],
   "source": [
    "# Importing the MinMaxScaler from sklearn\n",
    "from sklearn.preprocessing import MinMaxScaler\n",
    "\n",
    "x_train_scaler = MinMaxScaler()\n",
    "y_train_scaler = MinMaxScaler()\n",
    "\n",
    "# Fit the scaler for the training Data\n",
    "x_train_scaler.fit(X_train)\n",
    "y_train_scaler.fit(y_train)\n",
    "\n",
    "# Scale the training data\n",
    "X_train = x_train_scaler.transform(X_train)\n",
    "y_train = y_train_scaler.transform(y_train)\n",
    "\n",
    "# Scale the y_test data\n",
    "X_test = x_train_scaler.transform(X_test)\n",
    "y_test = y_train_scaler.transform(y_test)"
   ]
  },
  {
   "cell_type": "code",
   "execution_count": 15,
   "metadata": {},
   "outputs": [],
   "source": [
    "# Reshape the features data\n",
    "X_train = X_train.reshape((X_train.shape[0], X_train.shape[1], 1))\n",
    "X_test = X_test.reshape((X_test.shape[0], X_test.shape[1], 1))"
   ]
  },
  {
   "cell_type": "code",
   "execution_count": 16,
   "metadata": {},
   "outputs": [],
   "source": [
    "# Importing required Keras modules\n",
    "from tensorflow.keras.models import Sequential\n",
    "from tensorflow.keras.layers import LSTM, Dense, Dropout"
   ]
  },
  {
   "cell_type": "code",
   "execution_count": 17,
   "metadata": {},
   "outputs": [],
   "source": [
    "# Define the LSTM RNN model.\n",
    "model = Sequential()\n",
    "\n",
    "# Initial model setup\n",
    "number_units = window_size\n",
    "# 20% of neurons to be dropped out\n",
    "dropout_fraction = 0.2\n",
    "\n",
    "# Layer 1\n",
    "model.add(LSTM(\n",
    "    units=number_units,\n",
    "    return_sequences=True,\n",
    "    input_shape=(X_train.shape[1], 1))\n",
    "    )\n",
    "model.add(Dropout(dropout_fraction))\n",
    "\n",
    "# Layer 2\n",
    "model.add(LSTM(units=number_units, return_sequences=True))\n",
    "model.add(Dropout(dropout_fraction))\n",
    "\n",
    "# Layer 3\n",
    "model.add(LSTM(units=number_units))\n",
    "model.add(Dropout(dropout_fraction))\n",
    "\n",
    "# Output layer\n",
    "model.add(Dense(1))"
   ]
  },
  {
   "cell_type": "code",
   "execution_count": 18,
   "metadata": {},
   "outputs": [
    {
     "name": "stdout",
     "output_type": "stream",
     "text": [
      "Model: \"sequential\"\n",
      "_________________________________________________________________\n",
      "Layer (type)                 Output Shape              Param #   \n",
      "=================================================================\n",
      "lstm (LSTM)                  (None, 100, 100)          40800     \n",
      "_________________________________________________________________\n",
      "dropout (Dropout)            (None, 100, 100)          0         \n",
      "_________________________________________________________________\n",
      "lstm_1 (LSTM)                (None, 100, 100)          80400     \n",
      "_________________________________________________________________\n",
      "dropout_1 (Dropout)          (None, 100, 100)          0         \n",
      "_________________________________________________________________\n",
      "lstm_2 (LSTM)                (None, 100)               80400     \n",
      "_________________________________________________________________\n",
      "dropout_2 (Dropout)          (None, 100)               0         \n",
      "_________________________________________________________________\n",
      "dense (Dense)                (None, 1)                 101       \n",
      "=================================================================\n",
      "Total params: 201,701\n",
      "Trainable params: 201,701\n",
      "Non-trainable params: 0\n",
      "_________________________________________________________________\n"
     ]
    }
   ],
   "source": [
    "model.compile(optimizer=\"adam\", loss=\"mean_squared_error\")\n",
    "model.summary()"
   ]
  },
  {
   "cell_type": "code",
   "execution_count": 19,
   "metadata": {},
   "outputs": [
    {
     "name": "stdout",
     "output_type": "stream",
     "text": [
      "Epoch 1/20\n",
      "15/15 [==============================] - 11s 383ms/step - loss: 0.0258\n",
      "Epoch 2/20\n",
      "15/15 [==============================] - 6s 393ms/step - loss: 0.0113\n",
      "Epoch 3/20\n",
      "15/15 [==============================] - 6s 375ms/step - loss: 0.0113\n",
      "Epoch 4/20\n",
      "15/15 [==============================] - 6s 374ms/step - loss: 0.0057\n",
      "Epoch 5/20\n",
      "15/15 [==============================] - 6s 380ms/step - loss: 0.0065\n",
      "Epoch 6/20\n",
      "15/15 [==============================] - 6s 413ms/step - loss: 0.0059\n",
      "Epoch 7/20\n",
      "15/15 [==============================] - 6s 415ms/step - loss: 0.0055\n",
      "Epoch 8/20\n",
      "15/15 [==============================] - 6s 395ms/step - loss: 0.0047\n",
      "Epoch 9/20\n",
      "15/15 [==============================] - 6s 396ms/step - loss: 0.0048\n",
      "Epoch 10/20\n",
      "15/15 [==============================] - 6s 394ms/step - loss: 0.0043\n",
      "Epoch 11/20\n",
      "15/15 [==============================] - 6s 418ms/step - loss: 0.0042\n",
      "Epoch 12/20\n",
      "15/15 [==============================] - 6s 393ms/step - loss: 0.0043\n",
      "Epoch 13/20\n",
      "15/15 [==============================] - 6s 393ms/step - loss: 0.0042\n",
      "Epoch 14/20\n",
      "15/15 [==============================] - 6s 399ms/step - loss: 0.0043\n",
      "Epoch 15/20\n",
      "15/15 [==============================] - 6s 396ms/step - loss: 0.0079\n",
      "Epoch 16/20\n",
      "15/15 [==============================] - 6s 412ms/step - loss: 0.0162\n",
      "Epoch 17/20\n",
      "15/15 [==============================] - 6s 396ms/step - loss: 0.0253\n",
      "Epoch 18/20\n",
      "15/15 [==============================] - 6s 392ms/step - loss: 0.0128\n",
      "Epoch 19/20\n",
      "15/15 [==============================] - 6s 396ms/step - loss: 0.0037\n",
      "Epoch 20/20\n",
      "15/15 [==============================] - 6s 401ms/step - loss: 0.0039\n"
     ]
    },
    {
     "data": {
      "text/plain": [
       "<tensorflow.python.keras.callbacks.History at 0x191cdc9aca0>"
      ]
     },
     "execution_count": 19,
     "metadata": {},
     "output_type": "execute_result"
    }
   ],
   "source": [
    "model.fit(X_train, y_train, epochs=20, shuffle=False, batch_size=100, verbose=1)"
   ]
  },
  {
   "cell_type": "code",
   "execution_count": 20,
   "metadata": {},
   "outputs": [
    {
     "data": {
      "text/plain": [
       "0.021172283217310905"
      ]
     },
     "execution_count": 20,
     "metadata": {},
     "output_type": "execute_result"
    }
   ],
   "source": [
    "model.evaluate(X_test, y_test, verbose=0)"
   ]
  },
  {
   "cell_type": "code",
   "execution_count": 21,
   "metadata": {},
   "outputs": [],
   "source": [
    "predicted = model.predict(X_test)"
   ]
  },
  {
   "cell_type": "code",
   "execution_count": 22,
   "metadata": {},
   "outputs": [],
   "source": [
    "predicted_prices = y_train_scaler.inverse_transform(predicted)"
   ]
  },
  {
   "cell_type": "code",
   "execution_count": 23,
   "metadata": {},
   "outputs": [],
   "source": [
    "real_prices = y_train_scaler.inverse_transform(y_test.reshape(-1,1))"
   ]
  },
  {
   "cell_type": "code",
   "execution_count": 24,
   "metadata": {},
   "outputs": [
    {
     "data": {
      "text/html": [
       "<div>\n",
       "<style scoped>\n",
       "    .dataframe tbody tr th:only-of-type {\n",
       "        vertical-align: middle;\n",
       "    }\n",
       "\n",
       "    .dataframe tbody tr th {\n",
       "        vertical-align: top;\n",
       "    }\n",
       "\n",
       "    .dataframe thead th {\n",
       "        text-align: right;\n",
       "    }\n",
       "</style>\n",
       "<table border=\"1\" class=\"dataframe\">\n",
       "  <thead>\n",
       "    <tr style=\"text-align: right;\">\n",
       "      <th></th>\n",
       "      <th>Actual</th>\n",
       "      <th>Predicted</th>\n",
       "    </tr>\n",
       "    <tr>\n",
       "      <th>Date</th>\n",
       "      <th></th>\n",
       "      <th></th>\n",
       "    </tr>\n",
       "  </thead>\n",
       "  <tbody>\n",
       "    <tr>\n",
       "      <th>2017-08-23</th>\n",
       "      <td>153.10</td>\n",
       "      <td>156.556442</td>\n",
       "    </tr>\n",
       "    <tr>\n",
       "      <th>2017-08-24</th>\n",
       "      <td>152.38</td>\n",
       "      <td>155.887772</td>\n",
       "    </tr>\n",
       "    <tr>\n",
       "      <th>2017-08-25</th>\n",
       "      <td>151.80</td>\n",
       "      <td>155.320358</td>\n",
       "    </tr>\n",
       "    <tr>\n",
       "      <th>2017-08-28</th>\n",
       "      <td>152.10</td>\n",
       "      <td>154.838638</td>\n",
       "    </tr>\n",
       "    <tr>\n",
       "      <th>2017-08-29</th>\n",
       "      <td>152.71</td>\n",
       "      <td>154.446426</td>\n",
       "    </tr>\n",
       "  </tbody>\n",
       "</table>\n",
       "</div>"
      ],
      "text/plain": [
       "            Actual   Predicted\n",
       "Date                          \n",
       "2017-08-23  153.10  156.556442\n",
       "2017-08-24  152.38  155.887772\n",
       "2017-08-25  151.80  155.320358\n",
       "2017-08-28  152.10  154.838638\n",
       "2017-08-29  152.71  154.446426"
      ]
     },
     "execution_count": 24,
     "metadata": {},
     "output_type": "execute_result"
    }
   ],
   "source": [
    "stock_actual_predicted = pd.DataFrame({\n",
    "    \"Actual\": real_prices.ravel(),\n",
    "    \"Predicted\": predicted_prices.ravel()\n",
    "}, index = stock_df.index[-len(real_prices): ]) \n",
    "\n",
    "# Show the DataFrame's head\n",
    "stock_actual_predicted.head()"
   ]
  },
  {
   "cell_type": "code",
   "execution_count": 25,
   "metadata": {},
   "outputs": [
    {
     "data": {
      "text/html": [
       "<div>\n",
       "<style scoped>\n",
       "    .dataframe tbody tr th:only-of-type {\n",
       "        vertical-align: middle;\n",
       "    }\n",
       "\n",
       "    .dataframe tbody tr th {\n",
       "        vertical-align: top;\n",
       "    }\n",
       "\n",
       "    .dataframe thead th {\n",
       "        text-align: right;\n",
       "    }\n",
       "</style>\n",
       "<table border=\"1\" class=\"dataframe\">\n",
       "  <thead>\n",
       "    <tr style=\"text-align: right;\">\n",
       "      <th></th>\n",
       "      <th>Actual</th>\n",
       "      <th>Predicted</th>\n",
       "    </tr>\n",
       "    <tr>\n",
       "      <th>Date</th>\n",
       "      <th></th>\n",
       "      <th></th>\n",
       "    </tr>\n",
       "  </thead>\n",
       "  <tbody>\n",
       "    <tr>\n",
       "      <th>2021-06-21</th>\n",
       "      <td>233.00</td>\n",
       "      <td>226.669006</td>\n",
       "    </tr>\n",
       "    <tr>\n",
       "      <th>2021-06-22</th>\n",
       "      <td>235.89</td>\n",
       "      <td>225.363403</td>\n",
       "    </tr>\n",
       "    <tr>\n",
       "      <th>2021-06-23</th>\n",
       "      <td>237.01</td>\n",
       "      <td>223.981781</td>\n",
       "    </tr>\n",
       "    <tr>\n",
       "      <th>2021-06-24</th>\n",
       "      <td>238.00</td>\n",
       "      <td>222.672333</td>\n",
       "    </tr>\n",
       "    <tr>\n",
       "      <th>2021-06-25</th>\n",
       "      <td>239.11</td>\n",
       "      <td>221.539169</td>\n",
       "    </tr>\n",
       "  </tbody>\n",
       "</table>\n",
       "</div>"
      ],
      "text/plain": [
       "            Actual   Predicted\n",
       "Date                          \n",
       "2021-06-21  233.00  226.669006\n",
       "2021-06-22  235.89  225.363403\n",
       "2021-06-23  237.01  223.981781\n",
       "2021-06-24  238.00  222.672333\n",
       "2021-06-25  239.11  221.539169"
      ]
     },
     "execution_count": 25,
     "metadata": {},
     "output_type": "execute_result"
    }
   ],
   "source": [
    "stock_actual_predicted.tail()"
   ]
  },
  {
   "cell_type": "code",
   "execution_count": 26,
   "metadata": {},
   "outputs": [
    {
     "data": {
      "text/plain": [
       "<AxesSubplot:title={'center':'Cummins Stock Price Prediction Model'}, xlabel='Date', ylabel='Price'>"
      ]
     },
     "execution_count": 26,
     "metadata": {},
     "output_type": "execute_result"
    },
    {
     "data": {
      "image/png": "[encoded data removed]",
      "text/plain": [
       "<Figure size 1440x720 with 1 Axes>"
      ]
     },
     "metadata": {
      "needs_background": "light"
     },
     "output_type": "display_data"
    }
   ],
   "source": [
    "stock_actual_predicted.plot(figsize=(20,10), ylabel=\"Price\", title=stock_title)"
   ]
  },
  {
   "cell_type": "code",
   "execution_count": null,
   "metadata": {},
   "outputs": [],
   "source": []
  }
 ],
 "metadata": {
  "kernelspec": {
   "display_name": "Python 3",
   "language": "python",
   "name": "python3"
  },
  "language_info": {
   "codemirror_mode": {
    "name": "ipython",
    "version": 3
   },
   "file_extension": ".py",
   "mimetype": "text/x-python",
   "name": "python",
   "nbconvert_exporter": "python",
   "pygments_lexer": "ipython3",
   "version": "3.8.5"
  }
 },
 "nbformat": 4,
 "nbformat_minor": 5
}
